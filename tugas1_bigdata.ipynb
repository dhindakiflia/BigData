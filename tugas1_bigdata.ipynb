{
  "nbformat": 4,
  "nbformat_minor": 0,
  "metadata": {
    "colab": {
      "name": "tugas1_bigdata.ipynb",
      "provenance": []
    },
    "kernelspec": {
      "name": "python3",
      "display_name": "Python 3"
    },
    "language_info": {
      "name": "python"
    }
  },
  "cells": [
    {
      "cell_type": "markdown",
      "metadata": {
        "id": "2FCwgXTrOflk"
      },
      "source": [
        "%paste"
      ]
    },
    {
      "cell_type": "code",
      "metadata": {
        "colab": {
          "base_uri": "https://localhost:8080/"
        },
        "id": "qsEUU1QLNKn2",
        "outputId": "46713c97-0b46-40ae-b8a0-f65a643f57ce"
      },
      "source": [
        "%pastebin\n",
        "def donothing(x):\n",
        "  return(x)"
      ],
      "execution_count": 6,
      "outputs": [
        {
          "output_type": "stream",
          "text": [
            "'' was not found in history, as a file, url, nor in the user namespace.\n"
          ],
          "name": "stdout"
        }
      ]
    }
  ]
}