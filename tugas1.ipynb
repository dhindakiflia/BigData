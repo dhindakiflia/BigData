{
  "nbformat": 4,
  "nbformat_minor": 0,
  "metadata": {
    "colab": {
      "name": "tugas1.ipynb",
      "provenance": [],
      "collapsed_sections": [],
      "authorship_tag": "ABX9TyOv6RH0iuTo931onn5WiLTm",
      "include_colab_link": true
    },
    "kernelspec": {
      "name": "python3",
      "display_name": "Python 3"
    },
    "language_info": {
      "name": "python"
    }
  },
  "cells": [
    {
      "cell_type": "markdown",
      "metadata": {
        "id": "view-in-github",
        "colab_type": "text"
      },
      "source": [
        "<a href=\"https://colab.research.google.com/github/dhindakiflia/BigData/blob/main/tugas1.ipynb\" target=\"_parent\"><img src=\"https://colab.research.google.com/assets/colab-badge.svg\" alt=\"Open In Colab\"/></a>"
      ]
    },
    {
      "cell_type": "markdown",
      "metadata": {
        "id": "jxa45DIO5XCd"
      },
      "source": [
        "%**paste** digunakan untuk melakukan paste baris kodingan langsung dari clipboard. \n",
        "Melakukan paste dapat dilakukan lebih mudah dengan Ctrl+V . Tetapi jika menggunakan versi lama IPython, %paste masih berguna."
      ]
    },
    {
      "cell_type": "code",
      "metadata": {
        "id": "xp9jhlW15YiF"
      },
      "source": [
        "%paste"
      ],
      "execution_count": null,
      "outputs": []
    },
    {
      "cell_type": "markdown",
      "metadata": {
        "id": "C_tIAxX95eTj"
      },
      "source": [
        "%**cpaste** digunakan untuk melakukan paste sampai batas tertentu"
      ]
    },
    {
      "cell_type": "code",
      "metadata": {
        "id": "8zlv1b5J5pVr"
      },
      "source": [
        "%cpaste"
      ],
      "execution_count": null,
      "outputs": []
    },
    {
      "cell_type": "code",
      "metadata": {
        "id": "u5iTas4Jz2MK"
      },
      "source": [
        ">>> def donothing(x):\n",
        "...     return x*2"
      ],
      "execution_count": 103,
      "outputs": []
    },
    {
      "cell_type": "code",
      "metadata": {
        "colab": {
          "base_uri": "https://localhost:8080/"
        },
        "id": "K1E3bwC80YvS",
        "outputId": "10435937-7e63-467b-e444-1d436b420630"
      },
      "source": [
        "donothing(6)"
      ],
      "execution_count": 108,
      "outputs": [
        {
          "output_type": "execute_result",
          "data": {
            "text/plain": [
              "12"
            ]
          },
          "metadata": {
            "tags": []
          },
          "execution_count": 108
        }
      ]
    },
    {
      "cell_type": "markdown",
      "metadata": {
        "id": "hoxDpoZ86iU6"
      },
      "source": [
        "%**run** untuk menjalankan script pada file lain"
      ]
    },
    {
      "cell_type": "code",
      "metadata": {
        "colab": {
          "base_uri": "https://localhost:8080/"
        },
        "id": "KjS3Mib4AYK9",
        "outputId": "e78bc637-8dd0-45dc-97fa-0a41ba3a00da"
      },
      "source": [
        "%run '/content/sample_data/myscript.py'"
      ],
      "execution_count": null,
      "outputs": [
        {
          "output_type": "stream",
          "text": [
            "1 squared is 1\n",
            "2 squared is 4\n",
            "3 squared is 9\n"
          ],
          "name": "stdout"
        }
      ]
    },
    {
      "cell_type": "code",
      "metadata": {
        "colab": {
          "base_uri": "https://localhost:8080/"
        },
        "id": "i9Lyw7lEBPb4",
        "outputId": "6a372afc-9884-4a55-9359-8494437c0df5"
      },
      "source": [
        "square(5)"
      ],
      "execution_count": null,
      "outputs": [
        {
          "output_type": "execute_result",
          "data": {
            "text/plain": [
              "25"
            ]
          },
          "metadata": {
            "tags": []
          },
          "execution_count": 7
        }
      ]
    },
    {
      "cell_type": "markdown",
      "metadata": {
        "id": "mTMI2k74BWSo"
      },
      "source": [
        "%**timeit** secara otomatis akan menentukan waktu eksekusi dari script python"
      ]
    },
    {
      "cell_type": "code",
      "metadata": {
        "colab": {
          "base_uri": "https://localhost:8080/"
        },
        "id": "6PkCr8dQBm1R",
        "outputId": "59b548a5-867f-45c5-b93a-1894b25b249d"
      },
      "source": [
        "%timeit L = [n ** 2 for n in range(1000)]"
      ],
      "execution_count": null,
      "outputs": [
        {
          "output_type": "stream",
          "text": [
            "1000 loops, best of 5: 263 µs per loop\n"
          ],
          "name": "stdout"
        }
      ]
    },
    {
      "cell_type": "code",
      "metadata": {
        "colab": {
          "base_uri": "https://localhost:8080/"
        },
        "id": "EhRRg0kiB5iE",
        "outputId": "0bde177f-dbb0-4632-9227-a72846c66308"
      },
      "source": [
        "%%timeit\n",
        "L = []\n",
        "for n in range(1000):\n",
        "  L.append(n**2)"
      ],
      "execution_count": null,
      "outputs": [
        {
          "output_type": "stream",
          "text": [
            "1000 loops, best of 5: 308 µs per loop\n"
          ],
          "name": "stdout"
        }
      ]
    },
    {
      "cell_type": "markdown",
      "metadata": {
        "id": "Oc9wDVfFDOFF"
      },
      "source": [
        "%**magic** untuk mengakses deskripsi umum fungsi magic yang tersedia"
      ]
    },
    {
      "cell_type": "code",
      "metadata": {
        "id": "b7K0RqyZDhlk"
      },
      "source": [
        "%magic"
      ],
      "execution_count": 31,
      "outputs": []
    },
    {
      "cell_type": "markdown",
      "metadata": {
        "id": "YpQG99B3Rmag"
      },
      "source": [
        "%**lsmagic** untuk daftar cepat dan sederhana dari semua fungsi magic yang tersedia"
      ]
    },
    {
      "cell_type": "code",
      "metadata": {
        "colab": {
          "base_uri": "https://localhost:8080/",
          "height": 156
        },
        "id": "CpEtPBFdReGl",
        "outputId": "bf662cfc-c60a-4b46-bf30-3e7b9a680430"
      },
      "source": [
        "%lsmagic"
      ],
      "execution_count": 32,
      "outputs": [
        {
          "output_type": "execute_result",
          "data": {
            "application/json": {
              "cell": {
                "prun": "ExecutionMagics",
                "file": "Other",
                "!": "OSMagics",
                "capture": "ExecutionMagics",
                "timeit": "ExecutionMagics",
                "script": "ScriptMagics",
                "pypy": "Other",
                "system": "OSMagics",
                "perl": "Other",
                "html": "DisplayMagics",
                "bash": "Other",
                "shell": "Other",
                "HTML": "Other",
                "python": "Other",
                "SVG": "Other",
                "javascript": "DisplayMagics",
                "bigquery": "Other",
                "js": "DisplayMagics",
                "writefile": "OSMagics",
                "ruby": "Other",
                "python3": "Other",
                "python2": "Other",
                "latex": "DisplayMagics",
                "sx": "OSMagics",
                "svg": "DisplayMagics",
                "sh": "Other",
                "time": "ExecutionMagics",
                "debug": "ExecutionMagics"
              },
              "line": {
                "psource": "NamespaceMagics",
                "logstart": "LoggingMagics",
                "popd": "OSMagics",
                "tensorflow_version": "Other",
                "loadpy": "CodeMagics",
                "colors": "BasicMagics",
                "who_ls": "NamespaceMagics",
                "lf": "Other",
                "ll": "Other",
                "pprint": "BasicMagics",
                "lk": "Other",
                "ls": "Other",
                "save": "CodeMagics",
                "tb": "ExecutionMagics",
                "lx": "Other",
                "pylab": "PylabMagics",
                "killbgscripts": "ScriptMagics",
                "quickref": "BasicMagics",
                "magic": "BasicMagics",
                "dhist": "OSMagics",
                "edit": "KernelMagics",
                "logstop": "LoggingMagics",
                "gui": "BasicMagics",
                "prun": "ExecutionMagics",
                "debug": "ExecutionMagics",
                "page": "BasicMagics",
                "logstate": "LoggingMagics",
                "ed": "Other",
                "pushd": "OSMagics",
                "timeit": "ExecutionMagics",
                "set_env": "OSMagics",
                "rehashx": "OSMagics",
                "hist": "Other",
                "qtconsole": "KernelMagics",
                "rm": "Other",
                "dirs": "OSMagics",
                "run": "ExecutionMagics",
                "reset_selective": "NamespaceMagics",
                "pinfo2": "NamespaceMagics",
                "matplotlib": "PylabMagics",
                "unload_ext": "ExtensionMagics",
                "doctest_mode": "BasicMagics",
                "logoff": "LoggingMagics",
                "reload_ext": "ExtensionMagics",
                "pdb": "ExecutionMagics",
                "load": "CodeMagics",
                "lsmagic": "BasicMagics",
                "autosave": "KernelMagics",
                "cd": "OSMagics",
                "pastebin": "CodeMagics",
                "alias_magic": "BasicMagics",
                "cp": "Other",
                "autocall": "AutoMagics",
                "ldir": "Other",
                "bookmark": "OSMagics",
                "connect_info": "KernelMagics",
                "mkdir": "Other",
                "system": "OSMagics",
                "whos": "NamespaceMagics",
                "rmdir": "Other",
                "automagic": "AutoMagics",
                "store": "StoreMagics",
                "more": "KernelMagics",
                "shell": "Other",
                "pdef": "NamespaceMagics",
                "precision": "BasicMagics",
                "pinfo": "NamespaceMagics",
                "pwd": "OSMagics",
                "psearch": "NamespaceMagics",
                "reset": "NamespaceMagics",
                "recall": "HistoryMagics",
                "xdel": "NamespaceMagics",
                "xmode": "BasicMagics",
                "cat": "Other",
                "mv": "Other",
                "rerun": "HistoryMagics",
                "logon": "LoggingMagics",
                "history": "HistoryMagics",
                "pycat": "OSMagics",
                "pip": "Other",
                "unalias": "OSMagics",
                "env": "OSMagics",
                "load_ext": "ExtensionMagics",
                "config": "ConfigMagics",
                "profile": "BasicMagics",
                "pfile": "NamespaceMagics",
                "less": "KernelMagics",
                "who": "NamespaceMagics",
                "notebook": "BasicMagics",
                "man": "KernelMagics",
                "sx": "OSMagics",
                "macro": "ExecutionMagics",
                "clear": "KernelMagics",
                "alias": "OSMagics",
                "time": "ExecutionMagics",
                "sc": "OSMagics",
                "rep": "Other",
                "pdoc": "NamespaceMagics"
              }
            },
            "text/plain": [
              "Available line magics:\n",
              "%alias  %alias_magic  %autocall  %automagic  %autosave  %bookmark  %cat  %cd  %clear  %colors  %config  %connect_info  %cp  %debug  %dhist  %dirs  %doctest_mode  %ed  %edit  %env  %gui  %hist  %history  %killbgscripts  %ldir  %less  %lf  %lk  %ll  %load  %load_ext  %loadpy  %logoff  %logon  %logstart  %logstate  %logstop  %ls  %lsmagic  %lx  %macro  %magic  %man  %matplotlib  %mkdir  %more  %mv  %notebook  %page  %pastebin  %pdb  %pdef  %pdoc  %pfile  %pinfo  %pinfo2  %pip  %popd  %pprint  %precision  %profile  %prun  %psearch  %psource  %pushd  %pwd  %pycat  %pylab  %qtconsole  %quickref  %recall  %rehashx  %reload_ext  %rep  %rerun  %reset  %reset_selective  %rm  %rmdir  %run  %save  %sc  %set_env  %shell  %store  %sx  %system  %tb  %tensorflow_version  %time  %timeit  %unalias  %unload_ext  %who  %who_ls  %whos  %xdel  %xmode\n",
              "\n",
              "Available cell magics:\n",
              "%%!  %%HTML  %%SVG  %%bash  %%bigquery  %%capture  %%debug  %%file  %%html  %%javascript  %%js  %%latex  %%perl  %%prun  %%pypy  %%python  %%python2  %%python3  %%ruby  %%script  %%sh  %%shell  %%svg  %%sx  %%system  %%time  %%timeit  %%writefile\n",
              "\n",
              "Automagic is ON, % prefix IS NOT needed for line magics."
            ]
          },
          "metadata": {
            "tags": []
          },
          "execution_count": 32
        }
      ]
    },
    {
      "cell_type": "markdown",
      "metadata": {
        "id": "6WoLtY4XVEDQ"
      },
      "source": [
        "Objek **In** & **Out**"
      ]
    },
    {
      "cell_type": "code",
      "metadata": {
        "colab": {
          "base_uri": "https://localhost:8080/"
        },
        "id": "iDZXxQqvFjhu",
        "outputId": "33c23906-215b-48f1-cbb8-8b0a0cd94f3e"
      },
      "source": [
        "#example\n",
        "import math\n",
        "math.sin(2)"
      ],
      "execution_count": null,
      "outputs": [
        {
          "output_type": "execute_result",
          "data": {
            "text/plain": [
              "0.9092974268256817"
            ]
          },
          "metadata": {
            "tags": []
          },
          "execution_count": 16
        }
      ]
    },
    {
      "cell_type": "code",
      "metadata": {
        "colab": {
          "base_uri": "https://localhost:8080/"
        },
        "id": "RtK9m_yUF4WI",
        "outputId": "a9476580-3316-4997-b132-44867c3be08f"
      },
      "source": [
        "math.cos(2)"
      ],
      "execution_count": null,
      "outputs": [
        {
          "output_type": "execute_result",
          "data": {
            "text/plain": [
              "-0.4161468365471424"
            ]
          },
          "metadata": {
            "tags": []
          },
          "execution_count": 17
        }
      ]
    },
    {
      "cell_type": "markdown",
      "metadata": {
        "id": "Bpiox-ECVYRI"
      },
      "source": [
        "Objek **In** berupa daftar, yang melacak perintah secara berurutan"
      ]
    },
    {
      "cell_type": "code",
      "metadata": {
        "colab": {
          "base_uri": "https://localhost:8080/"
        },
        "id": "EPNx4nTLF6qg",
        "outputId": "a1f43084-efe8-4bc9-cebe-a763dd112259"
      },
      "source": [
        "print(In)"
      ],
      "execution_count": null,
      "outputs": [
        {
          "output_type": "stream",
          "text": [
            "['', \"get_ipython().magic('paste')\", \"get_ipython().magic('cpaste')\", \"get_ipython().magic('paste')\", \"get_ipython().magic('run myscript.py')\", \"get_ipython().magic('run myscript.py')\", 'get_ipython().magic(\"run \\'/content/sample_data/myscript.py\\'\")', 'square(5)', \"get_ipython().magic('timeit L = [n ** 2 for n in range(1000)]')\\n1000 loops, best of 3: 325 µs per loop\", \"get_ipython().magic('timeit L = [n ** 2 for n in range(1000)]')\", \"get_ipython().run_cell_magic('timeit', '', 'L = []\\\\nfor n in range(1000):\\\\n  L.append(n**2)')\", \"get_ipython().magic('magic')\", \"get_ipython().magic('pinfo %timeit')\", \"get_ipython().magic('timeit')\", \"get_ipython().magic('timeit')\", \"get_ipython().magic('lsmagic')\", 'import math\\nmath.sin(2)', 'math.cos(2)', 'print[In]', 'print(In)']\n"
          ],
          "name": "stdout"
        }
      ]
    },
    {
      "cell_type": "code",
      "metadata": {
        "colab": {
          "base_uri": "https://localhost:8080/"
        },
        "id": "s24zVqusGep0",
        "outputId": "7974205f-9a83-49f7-d907-769490debc56"
      },
      "source": [
        "print(In[16])"
      ],
      "execution_count": null,
      "outputs": [
        {
          "output_type": "stream",
          "text": [
            "import math\n",
            "math.sin(2)\n"
          ],
          "name": "stdout"
        }
      ]
    },
    {
      "cell_type": "markdown",
      "metadata": {
        "id": "FMSbVZ3yVhAd"
      },
      "source": [
        "Objek **Out** bukanlah daftar tetapi kamus yang memetakan nomor masukan ke keluarannya (jika ada)"
      ]
    },
    {
      "cell_type": "code",
      "metadata": {
        "colab": {
          "base_uri": "https://localhost:8080/"
        },
        "id": "swSAU5u5Gt9P",
        "outputId": "118251a7-d030-4fdb-d8e5-9cf13246d867"
      },
      "source": [
        "print(Out[16])"
      ],
      "execution_count": null,
      "outputs": [
        {
          "output_type": "stream",
          "text": [
            "0.9092974268256817\n"
          ],
          "name": "stdout"
        }
      ]
    },
    {
      "cell_type": "code",
      "metadata": {
        "colab": {
          "base_uri": "https://localhost:8080/"
        },
        "id": "weFd4VRqG2ZF",
        "outputId": "bc48625e-0359-4ee3-8e5e-e8315c3e5139"
      },
      "source": [
        "Out[16] ** 2 + Out[17] ** 2"
      ],
      "execution_count": null,
      "outputs": [
        {
          "output_type": "execute_result",
          "data": {
            "text/plain": [
              "1.0"
            ]
          },
          "metadata": {
            "tags": []
          },
          "execution_count": 23
        }
      ]
    },
    {
      "cell_type": "markdown",
      "metadata": {
        "id": "1BlyLc2KHcUw"
      },
      "source": [
        "Variabel **_** (yaitu, single underscore) terus diperbarui dengan hasil/output sebelumnya"
      ]
    },
    {
      "cell_type": "code",
      "metadata": {
        "colab": {
          "base_uri": "https://localhost:8080/"
        },
        "id": "Jsx2YbztHO70",
        "outputId": "02027f35-b767-4fd4-cf06-861287ff8c37"
      },
      "source": [
        "print(_)"
      ],
      "execution_count": null,
      "outputs": [
        {
          "output_type": "stream",
          "text": [
            "1.0\n"
          ],
          "name": "stdout"
        }
      ]
    },
    {
      "cell_type": "code",
      "metadata": {
        "colab": {
          "base_uri": "https://localhost:8080/"
        },
        "id": "u_rM9il_HidN",
        "outputId": "3afc7552-2c17-480d-99ee-b7bb39e715b6"
      },
      "source": [
        "print(__)"
      ],
      "execution_count": null,
      "outputs": [
        {
          "output_type": "stream",
          "text": [
            "-0.4161468365471424\n"
          ],
          "name": "stdout"
        }
      ]
    },
    {
      "cell_type": "code",
      "metadata": {
        "colab": {
          "base_uri": "https://localhost:8080/"
        },
        "id": "7fjGwvazHe_t",
        "outputId": "1c2f5b95-7195-4d1a-8764-8aab9de81ef9"
      },
      "source": [
        "print(___)"
      ],
      "execution_count": null,
      "outputs": [
        {
          "output_type": "stream",
          "text": [
            "0.9092974268256817\n"
          ],
          "name": "stdout"
        }
      ]
    },
    {
      "cell_type": "markdown",
      "metadata": {
        "id": "G8Jye3zBW2Mg"
      },
      "source": [
        "Lebih dari 3 single underscore akan agak sulit untuk dihitung, sehingga dapat digunakan cara lain yaitu dengan **_X**, dimana Out[**X**]"
      ]
    },
    {
      "cell_type": "code",
      "metadata": {
        "colab": {
          "base_uri": "https://localhost:8080/"
        },
        "id": "l5UFjDSHHsHw",
        "outputId": "fcadb238-108d-426a-9d65-58c1caecdf33"
      },
      "source": [
        "#example\n",
        "Out[16]"
      ],
      "execution_count": null,
      "outputs": [
        {
          "output_type": "execute_result",
          "data": {
            "text/plain": [
              "0.9092974268256817"
            ]
          },
          "metadata": {
            "tags": []
          },
          "execution_count": 30
        }
      ]
    },
    {
      "cell_type": "code",
      "metadata": {
        "colab": {
          "base_uri": "https://localhost:8080/"
        },
        "id": "7e0lVHO4HyWg",
        "outputId": "ed71c529-e50e-434a-e1c7-1a9269620cd8"
      },
      "source": [
        "_16"
      ],
      "execution_count": null,
      "outputs": [
        {
          "output_type": "execute_result",
          "data": {
            "text/plain": [
              "0.9092974268256817"
            ]
          },
          "metadata": {
            "tags": []
          },
          "execution_count": 32
        }
      ]
    },
    {
      "cell_type": "markdown",
      "metadata": {
        "id": "wQh7pzHpH4dD"
      },
      "source": [
        "Menambahkan tanda koma (**;**) di akhir statement dapat menyembunyikan output dari statement tersebut "
      ]
    },
    {
      "cell_type": "code",
      "metadata": {
        "id": "0kn_40rvH40Y"
      },
      "source": [
        "math.sin(16) + math.cos(16);"
      ],
      "execution_count": null,
      "outputs": []
    },
    {
      "cell_type": "code",
      "metadata": {
        "colab": {
          "base_uri": "https://localhost:8080/"
        },
        "id": "wQWhxP1-H6yn",
        "outputId": "13dc25ba-db56-4d78-c31d-42fedf086997"
      },
      "source": [
        "38 in Out"
      ],
      "execution_count": null,
      "outputs": [
        {
          "output_type": "execute_result",
          "data": {
            "text/plain": [
              "False"
            ]
          },
          "metadata": {
            "tags": []
          },
          "execution_count": 39
        }
      ]
    },
    {
      "cell_type": "markdown",
      "metadata": {
        "id": "wTauOPx0I1_H"
      },
      "source": [
        "%**history** untuk mengakses sekumpulan input sebelumnya sekaligus"
      ]
    },
    {
      "cell_type": "code",
      "metadata": {
        "colab": {
          "base_uri": "https://localhost:8080/"
        },
        "id": "9gC54S_ZH55d",
        "outputId": "7e319bdc-4cb0-4f52-f40d-357712d3556b"
      },
      "source": [
        "%history -n 16-20"
      ],
      "execution_count": null,
      "outputs": [
        {
          "output_type": "stream",
          "text": [
            "  16:\n",
            "import math\n",
            "math.sin(2)\n",
            "  17: math.cos(2)\n",
            "  18: print[In]\n",
            "  19: print(In)\n",
            "  20: print(In[16])\n"
          ],
          "name": "stdout"
        }
      ]
    },
    {
      "cell_type": "markdown",
      "metadata": {
        "id": "HuNH2c6CI2fb"
      },
      "source": [
        "Perintah apa pun yang berfungsi pada baris perintah dapat digunakan di IPython dengan mengawali dengan **!** karakter. Contoh: perintah **ls**, **pwd**, dan **echo** dapat dijalankan sebagai berikut"
      ]
    },
    {
      "cell_type": "code",
      "metadata": {
        "colab": {
          "base_uri": "https://localhost:8080/"
        },
        "id": "rlYmRrlgBIaq",
        "outputId": "3745c72b-9fd9-4b17-e59c-a44377d0613f"
      },
      "source": [
        "!ls"
      ],
      "execution_count": 13,
      "outputs": [
        {
          "output_type": "stream",
          "text": [
            "sample_data\n"
          ],
          "name": "stdout"
        }
      ]
    },
    {
      "cell_type": "code",
      "metadata": {
        "colab": {
          "base_uri": "https://localhost:8080/"
        },
        "id": "DW9LJFqdBx1d",
        "outputId": "fb914261-6c8c-4195-a444-f51172e13083"
      },
      "source": [
        "!pwd"
      ],
      "execution_count": 14,
      "outputs": [
        {
          "output_type": "stream",
          "text": [
            "/content\n"
          ],
          "name": "stdout"
        }
      ]
    },
    {
      "cell_type": "code",
      "metadata": {
        "colab": {
          "base_uri": "https://localhost:8080/"
        },
        "id": "5zvGg2DwB1IB",
        "outputId": "f72b9683-a6aa-4022-a6ac-452994feab49"
      },
      "source": [
        "!echo \"printing from the shell\""
      ],
      "execution_count": 15,
      "outputs": [
        {
          "output_type": "stream",
          "text": [
            "printing from the shell\n"
          ],
          "name": "stdout"
        }
      ]
    },
    {
      "cell_type": "markdown",
      "metadata": {
        "id": "c8yIIm9_Cf7P"
      },
      "source": [
        "Perintah shell dapat digunakan untuk berinteraksi dengan namespace IPython. Misalnya, Anda dapat menyimpan output dari perintah shell ke Python list menggunakan assignment operator"
      ]
    },
    {
      "cell_type": "code",
      "metadata": {
        "id": "hYkdMdXuCGGL"
      },
      "source": [
        "contents = !ls"
      ],
      "execution_count": 16,
      "outputs": []
    },
    {
      "cell_type": "code",
      "metadata": {
        "colab": {
          "base_uri": "https://localhost:8080/"
        },
        "id": "qkk9ykOiCg9G",
        "outputId": "94f55458-b3dd-4ada-e81d-dd79c45c7cb4"
      },
      "source": [
        "print(contents)"
      ],
      "execution_count": 18,
      "outputs": [
        {
          "output_type": "stream",
          "text": [
            "['sample_data']\n"
          ],
          "name": "stdout"
        }
      ]
    },
    {
      "cell_type": "code",
      "metadata": {
        "id": "3rPyhfEcCwM0"
      },
      "source": [
        "directory = !pwd"
      ],
      "execution_count": 19,
      "outputs": []
    },
    {
      "cell_type": "code",
      "metadata": {
        "colab": {
          "base_uri": "https://localhost:8080/"
        },
        "id": "mt3Muf6hCxiR",
        "outputId": "fa2b6366-0dfd-499d-d29f-790dac86d899"
      },
      "source": [
        "print(directory)"
      ],
      "execution_count": 20,
      "outputs": [
        {
          "output_type": "stream",
          "text": [
            "['/content']\n"
          ],
          "name": "stdout"
        }
      ]
    },
    {
      "cell_type": "code",
      "metadata": {
        "colab": {
          "base_uri": "https://localhost:8080/"
        },
        "id": "2EMWN5upC160",
        "outputId": "b33e3327-b9f6-4245-a8c8-6410e396c514"
      },
      "source": [
        " type(directory)"
      ],
      "execution_count": 21,
      "outputs": [
        {
          "output_type": "execute_result",
          "data": {
            "text/plain": [
              "IPython.utils.text.SList"
            ]
          },
          "metadata": {
            "tags": []
          },
          "execution_count": 21
        }
      ]
    },
    {
      "cell_type": "markdown",
      "metadata": {
        "id": "L0u6Q8vua00C"
      },
      "source": [
        "Selain cara di atas, kita juga dapat meneruskan variabel Python ke shell, menggunakan sintaks **{var name}**"
      ]
    },
    {
      "cell_type": "code",
      "metadata": {
        "id": "uXv-8u31C7Az"
      },
      "source": [
        "message = \"hello from Python\""
      ],
      "execution_count": 22,
      "outputs": []
    },
    {
      "cell_type": "code",
      "metadata": {
        "colab": {
          "base_uri": "https://localhost:8080/"
        },
        "id": "IhtICvV3C__4",
        "outputId": "0df35ddc-ce68-4467-a091-f01676d868cf"
      },
      "source": [
        "!echo {message}"
      ],
      "execution_count": 25,
      "outputs": [
        {
          "output_type": "stream",
          "text": [
            "hello from Python\n"
          ],
          "name": "stdout"
        }
      ]
    },
    {
      "cell_type": "markdown",
      "metadata": {
        "id": "3LN3OLWRcauk"
      },
      "source": [
        "%**cd** dapat digunakan untuk mengubah direktori "
      ]
    },
    {
      "cell_type": "code",
      "metadata": {
        "colab": {
          "base_uri": "https://localhost:8080/"
        },
        "id": "sSDj-yeSDPSg",
        "outputId": "76d84a39-6977-4c5c-a5e3-a8a251f26d11"
      },
      "source": [
        "%cd "
      ],
      "execution_count": 39,
      "outputs": [
        {
          "output_type": "stream",
          "text": [
            "/root\n"
          ],
          "name": "stdout"
        }
      ]
    },
    {
      "cell_type": "code",
      "metadata": {
        "colab": {
          "base_uri": "https://localhost:8080/"
        },
        "id": "bdvLyBRtdKWN",
        "outputId": "01764cca-a7d7-4955-83e0-1cde20ce5a02"
      },
      "source": [
        "cd ../content/"
      ],
      "execution_count": 40,
      "outputs": [
        {
          "output_type": "stream",
          "text": [
            "/content\n"
          ],
          "name": "stdout"
        }
      ]
    },
    {
      "cell_type": "markdown",
      "metadata": {
        "id": "n0uIRqnFdfAV"
      },
      "source": [
        "Selain %**cd**, fungsi ajaib seperti shell lainnya yang tersedia adalah %**cat**,%**cp**,%**env**,%**ls**,%**man**,%**mkdir**,%**more**,%**mv**,%**pwd**,%**rm**, dan %**rmdir**, yang dapat digunakan tanpa tanda **%** jika automagic aktif"
      ]
    },
    {
      "cell_type": "code",
      "metadata": {
        "id": "Ly_b-sspepCB"
      },
      "source": [
        "mkdir tmp"
      ],
      "execution_count": 41,
      "outputs": []
    },
    {
      "cell_type": "code",
      "metadata": {
        "colab": {
          "base_uri": "https://localhost:8080/"
        },
        "id": "SylYw27iequB",
        "outputId": "801ac4e7-a922-4318-f75f-3ca2f3a49868"
      },
      "source": [
        "ls"
      ],
      "execution_count": 43,
      "outputs": [
        {
          "output_type": "stream",
          "text": [
            "\u001b[0m\u001b[01;34msample_data\u001b[0m/  \u001b[01;34mtmp\u001b[0m/\n"
          ],
          "name": "stdout"
        }
      ]
    },
    {
      "cell_type": "code",
      "metadata": {
        "id": "zjVn_-aGex61"
      },
      "source": [
        "cp 'myscript.py' tmp/"
      ],
      "execution_count": 72,
      "outputs": []
    },
    {
      "cell_type": "code",
      "metadata": {
        "colab": {
          "base_uri": "https://localhost:8080/"
        },
        "id": "r_wXtIHTfd3Z",
        "outputId": "071b3d5c-78f4-400f-e3d7-f4d7cf90a7cd"
      },
      "source": [
        "ls tmp"
      ],
      "execution_count": 79,
      "outputs": [
        {
          "output_type": "stream",
          "text": [
            "myscript.py\n"
          ],
          "name": "stdout"
        }
      ]
    },
    {
      "cell_type": "code",
      "metadata": {
        "id": "b35ruhcqkmfs"
      },
      "source": [
        "rm -r tmp"
      ],
      "execution_count": 81,
      "outputs": []
    }
  ]
}