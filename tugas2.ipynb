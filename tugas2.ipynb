{
  "nbformat": 4,
  "nbformat_minor": 0,
  "metadata": {
    "colab": {
      "name": "tugas2",
      "provenance": [],
      "collapsed_sections": [],
      "authorship_tag": "ABX9TyPJR5aD5e5KZL4/zugiSYD6",
      "include_colab_link": true
    },
    "kernelspec": {
      "name": "python3",
      "display_name": "Python 3"
    },
    "language_info": {
      "name": "python"
    }
  },
  "cells": [
    {
      "cell_type": "markdown",
      "metadata": {
        "id": "view-in-github",
        "colab_type": "text"
      },
      "source": [
        "<a href=\"https://colab.research.google.com/github/dhindakiflia/BigData/blob/main/tugas2.ipynb\" target=\"_parent\"><img src=\"https://colab.research.google.com/assets/colab-badge.svg\" alt=\"Open In Colab\"/></a>"
      ]
    },
    {
      "cell_type": "markdown",
      "metadata": {
        "id": "YgXewNf9Kf5n"
      },
      "source": [
        "Untuk menggunakan library Numpy, kita harus mengimportnya terlebih dahulu.\n",
        "\n",
        "Kita juga dapat mengecek versi Numpy dengan cara berikut:"
      ]
    },
    {
      "cell_type": "code",
      "metadata": {
        "colab": {
          "base_uri": "https://localhost:8080/",
          "height": 35
        },
        "id": "ZTeL0_SfKF_0",
        "outputId": "9b38bc1f-6aae-4cfc-d858-c287c4a82c47"
      },
      "source": [
        "import numpy\n",
        "numpy.__version__"
      ],
      "execution_count": null,
      "outputs": [
        {
          "output_type": "execute_result",
          "data": {
            "application/vnd.google.colaboratory.intrinsic+json": {
              "type": "string"
            },
            "text/plain": [
              "'1.19.5'"
            ]
          },
          "metadata": {
            "tags": []
          },
          "execution_count": 1
        }
      ]
    },
    {
      "cell_type": "markdown",
      "metadata": {
        "id": "sL1-dBfVLVZm"
      },
      "source": [
        "Umumnya saat mengimport Numpy, orang-orang menggunakan alias np "
      ]
    },
    {
      "cell_type": "code",
      "metadata": {
        "id": "sTyfeRDtLULA"
      },
      "source": [
        "import numpy as np"
      ],
      "execution_count": null,
      "outputs": []
    },
    {
      "cell_type": "markdown",
      "metadata": {
        "id": "T_DoPhIAkHKQ"
      },
      "source": [
        "Tipe data pada python tidak perlu dideklarasikan seperti pada bahasa Java atau C.\n",
        "\n",
        "Jadi, kita dapat menetapkan jenis data apa pun ke variabel mana pun, seperti berikut ini:"
      ]
    },
    {
      "cell_type": "code",
      "metadata": {
        "colab": {
          "base_uri": "https://localhost:8080/"
        },
        "id": "jjwSevGJLzTF",
        "outputId": "76422473-f126-44f2-c235-002f370602f7"
      },
      "source": [
        "x = 4\n",
        "x = \"four\"\n",
        "\n",
        "print(x)"
      ],
      "execution_count": null,
      "outputs": [
        {
          "output_type": "stream",
          "text": [
            "four\n"
          ],
          "name": "stdout"
        }
      ]
    },
    {
      "cell_type": "markdown",
      "metadata": {
        "id": "OhJAtrJulIWz"
      },
      "source": [
        "Karena tipe pada Python yang dinamis, kita dapat membuat list int atau string dengan mudah, bahkan kita bisa membuat list yang memiliki tipe data yang berbeda-beda, seperti:"
      ]
    },
    {
      "cell_type": "code",
      "metadata": {
        "id": "eP6ZhfFvnVzy",
        "colab": {
          "base_uri": "https://localhost:8080/"
        },
        "outputId": "bfc062fb-0bcf-4ac9-a9f8-4f34b38190c5"
      },
      "source": [
        "#list int\n",
        "L = list(range(10))\n",
        "L"
      ],
      "execution_count": null,
      "outputs": [
        {
          "output_type": "execute_result",
          "data": {
            "text/plain": [
              "[0, 1, 2, 3, 4, 5, 6, 7, 8, 9]"
            ]
          },
          "metadata": {
            "tags": []
          },
          "execution_count": 2
        }
      ]
    },
    {
      "cell_type": "code",
      "metadata": {
        "colab": {
          "base_uri": "https://localhost:8080/"
        },
        "id": "8u8XRmcCBJZT",
        "outputId": "f625bb0e-0af9-44e5-e037-6755593a00a0"
      },
      "source": [
        "type(L[0])"
      ],
      "execution_count": null,
      "outputs": [
        {
          "output_type": "execute_result",
          "data": {
            "text/plain": [
              "int"
            ]
          },
          "metadata": {
            "tags": []
          },
          "execution_count": 6
        }
      ]
    },
    {
      "cell_type": "code",
      "metadata": {
        "id": "RB0yiAxLna46",
        "colab": {
          "base_uri": "https://localhost:8080/"
        },
        "outputId": "8aabca01-0c7c-4ffa-cd72-5e58677820e2"
      },
      "source": [
        "#list string\n",
        "L2 = [str(c) for c in L]\n",
        "L2"
      ],
      "execution_count": null,
      "outputs": [
        {
          "output_type": "execute_result",
          "data": {
            "text/plain": [
              "['0', '1', '2', '3', '4', '5', '6', '7', '8', '9']"
            ]
          },
          "metadata": {
            "tags": []
          },
          "execution_count": 3
        }
      ]
    },
    {
      "cell_type": "code",
      "metadata": {
        "colab": {
          "base_uri": "https://localhost:8080/"
        },
        "id": "Nud0OMcu7LGx",
        "outputId": "91e19a4b-5fcc-4fbf-cf6d-a69ec01a27cd"
      },
      "source": [
        "type(L2[0])"
      ],
      "execution_count": null,
      "outputs": [
        {
          "output_type": "execute_result",
          "data": {
            "text/plain": [
              "str"
            ]
          },
          "metadata": {
            "tags": []
          },
          "execution_count": 4
        }
      ]
    },
    {
      "cell_type": "code",
      "metadata": {
        "colab": {
          "base_uri": "https://localhost:8080/"
        },
        "id": "3X_8Zwbv7etT",
        "outputId": "a1dc20cd-c0bf-4fd1-d0e3-b3211869ba47"
      },
      "source": [
        "#list dengan tipe data berbeda\n",
        "L3 = [True, \"2\", 3.0, 4]\n",
        "[type(item) for item in L3]"
      ],
      "execution_count": null,
      "outputs": [
        {
          "output_type": "execute_result",
          "data": {
            "text/plain": [
              "[bool, str, float, int]"
            ]
          },
          "metadata": {
            "tags": []
          },
          "execution_count": 5
        }
      ]
    },
    {
      "cell_type": "markdown",
      "metadata": {
        "id": "034qkINfBP8G"
      },
      "source": [
        "Pada python kita juga dapat menentukan tipe tetap dari sebuah list, seperti berikut ini:"
      ]
    },
    {
      "cell_type": "code",
      "metadata": {
        "colab": {
          "base_uri": "https://localhost:8080/"
        },
        "id": "Od4E6YD8Ct-A",
        "outputId": "d5c04fdb-0489-4534-b06d-ccb3895b5134"
      },
      "source": [
        "import array\n",
        "L = list(range(10))\n",
        "A = array.array('i', L)\n",
        "A"
      ],
      "execution_count": null,
      "outputs": [
        {
          "output_type": "execute_result",
          "data": {
            "text/plain": [
              "array('i', [0, 1, 2, 3, 4, 5, 6, 7, 8, 9])"
            ]
          },
          "metadata": {
            "tags": []
          },
          "execution_count": 10
        }
      ]
    },
    {
      "cell_type": "markdown",
      "metadata": {
        "id": "q8RfHkneDZUv"
      },
      "source": [
        "'i' menunjukkan bahwa list tersebut bertipe data integer"
      ]
    },
    {
      "cell_type": "markdown",
      "metadata": {
        "id": "y7G2vmI8DgQu"
      },
      "source": [
        "Kita dapat menggunakan np.array untuk membuat array dari Python lists"
      ]
    },
    {
      "cell_type": "code",
      "metadata": {
        "colab": {
          "base_uri": "https://localhost:8080/"
        },
        "id": "WJJm9sYpE2bN",
        "outputId": "4adf8ef8-2ffd-4fca-a5a4-baf6f62cae9d"
      },
      "source": [
        "import numpy as np\n",
        "np.array([1,4,2,5,3])"
      ],
      "execution_count": null,
      "outputs": [
        {
          "output_type": "execute_result",
          "data": {
            "text/plain": [
              "array([1, 4, 2, 5, 3])"
            ]
          },
          "metadata": {
            "tags": []
          },
          "execution_count": 12
        }
      ]
    },
    {
      "cell_type": "markdown",
      "metadata": {
        "id": "_OBKZu0KFkuT"
      },
      "source": [
        "Tidak seperti Python lists, Numpy mengharuskan semua yang ada pada array memiliki tipe data yang sama. Sehingga, jika ada yang tidak sama, Numpy akan membuangnya. Pada contoh berikut ini, integer dibuang dan diganti menjadi float"
      ]
    },
    {
      "cell_type": "code",
      "metadata": {
        "colab": {
          "base_uri": "https://localhost:8080/"
        },
        "id": "SSAGyZ-3FECO",
        "outputId": "39a39a64-c0f4-447a-ea21-4f92ca0771ac"
      },
      "source": [
        "np.array([3.14, 4, 2, 3])"
      ],
      "execution_count": null,
      "outputs": [
        {
          "output_type": "execute_result",
          "data": {
            "text/plain": [
              "array([3.14, 4.  , 2.  , 3.  ])"
            ]
          },
          "metadata": {
            "tags": []
          },
          "execution_count": 15
        }
      ]
    },
    {
      "cell_type": "markdown",
      "metadata": {
        "id": "D-amTsU_Gs_7"
      },
      "source": [
        "Jika ingin mengeset tipe data dari hasil array, kita dapat menggunakan keyword dtype, seperti berikut ini:"
      ]
    },
    {
      "cell_type": "code",
      "metadata": {
        "colab": {
          "base_uri": "https://localhost:8080/"
        },
        "id": "w6K_LzzFICKO",
        "outputId": "f3ec9366-2d03-43fc-831b-bc84246f2eaf"
      },
      "source": [
        "np.array([1, 2, 3, 4], dtype='float32')"
      ],
      "execution_count": null,
      "outputs": [
        {
          "output_type": "execute_result",
          "data": {
            "text/plain": [
              "array([1., 2., 3., 4.], dtype=float32)"
            ]
          },
          "metadata": {
            "tags": []
          },
          "execution_count": 16
        }
      ]
    },
    {
      "cell_type": "markdown",
      "metadata": {
        "id": "pN6ln7CeIHZJ"
      },
      "source": [
        "Tidak seperti Python lists, Numpy array bisa menjadi multidimensional, berikut ini salah satu cara menginisialisasi array multidimensi menggunakan list of lists:"
      ]
    },
    {
      "cell_type": "code",
      "metadata": {
        "colab": {
          "base_uri": "https://localhost:8080/"
        },
        "id": "ypiEKOAoIuqQ",
        "outputId": "c5b485f6-1ff2-474e-ebd6-5a3cd5bbd6d1"
      },
      "source": [
        "# nested lists result in multidimensional arrays\n",
        "np.array([range(i, i + 3) for i in [2, 4, 6]])"
      ],
      "execution_count": null,
      "outputs": [
        {
          "output_type": "execute_result",
          "data": {
            "text/plain": [
              "array([[2, 3, 4],\n",
              "       [4, 5, 6],\n",
              "       [6, 7, 8]])"
            ]
          },
          "metadata": {
            "tags": []
          },
          "execution_count": 20
        }
      ]
    },
    {
      "cell_type": "markdown",
      "metadata": {
        "id": "MfGecCWfUxk1"
      },
      "source": [
        "Khusus untuk array dengan ukuran yang besar lebih efisien untuk membuat array dari scratch. Contoh:"
      ]
    },
    {
      "cell_type": "code",
      "metadata": {
        "colab": {
          "base_uri": "https://localhost:8080/"
        },
        "id": "2HX-dB29V3Lk",
        "outputId": "bee46967-da2a-4012-df18-a4fcdbd40830"
      },
      "source": [
        "#Membuat array yang berisi nilai 0\n",
        "np.zeros(10, dtype=int)"
      ],
      "execution_count": null,
      "outputs": [
        {
          "output_type": "execute_result",
          "data": {
            "text/plain": [
              "array([0, 0, 0, 0, 0, 0, 0, 0, 0, 0])"
            ]
          },
          "metadata": {
            "tags": []
          },
          "execution_count": 21
        }
      ]
    },
    {
      "cell_type": "code",
      "metadata": {
        "colab": {
          "base_uri": "https://localhost:8080/"
        },
        "id": "CVoOfxJMWD9Z",
        "outputId": "d873c5d2-f9d5-45b1-d761-2a9969143ab3"
      },
      "source": [
        "#Membuat array 3*5 yang berisi nilai 1\n",
        "np.ones((3, 5), dtype=float)"
      ],
      "execution_count": null,
      "outputs": [
        {
          "output_type": "execute_result",
          "data": {
            "text/plain": [
              "array([[1., 1., 1., 1., 1.],\n",
              "       [1., 1., 1., 1., 1.],\n",
              "       [1., 1., 1., 1., 1.]])"
            ]
          },
          "metadata": {
            "tags": []
          },
          "execution_count": 22
        }
      ]
    },
    {
      "cell_type": "code",
      "metadata": {
        "colab": {
          "base_uri": "https://localhost:8080/"
        },
        "id": "nN07dsXpWXWP",
        "outputId": "904e9a32-7670-4b7b-9b8c-c58c13c95b1b"
      },
      "source": [
        "#Membuat array 3*5 yang berisi nilai 3.14\n",
        "np.full((3, 5), 3.14)"
      ],
      "execution_count": null,
      "outputs": [
        {
          "output_type": "execute_result",
          "data": {
            "text/plain": [
              "array([[3.14, 3.14, 3.14, 3.14, 3.14],\n",
              "       [3.14, 3.14, 3.14, 3.14, 3.14],\n",
              "       [3.14, 3.14, 3.14, 3.14, 3.14]])"
            ]
          },
          "metadata": {
            "tags": []
          },
          "execution_count": 23
        }
      ]
    },
    {
      "cell_type": "code",
      "metadata": {
        "colab": {
          "base_uri": "https://localhost:8080/"
        },
        "id": "CPIXwZkkWimr",
        "outputId": "9c73f806-7f67-4463-e532-1e0699d33c84"
      },
      "source": [
        "#Membuat array mulai dari 0 sampai 20 dengan jaraknya 2\n",
        "np.arange(0, 20, 2)"
      ],
      "execution_count": null,
      "outputs": [
        {
          "output_type": "execute_result",
          "data": {
            "text/plain": [
              "array([ 0,  2,  4,  6,  8, 10, 12, 14, 16, 18])"
            ]
          },
          "metadata": {
            "tags": []
          },
          "execution_count": 24
        }
      ]
    },
    {
      "cell_type": "code",
      "metadata": {
        "colab": {
          "base_uri": "https://localhost:8080/"
        },
        "id": "bbzBdNykW2oX",
        "outputId": "45a8bdd6-4788-4b5f-a8b2-b7d7cad8c613"
      },
      "source": [
        "#membuat array dengan isi 5 buah dari rentang 0 sampai 1\n",
        "np.linspace(0, 1, 5)"
      ],
      "execution_count": null,
      "outputs": [
        {
          "output_type": "execute_result",
          "data": {
            "text/plain": [
              "array([0.  , 0.25, 0.5 , 0.75, 1.  ])"
            ]
          },
          "metadata": {
            "tags": []
          },
          "execution_count": 25
        }
      ]
    },
    {
      "cell_type": "code",
      "metadata": {
        "colab": {
          "base_uri": "https://localhost:8080/"
        },
        "id": "W-zRWTO_l1fU",
        "outputId": "ff091894-9421-4191-d60b-1f53520cb035"
      },
      "source": [
        "#Membuat array 3*3 dengan isi random 0-1\n",
        "np.random.random((3, 3))"
      ],
      "execution_count": null,
      "outputs": [
        {
          "output_type": "execute_result",
          "data": {
            "text/plain": [
              "array([[0.18658165, 0.3368338 , 0.85167268],\n",
              "       [0.012411  , 0.98230117, 0.23785238],\n",
              "       [0.72494087, 0.91045032, 0.93819122]])"
            ]
          },
          "metadata": {
            "tags": []
          },
          "execution_count": 26
        }
      ]
    },
    {
      "cell_type": "code",
      "metadata": {
        "colab": {
          "base_uri": "https://localhost:8080/"
        },
        "id": "htSznMtTl7TJ",
        "outputId": "4eecf369-1ade-4925-b6f6-8e651f59b5d2"
      },
      "source": [
        "#membuat array 3x3 dengan nilai acak terdistribusi normal dengan mean 0 dan deviasi standar 1\n",
        "np.random.normal(0, 1, (3, 3))"
      ],
      "execution_count": null,
      "outputs": [
        {
          "output_type": "execute_result",
          "data": {
            "text/plain": [
              "array([[ 1.69296177, -0.90330749,  2.12506241],\n",
              "       [-0.44870188,  0.0935084 ,  0.31662002],\n",
              "       [ 1.81423477,  1.04000267, -0.05455661]])"
            ]
          },
          "metadata": {
            "tags": []
          },
          "execution_count": 27
        }
      ]
    },
    {
      "cell_type": "code",
      "metadata": {
        "colab": {
          "base_uri": "https://localhost:8080/"
        },
        "id": "91OrcUtel_W5",
        "outputId": "6b48332b-14b9-4c9a-edf3-3ddaad9b0082"
      },
      "source": [
        "#memvuat array 3x3 dari bilangan bulat acak dalam interval [0, 10)\n",
        "np.random.randint(0, 10, (3, 3))"
      ],
      "execution_count": null,
      "outputs": [
        {
          "output_type": "execute_result",
          "data": {
            "text/plain": [
              "array([[1, 3, 3],\n",
              "       [8, 0, 9],\n",
              "       [4, 4, 6]])"
            ]
          },
          "metadata": {
            "tags": []
          },
          "execution_count": 28
        }
      ]
    },
    {
      "cell_type": "code",
      "metadata": {
        "colab": {
          "base_uri": "https://localhost:8080/"
        },
        "id": "TqPiptARmBFQ",
        "outputId": "b29157cf-d663-4f03-d38c-fb7161397f90"
      },
      "source": [
        "#membuat matrix identitas\n",
        "np.eye(3)"
      ],
      "execution_count": null,
      "outputs": [
        {
          "output_type": "execute_result",
          "data": {
            "text/plain": [
              "array([[1., 0., 0.],\n",
              "       [0., 1., 0.],\n",
              "       [0., 0., 1.]])"
            ]
          },
          "metadata": {
            "tags": []
          },
          "execution_count": 29
        }
      ]
    },
    {
      "cell_type": "code",
      "metadata": {
        "colab": {
          "base_uri": "https://localhost:8080/"
        },
        "id": "aaSQuwOQmGKv",
        "outputId": "b2c27400-4408-4f86-9630-1b0907e313e2"
      },
      "source": [
        "#membuat array tiga bilangan bulat yang tidak diinisialisasi\n",
        "#Nilai akan menjadi apa pun yang sudah ada di lokasi memori\n",
        "np.empty(3)"
      ],
      "execution_count": null,
      "outputs": [
        {
          "output_type": "execute_result",
          "data": {
            "text/plain": [
              "array([1., 1., 1.])"
            ]
          },
          "metadata": {
            "tags": []
          },
          "execution_count": 30
        }
      ]
    },
    {
      "cell_type": "markdown",
      "metadata": {
        "id": "Z4iUy6m43_Us"
      },
      "source": [
        "![Screenshot 2021-04-18 143245.png](data:image/png;base64,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)\n",
        "\n",
        "Tipe data NumPy standar tercantum dalam Tabel 2-1. Saat membuat array kita dapat menentukannya menggunakan string:"
      ]
    },
    {
      "cell_type": "code",
      "metadata": {
        "colab": {
          "base_uri": "https://localhost:8080/"
        },
        "id": "Xz4nmy9K59GR",
        "outputId": "beda17fe-1f21-49b5-d257-e3d8fcfae022"
      },
      "source": [
        "np.zeros(10, dtype='int16')"
      ],
      "execution_count": null,
      "outputs": [
        {
          "output_type": "execute_result",
          "data": {
            "text/plain": [
              "array([0, 0, 0, 0, 0, 0, 0, 0, 0, 0], dtype=int16)"
            ]
          },
          "metadata": {
            "tags": []
          },
          "execution_count": 31
        }
      ]
    },
    {
      "cell_type": "code",
      "metadata": {
        "colab": {
          "base_uri": "https://localhost:8080/"
        },
        "id": "qkEMsA_S6Me4",
        "outputId": "10ba540c-b7f2-4bd8-feaa-6579010d8d9b"
      },
      "source": [
        "#atau menggunakan associated NumPy object\n",
        "np.zeros(10, dtype=np.int16)"
      ],
      "execution_count": null,
      "outputs": [
        {
          "output_type": "execute_result",
          "data": {
            "text/plain": [
              "array([0, 0, 0, 0, 0, 0, 0, 0, 0, 0], dtype=int16)"
            ]
          },
          "metadata": {
            "tags": []
          },
          "execution_count": 32
        }
      ]
    },
    {
      "cell_type": "markdown",
      "metadata": {
        "id": "enqT6_t76cXx"
      },
      "source": [
        "**Atribut Array NumPy**"
      ]
    },
    {
      "cell_type": "code",
      "metadata": {
        "id": "vC7-jSTT66RC"
      },
      "source": [
        "import numpy as np\n",
        "np.random.seed(0) # seed for reproducibility\n",
        "x1 = np.random.randint(10, size=6) # One-dimensional array\n",
        "x2 = np.random.randint(10, size=(3, 4)) # Two-dimensional array\n",
        "x3 = np.random.randint(10, size=(3, 4, 5)) # Three-dimensional array"
      ],
      "execution_count": null,
      "outputs": []
    },
    {
      "cell_type": "markdown",
      "metadata": {
        "id": "jXX0e4LK7nr2"
      },
      "source": [
        "Setiap array memiliki atribut :\n",
        "\n",
        "\n",
        "1. ndim = jumlah dimensi\n",
        "2. shape = ukuran tiap dimensi\n",
        "3. size = total ukuran dari array\n",
        "\n"
      ]
    },
    {
      "cell_type": "code",
      "metadata": {
        "colab": {
          "base_uri": "https://localhost:8080/"
        },
        "id": "STT5kHmk6-7_",
        "outputId": "5b03a53b-57fc-4578-e4a4-e18d0da46118"
      },
      "source": [
        "print(\"x3 ndim: \", x3.ndim)\n",
        "print(\"x3 shape:\", x3.shape)\n",
        "print(\"x3 size: \", x3.size)"
      ],
      "execution_count": null,
      "outputs": [
        {
          "output_type": "stream",
          "text": [
            "x3 ndim:  3\n",
            "x3 shape: (3, 4, 5)\n",
            "x3 size:  60\n"
          ],
          "name": "stdout"
        }
      ]
    },
    {
      "cell_type": "markdown",
      "metadata": {
        "id": "XalKE9ff9D0E"
      },
      "source": [
        "atribut lainnya adalah **dtype** digunakan untuk mengetahui tipe data dari array"
      ]
    },
    {
      "cell_type": "code",
      "metadata": {
        "colab": {
          "base_uri": "https://localhost:8080/"
        },
        "id": "bV-HSoUJ7Ima",
        "outputId": "51dc67eb-5461-4872-b61c-aeb241977898"
      },
      "source": [
        "print(\"dtype:\", x3.dtype)"
      ],
      "execution_count": null,
      "outputs": [
        {
          "output_type": "stream",
          "text": [
            "dtype: int64\n"
          ],
          "name": "stdout"
        }
      ]
    },
    {
      "cell_type": "markdown",
      "metadata": {
        "id": "dc0uwZbK90lB"
      },
      "source": [
        "Atribut lain termasuk itemsize, yang mencantumkan ukuran (dalam byte) dari setiap elemen array, dan nbytes, yang mencantumkan ukuran total (dalam byte) dari array:"
      ]
    },
    {
      "cell_type": "code",
      "metadata": {
        "colab": {
          "base_uri": "https://localhost:8080/"
        },
        "id": "91oyBSmi7MTx",
        "outputId": "4b14f710-35b2-49ce-faff-3611c0c74a90"
      },
      "source": [
        "print(\"itemsize:\", x3.itemsize, \"bytes\")\n",
        "print(\"nbytes:\", x3.nbytes, \"bytes\")"
      ],
      "execution_count": null,
      "outputs": [
        {
          "output_type": "stream",
          "text": [
            "itemsize: 8 bytes\n",
            "nbytes: 480 bytes\n"
          ],
          "name": "stdout"
        }
      ]
    },
    {
      "cell_type": "markdown",
      "metadata": {
        "id": "_uN9NLn--c_F"
      },
      "source": [
        "Pada array satu dimensi, kita dapat mengakses nilai ke-i menggunakan index [ ]"
      ]
    },
    {
      "cell_type": "code",
      "metadata": {
        "colab": {
          "base_uri": "https://localhost:8080/"
        },
        "id": "jmvw4nYC_Mf3",
        "outputId": "3fdc64b9-f1a6-4b44-8369-c0d0b7201633"
      },
      "source": [
        "x1"
      ],
      "execution_count": null,
      "outputs": [
        {
          "output_type": "execute_result",
          "data": {
            "text/plain": [
              "array([5, 0, 3, 3, 7, 9])"
            ]
          },
          "metadata": {
            "tags": []
          },
          "execution_count": 48
        }
      ]
    },
    {
      "cell_type": "code",
      "metadata": {
        "colab": {
          "base_uri": "https://localhost:8080/"
        },
        "id": "VuNsVJ2j_R5F",
        "outputId": "53d0ef34-efae-44b3-d70e-06289a5b4f85"
      },
      "source": [
        "x1[0]"
      ],
      "execution_count": null,
      "outputs": [
        {
          "output_type": "execute_result",
          "data": {
            "text/plain": [
              "5"
            ]
          },
          "metadata": {
            "tags": []
          },
          "execution_count": 49
        }
      ]
    },
    {
      "cell_type": "code",
      "metadata": {
        "colab": {
          "base_uri": "https://localhost:8080/"
        },
        "id": "Lg7U35Gh_VIB",
        "outputId": "b9e112b5-7c91-4443-9a2e-efc2f3e8daac"
      },
      "source": [
        "x1[4]"
      ],
      "execution_count": null,
      "outputs": [
        {
          "output_type": "execute_result",
          "data": {
            "text/plain": [
              "7"
            ]
          },
          "metadata": {
            "tags": []
          },
          "execution_count": 50
        }
      ]
    },
    {
      "cell_type": "markdown",
      "metadata": {
        "id": "izRxttHb_XbG"
      },
      "source": [
        "Untuk index terakhir dapat digunakan  index negatif"
      ]
    },
    {
      "cell_type": "code",
      "metadata": {
        "colab": {
          "base_uri": "https://localhost:8080/"
        },
        "id": "RM58Ut3o_jhP",
        "outputId": "8ff14905-55fa-4aa1-a1e0-44cc259d1c53"
      },
      "source": [
        "x1[-1]"
      ],
      "execution_count": null,
      "outputs": [
        {
          "output_type": "execute_result",
          "data": {
            "text/plain": [
              "9"
            ]
          },
          "metadata": {
            "tags": []
          },
          "execution_count": 51
        }
      ]
    },
    {
      "cell_type": "code",
      "metadata": {
        "colab": {
          "base_uri": "https://localhost:8080/"
        },
        "id": "8hDqzLvu_mgG",
        "outputId": "6ff04c3e-0059-4ccb-bab1-727bff1b0876"
      },
      "source": [
        "x1[-2]"
      ],
      "execution_count": null,
      "outputs": [
        {
          "output_type": "execute_result",
          "data": {
            "text/plain": [
              "7"
            ]
          },
          "metadata": {
            "tags": []
          },
          "execution_count": 52
        }
      ]
    },
    {
      "cell_type": "markdown",
      "metadata": {
        "id": "AIY830P4_o6B"
      },
      "source": [
        "Pada array multidimensional, dapat digunakan (,) untuk menentukan index, seperti berikut:"
      ]
    },
    {
      "cell_type": "code",
      "metadata": {
        "colab": {
          "base_uri": "https://localhost:8080/"
        },
        "id": "aP_VQa8n_5gj",
        "outputId": "0480be17-3f1c-4f60-9cfa-96f095b35136"
      },
      "source": [
        "x2"
      ],
      "execution_count": null,
      "outputs": [
        {
          "output_type": "execute_result",
          "data": {
            "text/plain": [
              "array([[3, 5, 2, 4],\n",
              "       [7, 6, 8, 8],\n",
              "       [1, 6, 7, 7]])"
            ]
          },
          "metadata": {
            "tags": []
          },
          "execution_count": 53
        }
      ]
    },
    {
      "cell_type": "code",
      "metadata": {
        "colab": {
          "base_uri": "https://localhost:8080/"
        },
        "id": "Y85L9Irb_7Wr",
        "outputId": "a3ce8943-40e7-4a0b-bd1e-db562257c900"
      },
      "source": [
        "#baris 1 ,kolom 1\n",
        "x2[0,0]"
      ],
      "execution_count": null,
      "outputs": [
        {
          "output_type": "execute_result",
          "data": {
            "text/plain": [
              "3"
            ]
          },
          "metadata": {
            "tags": []
          },
          "execution_count": 55
        }
      ]
    },
    {
      "cell_type": "code",
      "metadata": {
        "colab": {
          "base_uri": "https://localhost:8080/"
        },
        "id": "Dl2cWBgZAA7N",
        "outputId": "53a92ff2-2102-4877-d427-f1a57e1c4926"
      },
      "source": [
        "#baris 3, kolom 1\n",
        "x2[2,0]"
      ],
      "execution_count": null,
      "outputs": [
        {
          "output_type": "execute_result",
          "data": {
            "text/plain": [
              "1"
            ]
          },
          "metadata": {
            "tags": []
          },
          "execution_count": 59
        }
      ]
    },
    {
      "cell_type": "code",
      "metadata": {
        "colab": {
          "base_uri": "https://localhost:8080/"
        },
        "id": "cVApTg4fAH4P",
        "outputId": "42efe9fd-4b11-4cfc-cd90-4d702537946b"
      },
      "source": [
        "#baris 3, kolom terakhir (3)\n",
        "x2[2,-1]"
      ],
      "execution_count": null,
      "outputs": [
        {
          "output_type": "execute_result",
          "data": {
            "text/plain": [
              "7"
            ]
          },
          "metadata": {
            "tags": []
          },
          "execution_count": 60
        }
      ]
    },
    {
      "cell_type": "markdown",
      "metadata": {
        "id": "GCPXugAnAiQb"
      },
      "source": [
        "Kita juga dapat mengedit nilai dengan bantuan index"
      ]
    },
    {
      "cell_type": "code",
      "metadata": {
        "colab": {
          "base_uri": "https://localhost:8080/"
        },
        "id": "EgLJEHiIAMOi",
        "outputId": "11cb3036-d0d9-49c8-cbac-710c1d539379"
      },
      "source": [
        "x2[0,0] = 12\n",
        "x2"
      ],
      "execution_count": null,
      "outputs": [
        {
          "output_type": "execute_result",
          "data": {
            "text/plain": [
              "array([[12,  5,  2,  4],\n",
              "       [ 7,  6,  8,  8],\n",
              "       [ 1,  6,  7,  7]])"
            ]
          },
          "metadata": {
            "tags": []
          },
          "execution_count": 3
        }
      ]
    },
    {
      "cell_type": "markdown",
      "metadata": {
        "id": "fVnwHnogBOSm"
      },
      "source": [
        "Array NumPy memiliki fixed type.\n",
        "Jika kita menambahkan nilai bertipe data float ke array integer maka nilainya akan dipotong."
      ]
    },
    {
      "cell_type": "code",
      "metadata": {
        "colab": {
          "base_uri": "https://localhost:8080/"
        },
        "id": "8Q65XGy5Au0x",
        "outputId": "9119e645-e09a-47d2-f0d9-9e0389b0e167"
      },
      "source": [
        " x1[0] = 3.14159\n",
        " x1"
      ],
      "execution_count": null,
      "outputs": [
        {
          "output_type": "execute_result",
          "data": {
            "text/plain": [
              "array([3, 0, 3, 3, 7, 9])"
            ]
          },
          "metadata": {
            "tags": []
          },
          "execution_count": 63
        }
      ]
    },
    {
      "cell_type": "markdown",
      "metadata": {
        "id": "OBrOVwl3Bm_F"
      },
      "source": [
        "**Array Slicing**\n",
        "\n",
        "```\n",
        "x[start:stop:step]\n",
        "```\n",
        "\n"
      ]
    },
    {
      "cell_type": "markdown",
      "metadata": {
        "id": "p4NEDLbGBuDB"
      },
      "source": [
        "**Subarrays Satu Dimensi**"
      ]
    },
    {
      "cell_type": "code",
      "metadata": {
        "colab": {
          "base_uri": "https://localhost:8080/"
        },
        "id": "uKs3t3IKBvhZ",
        "outputId": "9e7949e3-f0ed-4862-a671-9d6583debb5a"
      },
      "source": [
        "x = np.arange(10)\n",
        "x"
      ],
      "execution_count": null,
      "outputs": [
        {
          "output_type": "execute_result",
          "data": {
            "text/plain": [
              "array([0, 1, 2, 3, 4, 5, 6, 7, 8, 9])"
            ]
          },
          "metadata": {
            "tags": []
          },
          "execution_count": 66
        }
      ]
    },
    {
      "cell_type": "code",
      "metadata": {
        "colab": {
          "base_uri": "https://localhost:8080/"
        },
        "id": "UhtNdQfNCLe2",
        "outputId": "5d3ecd0a-f64c-4bdb-c0eb-6c9c09fd43cc"
      },
      "source": [
        "x[:5] # 5 elemen pertama"
      ],
      "execution_count": null,
      "outputs": [
        {
          "output_type": "execute_result",
          "data": {
            "text/plain": [
              "array([0, 1, 2, 3, 4])"
            ]
          },
          "metadata": {
            "tags": []
          },
          "execution_count": 67
        }
      ]
    },
    {
      "cell_type": "code",
      "metadata": {
        "colab": {
          "base_uri": "https://localhost:8080/"
        },
        "id": "KBpxEP7dDGsS",
        "outputId": "6c00f1f4-2ebb-41a8-b08a-3cc8ca608cca"
      },
      "source": [
        " x[5:] # elemen setelah indeks-5"
      ],
      "execution_count": null,
      "outputs": [
        {
          "output_type": "execute_result",
          "data": {
            "text/plain": [
              "array([5, 6, 7, 8, 9])"
            ]
          },
          "metadata": {
            "tags": []
          },
          "execution_count": 68
        }
      ]
    },
    {
      "cell_type": "code",
      "metadata": {
        "colab": {
          "base_uri": "https://localhost:8080/"
        },
        "id": "bwQChC0hDHgV",
        "outputId": "81bcb5a6-f1eb-4231-add8-d0b08b76e344"
      },
      "source": [
        "x[4:7] # pertengahan subarray"
      ],
      "execution_count": null,
      "outputs": [
        {
          "output_type": "execute_result",
          "data": {
            "text/plain": [
              "array([4, 5, 6])"
            ]
          },
          "metadata": {
            "tags": []
          },
          "execution_count": 69
        }
      ]
    },
    {
      "cell_type": "code",
      "metadata": {
        "colab": {
          "base_uri": "https://localhost:8080/"
        },
        "id": "AiJmDbRrDOYa",
        "outputId": "5e3566ec-fcb8-4a9d-f529-c4ce26010569"
      },
      "source": [
        "x[::2] # setiap elemen kelipatan 2"
      ],
      "execution_count": null,
      "outputs": [
        {
          "output_type": "execute_result",
          "data": {
            "text/plain": [
              "array([0, 2, 4, 6, 8])"
            ]
          },
          "metadata": {
            "tags": []
          },
          "execution_count": 70
        }
      ]
    },
    {
      "cell_type": "code",
      "metadata": {
        "colab": {
          "base_uri": "https://localhost:8080/"
        },
        "id": "waK_Bt97DQnp",
        "outputId": "3f46ca74-78a2-442b-ef61-c10726d2db5b"
      },
      "source": [
        "x[1::2] # setiap elemen kelipatan 2, mulai dari index 1"
      ],
      "execution_count": null,
      "outputs": [
        {
          "output_type": "execute_result",
          "data": {
            "text/plain": [
              "array([1, 3, 5, 7, 9])"
            ]
          },
          "metadata": {
            "tags": []
          },
          "execution_count": 71
        }
      ]
    },
    {
      "cell_type": "markdown",
      "metadata": {
        "id": "LBnUMuQ9IQLB"
      },
      "source": [
        "Saat menggunakan index negatif maka menjadi\n",
        "```\n",
        "x[stop:start:step]\n",
        "```\n",
        "\n"
      ]
    },
    {
      "cell_type": "code",
      "metadata": {
        "colab": {
          "base_uri": "https://localhost:8080/"
        },
        "id": "14C4lsMuIk3q",
        "outputId": "de2b5813-9e22-4efc-f54a-686bc9c22375"
      },
      "source": [
        "x[::-1] # semua elemen ,dibalik"
      ],
      "execution_count": null,
      "outputs": [
        {
          "output_type": "execute_result",
          "data": {
            "text/plain": [
              "array([9, 8, 7, 6, 5, 4, 3, 2, 1, 0])"
            ]
          },
          "metadata": {
            "tags": []
          },
          "execution_count": 72
        }
      ]
    },
    {
      "cell_type": "code",
      "metadata": {
        "colab": {
          "base_uri": "https://localhost:8080/"
        },
        "id": "c5gGk007IqLl",
        "outputId": "962e02bb-e6b9-4944-c40b-a023dc40ec27"
      },
      "source": [
        "x[5::-2] # elemen dibalik dari index ke 5"
      ],
      "execution_count": null,
      "outputs": [
        {
          "output_type": "execute_result",
          "data": {
            "text/plain": [
              "array([5, 3, 1])"
            ]
          },
          "metadata": {
            "tags": []
          },
          "execution_count": 73
        }
      ]
    },
    {
      "cell_type": "markdown",
      "metadata": {
        "id": "3xvegQAjJTN5"
      },
      "source": [
        "**Subarray Multidimensi**\n",
        "\n",
        "Pada multidimensi digunakan (,) sebagai pemisah"
      ]
    },
    {
      "cell_type": "code",
      "metadata": {
        "colab": {
          "base_uri": "https://localhost:8080/"
        },
        "id": "ftoO6S91Ip5_",
        "outputId": "27f7c4d4-1725-434f-92fa-46b1fa68c094"
      },
      "source": [
        "x2"
      ],
      "execution_count": null,
      "outputs": [
        {
          "output_type": "execute_result",
          "data": {
            "text/plain": [
              "array([[12,  5,  2,  4],\n",
              "       [ 7,  6,  8,  8],\n",
              "       [ 1,  6,  7,  7]])"
            ]
          },
          "metadata": {
            "tags": []
          },
          "execution_count": 74
        }
      ]
    },
    {
      "cell_type": "code",
      "metadata": {
        "colab": {
          "base_uri": "https://localhost:8080/"
        },
        "id": "Q5nrD8REJqeh",
        "outputId": "8202f050-5d0a-4505-bd7a-a24c2227e7bb"
      },
      "source": [
        "x2[:2, :3] # 2 baris, 3 kolom"
      ],
      "execution_count": null,
      "outputs": [
        {
          "output_type": "execute_result",
          "data": {
            "text/plain": [
              "array([[12,  5,  2],\n",
              "       [ 7,  6,  8]])"
            ]
          },
          "metadata": {
            "tags": []
          },
          "execution_count": 75
        }
      ]
    },
    {
      "cell_type": "code",
      "metadata": {
        "colab": {
          "base_uri": "https://localhost:8080/"
        },
        "id": "3dgWnA9tKCNY",
        "outputId": "669ad32d-87b5-4755-d09c-3f4b42611257"
      },
      "source": [
        "x2[:3, ::2] # all rows, every other column"
      ],
      "execution_count": null,
      "outputs": [
        {
          "output_type": "execute_result",
          "data": {
            "text/plain": [
              "array([[12,  2],\n",
              "       [ 7,  8],\n",
              "       [ 1,  7]])"
            ]
          },
          "metadata": {
            "tags": []
          },
          "execution_count": 79
        }
      ]
    },
    {
      "cell_type": "code",
      "metadata": {
        "colab": {
          "base_uri": "https://localhost:8080/"
        },
        "id": "67fpW8AuKvyj",
        "outputId": "63f63569-a707-4aec-cfa9-11df307ddb57"
      },
      "source": [
        "x2[::-1, ::-1]"
      ],
      "execution_count": null,
      "outputs": [
        {
          "output_type": "execute_result",
          "data": {
            "text/plain": [
              "array([[ 7,  7,  6,  1],\n",
              "       [ 8,  8,  6,  7],\n",
              "       [ 4,  2,  5, 12]])"
            ]
          },
          "metadata": {
            "tags": []
          },
          "execution_count": 80
        }
      ]
    },
    {
      "cell_type": "markdown",
      "metadata": {
        "id": "B0ssSgw3Kz9J"
      },
      "source": [
        "**Mengakses baris dan kolom array**\n",
        "\n",
        "Kita dapat melakukannya dengan menggabungkan pengindeksan dan pemotongan, menggunakan irisan kosong yang ditandai dengan (:)"
      ]
    },
    {
      "cell_type": "code",
      "metadata": {
        "colab": {
          "base_uri": "https://localhost:8080/"
        },
        "id": "YlRupRcULOiF",
        "outputId": "02be6b6a-33a5-4ed4-bbf8-55c561183842"
      },
      "source": [
        "print(x2[:, 0]) # kolom pertama dari x2"
      ],
      "execution_count": null,
      "outputs": [
        {
          "output_type": "stream",
          "text": [
            "[12  7  1]\n"
          ],
          "name": "stdout"
        }
      ]
    },
    {
      "cell_type": "code",
      "metadata": {
        "colab": {
          "base_uri": "https://localhost:8080/"
        },
        "id": "eKrvzY5fLWqz",
        "outputId": "2d33b000-0519-4556-e5a8-5ea2c3ab3978"
      },
      "source": [
        "print(x2[0, :]) # baris pertama dari x2"
      ],
      "execution_count": null,
      "outputs": [
        {
          "output_type": "stream",
          "text": [
            "[12  5  2  4]\n"
          ],
          "name": "stdout"
        }
      ]
    },
    {
      "cell_type": "code",
      "metadata": {
        "colab": {
          "base_uri": "https://localhost:8080/"
        },
        "id": "y-0YZ9P8MCsO",
        "outputId": "90ecedb6-ddb2-42b7-d0dd-4b32459e1306"
      },
      "source": [
        "print(x2[0]) # penulisan yg lebih singkat, sama dengan x2[0, :]"
      ],
      "execution_count": null,
      "outputs": [
        {
          "output_type": "stream",
          "text": [
            "[12  5  2  4]\n"
          ],
          "name": "stdout"
        }
      ]
    },
    {
      "cell_type": "markdown",
      "metadata": {
        "id": "2axxsS0-BesH"
      },
      "source": [
        "**Subarray sebagai tampilan tanpa salinan**\n",
        "\n",
        "Perlu diketahui tentang irisan array adalah bahwa irisan array mengembalikan tampilan, bukan salinan data array"
      ]
    },
    {
      "cell_type": "code",
      "metadata": {
        "colab": {
          "base_uri": "https://localhost:8080/"
        },
        "id": "nleL2GlnMYMx",
        "outputId": "e4858051-273c-44c9-bada-4f174d1d2e82"
      },
      "source": [
        "print(x2)"
      ],
      "execution_count": null,
      "outputs": [
        {
          "output_type": "stream",
          "text": [
            "[[12  5  2  4]\n",
            " [ 7  6  8  8]\n",
            " [ 1  6  7  7]]\n"
          ],
          "name": "stdout"
        }
      ]
    },
    {
      "cell_type": "markdown",
      "metadata": {
        "id": "qpZSJVIkDBF_"
      },
      "source": [
        "Kita ambil subarray 2x2 dari x2"
      ]
    },
    {
      "cell_type": "code",
      "metadata": {
        "colab": {
          "base_uri": "https://localhost:8080/"
        },
        "id": "NFoAJ2JrPaed",
        "outputId": "1d222e1e-b7f2-49d5-a9b0-1b1709a2a986"
      },
      "source": [
        "x2_sub = x2[:2, :2]\n",
        "print(x2_sub)"
      ],
      "execution_count": null,
      "outputs": [
        {
          "output_type": "stream",
          "text": [
            "[[12  5]\n",
            " [ 7  6]]\n"
          ],
          "name": "stdout"
        }
      ]
    },
    {
      "cell_type": "markdown",
      "metadata": {
        "id": "bplFHgMIDLLb"
      },
      "source": [
        "Sekarang kita ubah subarray tersebut"
      ]
    },
    {
      "cell_type": "code",
      "metadata": {
        "colab": {
          "base_uri": "https://localhost:8080/"
        },
        "id": "i1Z06koRREhN",
        "outputId": "66dcaf53-9c32-4e75-fed9-e1c0d3d7844a"
      },
      "source": [
        "x2_sub[0, 0] = 99\n",
        "print(x2_sub)"
      ],
      "execution_count": null,
      "outputs": [
        {
          "output_type": "stream",
          "text": [
            "[[99  5]\n",
            " [ 7  6]]\n"
          ],
          "name": "stdout"
        }
      ]
    },
    {
      "cell_type": "markdown",
      "metadata": {
        "id": "xN9_uZQXDab6"
      },
      "source": [
        "Dapat dilihat bahwa array x2 juga ikut berubah"
      ]
    },
    {
      "cell_type": "code",
      "metadata": {
        "colab": {
          "base_uri": "https://localhost:8080/"
        },
        "id": "P-W5bJfTRHPq",
        "outputId": "bc3f52b1-2d4e-4d16-f6e1-a20393be1fe5"
      },
      "source": [
        "print(x2)"
      ],
      "execution_count": null,
      "outputs": [
        {
          "output_type": "stream",
          "text": [
            "[[99  5  2  4]\n",
            " [ 7  6  8  8]\n",
            " [ 1  6  7  7]]\n"
          ],
          "name": "stdout"
        }
      ]
    },
    {
      "cell_type": "markdown",
      "metadata": {
        "id": "jyUsKTivDnTr"
      },
      "source": [
        "Sifat default ini sebenarnya cukup berguna: ini berarti bahwa ketika kita bekerja dengan kumpulan data besar, kita dapat mengakses dan memproses bagian dari kumpulan data ini tanpa perlu menyalin buffer data yang mendasarinya."
      ]
    },
    {
      "cell_type": "markdown",
      "metadata": {
        "id": "SXrcz8XpE024"
      },
      "source": [
        "**Membuat salinan dari array**"
      ]
    },
    {
      "cell_type": "markdown",
      "metadata": {
        "id": "rF_V_vNXFVOx"
      },
      "source": [
        "Membuat salinan array dapat dilakukan dengan method copy( )"
      ]
    },
    {
      "cell_type": "code",
      "metadata": {
        "colab": {
          "base_uri": "https://localhost:8080/"
        },
        "id": "UAfWXLK5RLpz",
        "outputId": "5a9720bb-b747-42d2-b648-3beaaa13200c"
      },
      "source": [
        "x2_sub_copy = x2[:2, :2].copy()\n",
        "print(x2_sub_copy)"
      ],
      "execution_count": null,
      "outputs": [
        {
          "output_type": "stream",
          "text": [
            "[[99  5]\n",
            " [ 7  6]]\n"
          ],
          "name": "stdout"
        }
      ]
    },
    {
      "cell_type": "markdown",
      "metadata": {
        "id": "eOmwpGkuFl__"
      },
      "source": [
        "Sekarang kita coba untuk memodifikasi subarray_copy dari x2"
      ]
    },
    {
      "cell_type": "code",
      "metadata": {
        "colab": {
          "base_uri": "https://localhost:8080/"
        },
        "id": "ykqiKHysRQgI",
        "outputId": "70ab503d-ddcd-4cc2-f005-e6c33a1efc99"
      },
      "source": [
        "x2_sub_copy[0, 0] = 42\n",
        "print(x2_sub_copy)"
      ],
      "execution_count": null,
      "outputs": [
        {
          "output_type": "stream",
          "text": [
            "[[42  5]\n",
            " [ 7  6]]\n"
          ],
          "name": "stdout"
        }
      ]
    },
    {
      "cell_type": "markdown",
      "metadata": {
        "id": "UyJNtfoYFt4l"
      },
      "source": [
        "Array x2 tidak ikut berubah saat subarray_copy dari x2 diubah"
      ]
    },
    {
      "cell_type": "code",
      "metadata": {
        "colab": {
          "base_uri": "https://localhost:8080/"
        },
        "id": "nDvVRbgCRS41",
        "outputId": "99a1fca9-10b3-4184-876d-e68cd6d70257"
      },
      "source": [
        "print(x2)"
      ],
      "execution_count": null,
      "outputs": [
        {
          "output_type": "stream",
          "text": [
            "[[99  5  2  4]\n",
            " [ 7  6  8  8]\n",
            " [ 1  6  7  7]]\n"
          ],
          "name": "stdout"
        }
      ]
    },
    {
      "cell_type": "markdown",
      "metadata": {
        "id": "n6sIgjcSod2Y"
      },
      "source": [
        "**Pembentukan ulang Array**\n",
        "\n",
        "reshape( ) dapat digunakan untuk pembentukan ulang array, seperti berikut:"
      ]
    },
    {
      "cell_type": "code",
      "metadata": {
        "colab": {
          "base_uri": "https://localhost:8080/"
        },
        "id": "ArO0LvgXoa4K",
        "outputId": "46edae0d-cbef-4f07-d600-e17579c079c1"
      },
      "source": [
        "grid = np.arange(1, 10).reshape((3, 3))\n",
        "print(grid)"
      ],
      "execution_count": null,
      "outputs": [
        {
          "output_type": "stream",
          "text": [
            "[[1 2 3]\n",
            " [4 5 6]\n",
            " [7 8 9]]\n"
          ],
          "name": "stdout"
        }
      ]
    },
    {
      "cell_type": "markdown",
      "metadata": {
        "id": "rXed_jndH0In"
      },
      "source": [
        "Agar ini berfungsi, ukuran array awal harus sesuai dengan ukuran array yang dibentuk ulang."
      ]
    },
    {
      "cell_type": "code",
      "metadata": {
        "colab": {
          "base_uri": "https://localhost:8080/"
        },
        "id": "ebmUeBv8ohzk",
        "outputId": "f96fbb16-a102-46ef-ede4-dfa1d585379c"
      },
      "source": [
        "x = np.array([1, 2, 3])\n",
        "# row vector via reshape\n",
        "x.reshape((1, 3))"
      ],
      "execution_count": null,
      "outputs": [
        {
          "output_type": "execute_result",
          "data": {
            "text/plain": [
              "array([[1, 2, 3]])"
            ]
          },
          "metadata": {
            "tags": []
          },
          "execution_count": 107
        }
      ]
    },
    {
      "cell_type": "markdown",
      "metadata": {
        "id": "-WZmlfTPIr2h"
      },
      "source": [
        "Pola pembentukan kembali umum lainnya adalah konversi array satu dimensi menjadi matriks dua dimensi. \n",
        "Kita dapat melakukan ini dengan metode reshape, atau lebih mudah dengan menggunakan keyword newaxis dalam operasi slice:"
      ]
    },
    {
      "cell_type": "code",
      "metadata": {
        "colab": {
          "base_uri": "https://localhost:8080/"
        },
        "id": "UhBnhN4xoq85",
        "outputId": "2e735b34-af24-4865-bdf6-d761731c831e"
      },
      "source": [
        "# row vector via newaxis\n",
        "x[np.newaxis, :]"
      ],
      "execution_count": null,
      "outputs": [
        {
          "output_type": "execute_result",
          "data": {
            "text/plain": [
              "array([[1, 2, 3]])"
            ]
          },
          "metadata": {
            "tags": []
          },
          "execution_count": 108
        }
      ]
    },
    {
      "cell_type": "code",
      "metadata": {
        "colab": {
          "base_uri": "https://localhost:8080/"
        },
        "id": "LxsV0BsmouTi",
        "outputId": "d47477c1-b2ee-4dad-dee3-4f57042c0ec9"
      },
      "source": [
        "# column vector via reshape\n",
        "x.reshape((3, 1))"
      ],
      "execution_count": null,
      "outputs": [
        {
          "output_type": "execute_result",
          "data": {
            "text/plain": [
              "array([[1],\n",
              "       [2],\n",
              "       [3]])"
            ]
          },
          "metadata": {
            "tags": []
          },
          "execution_count": 109
        }
      ]
    },
    {
      "cell_type": "code",
      "metadata": {
        "colab": {
          "base_uri": "https://localhost:8080/"
        },
        "id": "v4FSO-Hloz8k",
        "outputId": "b194edf3-5e0e-45ad-9f36-eaded88acd7f"
      },
      "source": [
        "# column vector via newaxis\n",
        "x[:, np.newaxis]"
      ],
      "execution_count": null,
      "outputs": [
        {
          "output_type": "execute_result",
          "data": {
            "text/plain": [
              "array([[1],\n",
              "       [2],\n",
              "       [3]])"
            ]
          },
          "metadata": {
            "tags": []
          },
          "execution_count": 110
        }
      ]
    },
    {
      "cell_type": "markdown",
      "metadata": {
        "id": "LpZczG7MKFpq"
      },
      "source": [
        "**Penggabungan dan Pemisahan Array**"
      ]
    },
    {
      "cell_type": "markdown",
      "metadata": {
        "id": "yOlX_rLEKL0M"
      },
      "source": [
        "**Concatenation of arrays**\n",
        "\n",
        "Penggabungan dua array dalam NumPy, terutama dilakukan melalui np.concatenate, np.vstack, dan np.hstack. np.concatenate menggunakan tuple atau daftar array sebagai argumen pertamanya, seperti yang bisa kita lihat di sini:"
      ]
    },
    {
      "cell_type": "code",
      "metadata": {
        "colab": {
          "base_uri": "https://localhost:8080/"
        },
        "id": "4o6HHMB7o32R",
        "outputId": "3c32ff33-b7b2-4b63-bb03-7c1ca2970c50"
      },
      "source": [
        "x = np.array([1, 2, 3])\n",
        "y = np.array([3, 2, 1])\n",
        "np.concatenate([x, y])"
      ],
      "execution_count": null,
      "outputs": [
        {
          "output_type": "execute_result",
          "data": {
            "text/plain": [
              "array([1, 2, 3, 3, 2, 1])"
            ]
          },
          "metadata": {
            "tags": []
          },
          "execution_count": 111
        }
      ]
    },
    {
      "cell_type": "markdown",
      "metadata": {
        "id": "6Qud0ZsaK4z-"
      },
      "source": [
        "Kita juga bisa menggabungkan lebih dari 2 array"
      ]
    },
    {
      "cell_type": "code",
      "metadata": {
        "colab": {
          "base_uri": "https://localhost:8080/"
        },
        "id": "0nh9Sl2QpA2i",
        "outputId": "f58a61aa-d748-450d-9105-41d606b2c456"
      },
      "source": [
        "z = [99, 99, 99]\n",
        "print(np.concatenate([x, y, z]))"
      ],
      "execution_count": null,
      "outputs": [
        {
          "output_type": "stream",
          "text": [
            "[ 1  2  3  3  2  1 99 99 99]\n"
          ],
          "name": "stdout"
        }
      ]
    },
    {
      "cell_type": "markdown",
      "metadata": {
        "id": "RJGVYJmRLD5f"
      },
      "source": [
        "np.concatenate juga bisa digunakan untuk array 2 dimensi"
      ]
    },
    {
      "cell_type": "code",
      "metadata": {
        "id": "LI-yQ4_SpGY4"
      },
      "source": [
        "grid = np.array([[1, 2, 3],\n",
        "                 [4, 5, 6]])"
      ],
      "execution_count": null,
      "outputs": []
    },
    {
      "cell_type": "code",
      "metadata": {
        "colab": {
          "base_uri": "https://localhost:8080/"
        },
        "id": "iOpswkuepRw4",
        "outputId": "35cc9501-3528-48c0-dddc-1adcce1216ff"
      },
      "source": [
        "# concatenate along the first axis\n",
        "np.concatenate([grid, grid])"
      ],
      "execution_count": null,
      "outputs": [
        {
          "output_type": "execute_result",
          "data": {
            "text/plain": [
              "array([[1, 2, 3],\n",
              "       [4, 5, 6],\n",
              "       [1, 2, 3],\n",
              "       [4, 5, 6]])"
            ]
          },
          "metadata": {
            "tags": []
          },
          "execution_count": 114
        }
      ]
    },
    {
      "cell_type": "code",
      "metadata": {
        "colab": {
          "base_uri": "https://localhost:8080/"
        },
        "id": "l3pGFOtrpXtz",
        "outputId": "ae8af887-0451-49ad-b10f-cb434fd29b7b"
      },
      "source": [
        "# concatenate along the second axis (zero-indexed)\n",
        "np.concatenate([grid, grid], axis=1)"
      ],
      "execution_count": null,
      "outputs": [
        {
          "output_type": "execute_result",
          "data": {
            "text/plain": [
              "array([[1, 2, 3, 1, 2, 3],\n",
              "       [4, 5, 6, 4, 5, 6]])"
            ]
          },
          "metadata": {
            "tags": []
          },
          "execution_count": 115
        }
      ]
    },
    {
      "cell_type": "code",
      "metadata": {
        "colab": {
          "base_uri": "https://localhost:8080/"
        },
        "id": "XF-oky9dpe6r",
        "outputId": "afd24cb9-824f-47ff-dea4-5d83d7087213"
      },
      "source": [
        "x = np.array([1, 2, 3])\n",
        "grid = np.array([[9, 8, 7],\n",
        "                 [6, 5, 4]])\n",
        "\n",
        "# vertically stack the arrays\n",
        "np.vstack([x, grid])"
      ],
      "execution_count": null,
      "outputs": [
        {
          "output_type": "execute_result",
          "data": {
            "text/plain": [
              "array([[1, 2, 3],\n",
              "       [9, 8, 7],\n",
              "       [6, 5, 4]])"
            ]
          },
          "metadata": {
            "tags": []
          },
          "execution_count": 119
        }
      ]
    },
    {
      "cell_type": "code",
      "metadata": {
        "colab": {
          "base_uri": "https://localhost:8080/"
        },
        "id": "EDHpWuw_phyu",
        "outputId": "3881ef0a-b9d2-46d4-9d71-5f50d1519baf"
      },
      "source": [
        "# horizontally stack the arrays\n",
        "y = np.array([[99],\n",
        "              [99]])\n",
        "np.hstack([grid, y])"
      ],
      "execution_count": null,
      "outputs": [
        {
          "output_type": "execute_result",
          "data": {
            "text/plain": [
              "array([[ 9,  8,  7, 99],\n",
              "       [ 6,  5,  4, 99]])"
            ]
          },
          "metadata": {
            "tags": []
          },
          "execution_count": 118
        }
      ]
    },
    {
      "cell_type": "markdown",
      "metadata": {
        "id": "oYjnaGW3Lfs0"
      },
      "source": [
        "np.dstack diigunakan pada array 3 dimensi atau lebih"
      ]
    },
    {
      "cell_type": "markdown",
      "metadata": {
        "id": "zIbnAWx3psCj"
      },
      "source": [
        "**Splitting of arrays**"
      ]
    },
    {
      "cell_type": "markdown",
      "metadata": {
        "id": "qurcCnwqM4fi"
      },
      "source": [
        "Kebalikan dari penggabungan adalah pemisahan/splitting, yang diimplementasikan oleh fungsi np.split, np.hsplit, dan np.vsplit"
      ]
    },
    {
      "cell_type": "code",
      "metadata": {
        "colab": {
          "base_uri": "https://localhost:8080/"
        },
        "id": "ufN5ThRxpq1c",
        "outputId": "09f5b7e8-acc5-4922-bb0a-4fa62ebc81a7"
      },
      "source": [
        "x = [1, 2, 3, 99, 99, 3, 2, 1]\n",
        "x1, x2, x3 = np.split(x, [3, 5])\n",
        "print(x1, x2, x3)"
      ],
      "execution_count": null,
      "outputs": [
        {
          "output_type": "stream",
          "text": [
            "[1 2 3] [99 99] [3 2 1]\n"
          ],
          "name": "stdout"
        }
      ]
    },
    {
      "cell_type": "markdown",
      "metadata": {
        "id": "l3a-FcaGNgPi"
      },
      "source": [
        ""
      ]
    },
    {
      "cell_type": "code",
      "metadata": {
        "colab": {
          "base_uri": "https://localhost:8080/"
        },
        "id": "IMd0qoq9pwqb",
        "outputId": "26b65cf4-6f37-4a91-ff86-85361d1b9d16"
      },
      "source": [
        "grid = np.arange(16).reshape((4, 4))\n",
        "grid"
      ],
      "execution_count": null,
      "outputs": [
        {
          "output_type": "execute_result",
          "data": {
            "text/plain": [
              "array([[ 0,  1,  2,  3],\n",
              "       [ 4,  5,  6,  7],\n",
              "       [ 8,  9, 10, 11],\n",
              "       [12, 13, 14, 15]])"
            ]
          },
          "metadata": {
            "tags": []
          },
          "execution_count": 6
        }
      ]
    },
    {
      "cell_type": "code",
      "metadata": {
        "colab": {
          "base_uri": "https://localhost:8080/"
        },
        "id": "51ZoN73hp07X",
        "outputId": "3b5d7cae-f455-43a1-b41f-1fc40ed32ed7"
      },
      "source": [
        "upper, lower = np.vsplit(grid, [2])\n",
        "print(upper)\n",
        "print(lower)"
      ],
      "execution_count": null,
      "outputs": [
        {
          "output_type": "stream",
          "text": [
            "[[0 1 2 3]\n",
            " [4 5 6 7]]\n",
            "[[ 8  9 10 11]\n",
            " [12 13 14 15]]\n"
          ],
          "name": "stdout"
        }
      ]
    },
    {
      "cell_type": "code",
      "metadata": {
        "colab": {
          "base_uri": "https://localhost:8080/"
        },
        "id": "JkV5M4mTp96u",
        "outputId": "b7ed7a62-6b09-46a4-d813-64c23d0bc9e1"
      },
      "source": [
        "left, right = np.hsplit(grid, [2])\n",
        "print(left)\n",
        "print(right)"
      ],
      "execution_count": null,
      "outputs": [
        {
          "output_type": "stream",
          "text": [
            "[[ 0  1]\n",
            " [ 4  5]\n",
            " [ 8  9]\n",
            " [12 13]]\n",
            "[[ 2  3]\n",
            " [ 6  7]\n",
            " [10 11]\n",
            " [14 15]]\n"
          ],
          "name": "stdout"
        }
      ]
    },
    {
      "cell_type": "markdown",
      "metadata": {
        "id": "2CVa5_rkPW9T"
      },
      "source": [
        "np.dsplit diigunakan pada array 3 dimensi atau lebih"
      ]
    },
    {
      "cell_type": "markdown",
      "metadata": {
        "id": "3_6exSXwPATw"
      },
      "source": [
        "**Perulangan yang lambat**"
      ]
    },
    {
      "cell_type": "markdown",
      "metadata": {
        "id": "x6r1gQ-1RMcc"
      },
      "source": [
        "Berikut ini contoh perulangan"
      ]
    },
    {
      "cell_type": "code",
      "metadata": {
        "colab": {
          "base_uri": "https://localhost:8080/"
        },
        "id": "Wdxki4wsqAlP",
        "outputId": "af886f78-1d7d-4e57-a5a9-6817c77a057d"
      },
      "source": [
        "import numpy as np\n",
        "np.random.seed(0)\n",
        "def compute_reciprocals(values):\n",
        "  output = np.empty(len(values))\n",
        "  for i in range(len(values)):\n",
        "    output[i] = 1.0 / values[i]\n",
        "  return output\n",
        "  \n",
        "values = np.random.randint(1, 10, size=5)\n",
        "compute_reciprocals(values)"
      ],
      "execution_count": null,
      "outputs": [
        {
          "output_type": "execute_result",
          "data": {
            "text/plain": [
              "array([0.16666667, 1.        , 0.25      , 0.25      , 0.125     ])"
            ]
          },
          "metadata": {
            "tags": []
          },
          "execution_count": 124
        }
      ]
    },
    {
      "cell_type": "markdown",
      "metadata": {
        "id": "0uC6VfHzRQd4"
      },
      "source": [
        "Penerapan ini mungkin terasa wajar bagi seseorang berlatar belakang C atau Java. Tetapi jika kita mengukur waktu eksekusi kode ini untuk input yang besar, kita melihat bahwa operasi ini sangat lambat. Kita akan membandingkan ini dengan magic %timeit IPython:"
      ]
    },
    {
      "cell_type": "code",
      "metadata": {
        "colab": {
          "base_uri": "https://localhost:8080/"
        },
        "id": "ZED_uOYwqS92",
        "outputId": "67fb34bb-f1f4-4614-f413-41a57607da66"
      },
      "source": [
        "big_array = np.random.randint(1, 100, size=1000000)\n",
        "%timeit compute_reciprocals(big_array)"
      ],
      "execution_count": null,
      "outputs": [
        {
          "output_type": "stream",
          "text": [
            "1 loop, best of 5: 2.32 s per loop\n"
          ],
          "name": "stdout"
        }
      ]
    },
    {
      "cell_type": "markdown",
      "metadata": {
        "id": "UASczmCFqdDL"
      },
      "source": [
        "**UFuncs**"
      ]
    },
    {
      "cell_type": "markdown",
      "metadata": {
        "id": "XE7cit6QNbp-"
      },
      "source": [
        "Pendekatan vektorisasi ini dirancang untuk mendorong loop ke lapisan terkompilasi yang mendasari NumPy, sehingga eksekusi jadi jauh lebih cepat.\n",
        "Bandingkan hasil dari dua hal berikut:"
      ]
    },
    {
      "cell_type": "code",
      "metadata": {
        "colab": {
          "base_uri": "https://localhost:8080/"
        },
        "id": "q08g3pBeqazs",
        "outputId": "dda83e72-3228-46f3-b6dd-dfb4c4590bc1"
      },
      "source": [
        "print(compute_reciprocals(values))\n",
        "print(1.0 / values)"
      ],
      "execution_count": null,
      "outputs": [
        {
          "output_type": "stream",
          "text": [
            "[0.16666667 1.         0.25       0.25       0.125     ]\n",
            "[0.16666667 1.         0.25       0.25       0.125     ]\n"
          ],
          "name": "stdout"
        }
      ]
    },
    {
      "cell_type": "markdown",
      "metadata": {
        "id": "fVTIiu_zOu9f"
      },
      "source": [
        "Melihat waktu eksekusi untuk array besar kami, kami melihat bahwa itu menyelesaikan lipat lebih cepat daripada loop Python:"
      ]
    },
    {
      "cell_type": "code",
      "metadata": {
        "colab": {
          "base_uri": "https://localhost:8080/"
        },
        "id": "NyKYTR7jql4m",
        "outputId": "dbefac78-9a37-44ba-ba64-df21c4262529"
      },
      "source": [
        "%timeit (1.0 / big_array)"
      ],
      "execution_count": null,
      "outputs": [
        {
          "output_type": "stream",
          "text": [
            "100 loops, best of 5: 1.99 ms per loop\n"
          ],
          "name": "stdout"
        }
      ]
    },
    {
      "cell_type": "markdown",
      "metadata": {
        "id": "AWB8MFnNQXm1"
      },
      "source": [
        "Operasi vektor di NumPy diimplementasikan melalui ufunc, yang tujuan utamanya adalah dengan cepat menjalankan operasi berulang pada nilai dalam array NumPy. Ufunc sangat fleksibel, kita\n",
        "juga dapat beroperasi di antara dua array:"
      ]
    },
    {
      "cell_type": "code",
      "metadata": {
        "colab": {
          "base_uri": "https://localhost:8080/"
        },
        "id": "5h8GxuQOqpM0",
        "outputId": "419957e6-eb8e-480b-b9b2-eacbfae16900"
      },
      "source": [
        "np.arange(5) / np.arange(1, 6)"
      ],
      "execution_count": null,
      "outputs": [
        {
          "output_type": "execute_result",
          "data": {
            "text/plain": [
              "array([0.        , 0.5       , 0.66666667, 0.75      , 0.8       ])"
            ]
          },
          "metadata": {
            "tags": []
          },
          "execution_count": 128
        }
      ]
    },
    {
      "cell_type": "markdown",
      "metadata": {
        "id": "aPu6RXG7QmIG"
      },
      "source": [
        "Dan operasi ufunc juga dapat bekerja pada array multidimensi:"
      ]
    },
    {
      "cell_type": "code",
      "metadata": {
        "colab": {
          "base_uri": "https://localhost:8080/"
        },
        "id": "J0845q4GquN2",
        "outputId": "4333b788-4263-4841-a9af-4d10e131f63e"
      },
      "source": [
        "x = np.arange(9).reshape((3, 3))\n",
        "2 ** x"
      ],
      "execution_count": null,
      "outputs": [
        {
          "output_type": "execute_result",
          "data": {
            "text/plain": [
              "array([[  1,   2,   4],\n",
              "       [  8,  16,  32],\n",
              "       [ 64, 128, 256]])"
            ]
          },
          "metadata": {
            "tags": []
          },
          "execution_count": 129
        }
      ]
    },
    {
      "cell_type": "markdown",
      "metadata": {
        "id": "46yPBSijqx_l"
      },
      "source": [
        "**Aritmatik array**"
      ]
    },
    {
      "cell_type": "code",
      "metadata": {
        "colab": {
          "base_uri": "https://localhost:8080/"
        },
        "id": "NlyZkuBTq1Mn",
        "outputId": "4bf31528-8752-4852-e4d7-4777e0e63ecc"
      },
      "source": [
        "x = np.arange(4)\n",
        "print(\"x =\", x)\n",
        "print(\"x + 5 =\", x + 5)\n",
        "print(\"x - 5 =\", x - 5)\n",
        "print(\"x * 2 =\", x * 2)\n",
        "print(\"x / 2 =\", x / 2)\n",
        "print(\"x // 2 =\", x // 2) # floor division"
      ],
      "execution_count": null,
      "outputs": [
        {
          "output_type": "stream",
          "text": [
            "x = [0 1 2 3]\n",
            "x + 5 = [5 6 7 8]\n",
            "x - 5 = [-5 -4 -3 -2]\n",
            "x * 2 = [0 2 4 6]\n",
            "x / 2 = [0.  0.5 1.  1.5]\n",
            "x // 2 = [0 0 1 1]\n"
          ],
          "name": "stdout"
        }
      ]
    },
    {
      "cell_type": "markdown",
      "metadata": {
        "id": "J0axV3sZRSna"
      },
      "source": [
        "** = kuadrat\n",
        "\n",
        "% = modulus"
      ]
    },
    {
      "cell_type": "code",
      "metadata": {
        "colab": {
          "base_uri": "https://localhost:8080/"
        },
        "id": "4U71jrqGq-6H",
        "outputId": "b7eb605c-acc4-467b-a2c3-172424018d29"
      },
      "source": [
        "print(\"-x = \", -x)\n",
        "print(\"x ** 2 = \", x ** 2)\n",
        "print(\"x % 2 = \", x % 2)"
      ],
      "execution_count": null,
      "outputs": [
        {
          "output_type": "stream",
          "text": [
            "-x =  [ 0 -1 -2 -3]\n",
            "x ** 2 =  [0 1 4 9]\n",
            "x % 2 =  [0 1 0 1]\n"
          ],
          "name": "stdout"
        }
      ]
    },
    {
      "cell_type": "code",
      "metadata": {
        "colab": {
          "base_uri": "https://localhost:8080/"
        },
        "id": "4ptSL8parIki",
        "outputId": "d5702d2f-3d9a-4ce0-f9e8-d7b8b7122299"
      },
      "source": [
        " -(0.5*x + 1) ** 2"
      ],
      "execution_count": null,
      "outputs": [
        {
          "output_type": "execute_result",
          "data": {
            "text/plain": [
              "array([-1.  , -2.25, -4.  , -6.25])"
            ]
          },
          "metadata": {
            "tags": []
          },
          "execution_count": 132
        }
      ]
    },
    {
      "cell_type": "markdown",
      "metadata": {
        "id": "O6lmxuBVR2qW"
      },
      "source": [
        "![Screenshot 2021-04-19 201855.png](data:image/png;base64,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)"
      ]
    },
    {
      "cell_type": "code",
      "metadata": {
        "colab": {
          "base_uri": "https://localhost:8080/"
        },
        "id": "Mh8qc98RrQXH",
        "outputId": "b2cc5b1e-3e7d-4258-f97a-994690345ede"
      },
      "source": [
        "np.add(x, 2)"
      ],
      "execution_count": null,
      "outputs": [
        {
          "output_type": "execute_result",
          "data": {
            "text/plain": [
              "array([2, 3, 4, 5])"
            ]
          },
          "metadata": {
            "tags": []
          },
          "execution_count": 133
        }
      ]
    },
    {
      "cell_type": "markdown",
      "metadata": {
        "id": "-xuG1JRvr5-Q"
      },
      "source": [
        "**Nilai absolute**\n",
        "\n",
        "Sama seperti NumPy memahami operator aritmatika bawaan Python, NumPy juga memahami fungsi nilai absolut bawaan Python: np.absolute atau np.abs"
      ]
    },
    {
      "cell_type": "code",
      "metadata": {
        "colab": {
          "base_uri": "https://localhost:8080/"
        },
        "id": "H57_hpbor20X",
        "outputId": "d2335ff7-05fb-4c70-c85f-ad43200cadf6"
      },
      "source": [
        "x = np.array([-2, -1, 0, 1, 2])\n",
        "abs(x)"
      ],
      "execution_count": null,
      "outputs": [
        {
          "output_type": "execute_result",
          "data": {
            "text/plain": [
              "array([2, 1, 0, 1, 2])"
            ]
          },
          "metadata": {
            "tags": []
          },
          "execution_count": 134
        }
      ]
    },
    {
      "cell_type": "code",
      "metadata": {
        "colab": {
          "base_uri": "https://localhost:8080/"
        },
        "id": "qqTJtRKwr-aK",
        "outputId": "62c77893-6a77-4f72-9f2f-3329ad9778b9"
      },
      "source": [
        "np.absolute(x)"
      ],
      "execution_count": null,
      "outputs": [
        {
          "output_type": "execute_result",
          "data": {
            "text/plain": [
              "array([2, 1, 0, 1, 2])"
            ]
          },
          "metadata": {
            "tags": []
          },
          "execution_count": 135
        }
      ]
    },
    {
      "cell_type": "code",
      "metadata": {
        "colab": {
          "base_uri": "https://localhost:8080/"
        },
        "id": "YT0jxtSWsGZZ",
        "outputId": "833ec678-3a36-49d9-dfdd-d93eee7a42fb"
      },
      "source": [
        "np.abs(x)"
      ],
      "execution_count": null,
      "outputs": [
        {
          "output_type": "execute_result",
          "data": {
            "text/plain": [
              "array([2, 1, 0, 1, 2])"
            ]
          },
          "metadata": {
            "tags": []
          },
          "execution_count": 136
        }
      ]
    },
    {
      "cell_type": "markdown",
      "metadata": {
        "id": "JFvjBD-HTXa1"
      },
      "source": [
        "Uufunc ini juga dapat menangani data kompleks, di mana nilai absolut mengembalikan besarannya:"
      ]
    },
    {
      "cell_type": "code",
      "metadata": {
        "colab": {
          "base_uri": "https://localhost:8080/"
        },
        "id": "TSqcxDXqsNPG",
        "outputId": "4c4cb39a-78cc-4997-e725-fa2378c8dd81"
      },
      "source": [
        "x = np.array([3 - 4j, 4 - 3j, 2 + 0j, 0 + 1j])\n",
        "np.abs(x)"
      ],
      "execution_count": null,
      "outputs": [
        {
          "output_type": "execute_result",
          "data": {
            "text/plain": [
              "array([5., 5., 2., 1.])"
            ]
          },
          "metadata": {
            "tags": []
          },
          "execution_count": 137
        }
      ]
    },
    {
      "cell_type": "markdown",
      "metadata": {
        "id": "DIZ0hgvYsTwE"
      },
      "source": [
        "**Fungsi Trigonometri**\n",
        "\n",
        "Array sudut:"
      ]
    },
    {
      "cell_type": "code",
      "metadata": {
        "id": "_8RV0AKHsVpM"
      },
      "source": [
        "theta = np.linspace(0, np.pi, 3)"
      ],
      "execution_count": null,
      "outputs": []
    },
    {
      "cell_type": "code",
      "metadata": {
        "colab": {
          "base_uri": "https://localhost:8080/"
        },
        "id": "UHyfnOMxsZUJ",
        "outputId": "bbef0ccb-b74c-4774-ddd0-358dcc8e1f79"
      },
      "source": [
        "print(\"theta = \", theta)\n",
        "print(\"sin(theta) = \", np.sin(theta))\n",
        "print(\"cos(theta) = \", np.cos(theta))\n",
        "print(\"tan(theta) = \", np.tan(theta))"
      ],
      "execution_count": null,
      "outputs": [
        {
          "output_type": "stream",
          "text": [
            "theta =  [0.         1.57079633 3.14159265]\n",
            "sin(theta) =  [0.0000000e+00 1.0000000e+00 1.2246468e-16]\n",
            "cos(theta) =  [ 1.000000e+00  6.123234e-17 -1.000000e+00]\n",
            "tan(theta) =  [ 0.00000000e+00  1.63312394e+16 -1.22464680e-16]\n"
          ],
          "name": "stdout"
        }
      ]
    },
    {
      "cell_type": "markdown",
      "metadata": {
        "id": "KHo06az0aKVu"
      },
      "source": [
        "Nilai dihitung dalam presisi mesin, itulah sebabnya nilai yang seharusnya nol tidak selalu mencapai nol. \n",
        "\n",
        "Berikut ini fungsi Inverse trigonometri:"
      ]
    },
    {
      "cell_type": "code",
      "metadata": {
        "colab": {
          "base_uri": "https://localhost:8080/"
        },
        "id": "fnxvI_7esdxh",
        "outputId": "39065c82-fdc6-4396-9ffd-f928cd773b8e"
      },
      "source": [
        "x = [-1, 0, 1]\n",
        "print(\"x = \", x)\n",
        "print(\"arcsin(x) = \", np.arcsin(x))\n",
        "print(\"arccos(x) = \", np.arccos(x))\n",
        "print(\"arctan(x) = \", np.arctan(x))"
      ],
      "execution_count": null,
      "outputs": [
        {
          "output_type": "stream",
          "text": [
            "x =  [-1, 0, 1]\n",
            "arcsin(x) =  [-1.57079633  0.          1.57079633]\n",
            "arccos(x) =  [3.14159265 1.57079633 0.        ]\n",
            "arctan(x) =  [-0.78539816  0.          0.78539816]\n"
          ],
          "name": "stdout"
        }
      ]
    },
    {
      "cell_type": "markdown",
      "metadata": {
        "id": "n_C2TRyOslNB"
      },
      "source": [
        "**Eksponensial**\n",
        "\n",
        "\n",
        "```\n",
        "np.exp()\n",
        "```\n",
        "\n"
      ]
    },
    {
      "cell_type": "code",
      "metadata": {
        "colab": {
          "base_uri": "https://localhost:8080/"
        },
        "id": "onpjflQSskS_",
        "outputId": "12a8e207-4931-4156-d1f2-45ddd62b8100"
      },
      "source": [
        "x = [1, 2, 3]\n",
        "print(\"x =\", x)\n",
        "print(\"e^x =\", np.exp(x))\n",
        "print(\"2^x =\", np.exp2(x))\n",
        "print(\"3^x =\", np.power(3, x))"
      ],
      "execution_count": null,
      "outputs": [
        {
          "output_type": "stream",
          "text": [
            "x = [1, 2, 3]\n",
            "e^x = [ 2.71828183  7.3890561  20.08553692]\n",
            "2^x = [2. 4. 8.]\n",
            "3^x = [ 3  9 27]\n"
          ],
          "name": "stdout"
        }
      ]
    },
    {
      "cell_type": "markdown",
      "metadata": {
        "id": "nbPk0XI3a6e7"
      },
      "source": [
        "**Logaritma**\n",
        "\n",
        "\n",
        "```\n",
        "np.log()\n",
        "```\n",
        "\n"
      ]
    },
    {
      "cell_type": "code",
      "metadata": {
        "colab": {
          "base_uri": "https://localhost:8080/"
        },
        "id": "9xXaVLpDstrr",
        "outputId": "38653f6f-6a30-48e3-fc41-1efece610f08"
      },
      "source": [
        "x = [1, 2, 4, 10]\n",
        "print(\"x =\", x)\n",
        "print(\"ln(x) =\", np.log(x))\n",
        "print(\"log2(x) =\", np.log2(x))\n",
        "print(\"log10(x) =\", np.log10(x))"
      ],
      "execution_count": null,
      "outputs": [
        {
          "output_type": "stream",
          "text": [
            "x = [1, 2, 4, 10]\n",
            "ln(x) = [0.         0.69314718 1.38629436 2.30258509]\n",
            "log2(x) = [0.         1.         2.         3.32192809]\n",
            "log10(x) = [0.         0.30103    0.60205999 1.        ]\n"
          ],
          "name": "stdout"
        }
      ]
    },
    {
      "cell_type": "markdown",
      "metadata": {
        "id": "YzxQ62Fi1UWI"
      },
      "source": [
        "Ada juga beberapa versi khusus yang berguna untuk menjaga presisi dengan input yang sangat kecil:"
      ]
    },
    {
      "cell_type": "code",
      "metadata": {
        "colab": {
          "base_uri": "https://localhost:8080/"
        },
        "id": "bB5sSbqPszlH",
        "outputId": "ec2624b2-8bb8-431b-80c2-82952cc51645"
      },
      "source": [
        "x = [0, 0.001, 0.01, 0.1]\n",
        "print(\"exp(x) - 1 =\", np.expm1(x))\n",
        "print(\"log(1 + x) =\", np.log1p(x))"
      ],
      "execution_count": null,
      "outputs": [
        {
          "output_type": "stream",
          "text": [
            "exp(x) - 1 = [0.         0.0010005  0.01005017 0.10517092]\n",
            "log(1 + x) = [0.         0.0009995  0.00995033 0.09531018]\n"
          ],
          "name": "stdout"
        }
      ]
    },
    {
      "cell_type": "markdown",
      "metadata": {
        "id": "GUcGvfwAs6pK"
      },
      "source": [
        "**Ufuncs khusus**\n",
        "\n",
        "submodule scipy.special digunakan jika kita ingin menghitung beberapa fungsi matematika yang tidak jelas pada data "
      ]
    },
    {
      "cell_type": "code",
      "metadata": {
        "id": "pujskKxKs5am"
      },
      "source": [
        "from scipy import special"
      ],
      "execution_count": null,
      "outputs": []
    },
    {
      "cell_type": "code",
      "metadata": {
        "colab": {
          "base_uri": "https://localhost:8080/"
        },
        "id": "cYk-RlobtFEu",
        "outputId": "3b45726f-8203-4d88-88c9-86a939cae084"
      },
      "source": [
        "# Gamma functions (generalized factorials) and related functions\n",
        "x = [1, 5, 10]\n",
        "print(\"gamma(x) =\", special.gamma(x))\n",
        "print(\"ln|gamma(x)| =\", special.gammaln(x))\n",
        "print(\"beta(x, 2) =\", special.beta(x, 2))"
      ],
      "execution_count": null,
      "outputs": [
        {
          "output_type": "stream",
          "text": [
            "gamma(x) = [1.0000e+00 2.4000e+01 3.6288e+05]\n",
            "ln|gamma(x)| = [ 0.          3.17805383 12.80182748]\n",
            "beta(x, 2) = [0.5        0.03333333 0.00909091]\n"
          ],
          "name": "stdout"
        }
      ]
    },
    {
      "cell_type": "code",
      "metadata": {
        "colab": {
          "base_uri": "https://localhost:8080/"
        },
        "id": "tjzVu-SxtIAR",
        "outputId": "99304643-6c0c-4b3c-ffbe-8c1949660578"
      },
      "source": [
        "# Error function (integral of Gaussian)\n",
        "# its complement, and its inverse\n",
        "x = np.array([0, 0.3, 0.7, 1.0])\n",
        "print(\"erf(x) =\", special.erf(x))\n",
        "print(\"erfc(x) =\", special.erfc(x))\n",
        "print(\"erfinv(x) =\", special.erfinv(x))"
      ],
      "execution_count": null,
      "outputs": [
        {
          "output_type": "stream",
          "text": [
            "erf(x) = [0.         0.32862676 0.67780119 0.84270079]\n",
            "erfc(x) = [1.         0.67137324 0.32219881 0.15729921]\n",
            "erfinv(x) = [0.         0.27246271 0.73286908        inf]\n"
          ],
          "name": "stdout"
        }
      ]
    },
    {
      "cell_type": "markdown",
      "metadata": {
        "id": "pwWSs0O4t1wH"
      },
      "source": [
        "**Menentukan output**\n",
        "\n",
        "Untuk kalkulasi besar, terkadang berguna untuk dapat menentukan larik tempat hasil kalkulasi akan disimpan. Daripada membuat larik sementara, Anda dapat menggunakan ini untuk menulis hasil komputasi langsung ke lokasi memori yang Anda inginkan. Untuk semua ufunc, Anda bisa melakukan ini menggunakan argumen out dari fungsi tersebut:"
      ]
    },
    {
      "cell_type": "code",
      "metadata": {
        "colab": {
          "base_uri": "https://localhost:8080/"
        },
        "id": "lOVrG-ukt5A_",
        "outputId": "1e511253-afad-4c37-922a-35ac1a285d4b"
      },
      "source": [
        "x = np.arange(5)\n",
        "y = np.empty(5)\n",
        "np.multiply(x, 10, out=y)\n",
        "print(y)"
      ],
      "execution_count": null,
      "outputs": [
        {
          "output_type": "stream",
          "text": [
            "[ 0. 10. 20. 30. 40.]\n"
          ],
          "name": "stdout"
        }
      ]
    },
    {
      "cell_type": "code",
      "metadata": {
        "colab": {
          "base_uri": "https://localhost:8080/"
        },
        "id": "ce3PY3U_t-Iy",
        "outputId": "4aa7c338-9a75-40df-cb51-f1beabb922c2"
      },
      "source": [
        "y = np.zeros(10)\n",
        "np.power(2, x, out=y[::2])\n",
        "print(y)"
      ],
      "execution_count": null,
      "outputs": [
        {
          "output_type": "stream",
          "text": [
            "[ 1.  0.  2.  0.  4.  0.  8.  0. 16.  0.]\n"
          ],
          "name": "stdout"
        }
      ]
    },
    {
      "cell_type": "markdown",
      "metadata": {
        "id": "xim51B8BuBhK"
      },
      "source": [
        "**Aggregat**\n",
        "\n",
        "Untuk ufunc biner, ada beberapa agregat menarik yang dapat dihitung langsung dari objek. Misalnya, jika kita ingin mengurangi array dengan operasi tertentu, kita dapat menggunakan metode reduce dari ufunc mana pun. Reduksi berulang kali menerapkan operasi tertentu ke elemen array hingga hanya tersisa satu hasil.\n",
        "\n",
        "\n",
        "Misalnya, memanggil reduce pada add ufunc akan mengembalikan jumlah semua elemen dalam array:"
      ]
    },
    {
      "cell_type": "code",
      "metadata": {
        "colab": {
          "base_uri": "https://localhost:8080/"
        },
        "id": "hTSQVe8cuHq5",
        "outputId": "f714d661-2738-4ee3-d62e-32cd453c2515"
      },
      "source": [
        "x = np.arange(1, 6)\n",
        "np.add.reduce(x)"
      ],
      "execution_count": null,
      "outputs": [
        {
          "output_type": "execute_result",
          "data": {
            "text/plain": [
              "15"
            ]
          },
          "metadata": {
            "tags": []
          },
          "execution_count": 149
        }
      ]
    },
    {
      "cell_type": "code",
      "metadata": {
        "colab": {
          "base_uri": "https://localhost:8080/"
        },
        "id": "yjd8VjPnuKZg",
        "outputId": "66e7f198-717b-46bc-c759-158204716b05"
      },
      "source": [
        "np.multiply.reduce(x)"
      ],
      "execution_count": null,
      "outputs": [
        {
          "output_type": "execute_result",
          "data": {
            "text/plain": [
              "120"
            ]
          },
          "metadata": {
            "tags": []
          },
          "execution_count": 150
        }
      ]
    },
    {
      "cell_type": "markdown",
      "metadata": {
        "id": "1FfplrjP7nid"
      },
      "source": [
        "Jika kita ingin menyimpan semua hasil penghitungan, sebagai gantinya kita dapat menggunakan acumulate:"
      ]
    },
    {
      "cell_type": "code",
      "metadata": {
        "colab": {
          "base_uri": "https://localhost:8080/"
        },
        "id": "mGENOwusuNlH",
        "outputId": "ab6c2a48-2400-4f7b-c1bf-7624da70d630"
      },
      "source": [
        "np.add.accumulate(x)"
      ],
      "execution_count": null,
      "outputs": [
        {
          "output_type": "execute_result",
          "data": {
            "text/plain": [
              "array([ 1,  3,  6, 10, 15])"
            ]
          },
          "metadata": {
            "tags": []
          },
          "execution_count": 151
        }
      ]
    },
    {
      "cell_type": "code",
      "metadata": {
        "colab": {
          "base_uri": "https://localhost:8080/"
        },
        "id": "noDSeRqkxt0J",
        "outputId": "64aade19-a873-4be8-da7f-bd7727707426"
      },
      "source": [
        "np.multiply.accumulate(x)"
      ],
      "execution_count": null,
      "outputs": [
        {
          "output_type": "execute_result",
          "data": {
            "text/plain": [
              "array([  1,   2,   6,  24, 120])"
            ]
          },
          "metadata": {
            "tags": []
          },
          "execution_count": 152
        }
      ]
    },
    {
      "cell_type": "markdown",
      "metadata": {
        "id": "RjXwOz4zxz6K"
      },
      "source": [
        "Outer products"
      ]
    },
    {
      "cell_type": "markdown",
      "metadata": {
        "id": "rxLQMd1g8DBP"
      },
      "source": [
        "**Produk luar**\n",
        "\n",
        "Akhirnya, setiap ufunc dapat menghitung output dari dua masukan yang berbeda menggunakan metode outer. Ini memungkinkan kita untuk melakukan hal-hal seperti membuat tabel perkalian:"
      ]
    },
    {
      "cell_type": "code",
      "metadata": {
        "colab": {
          "base_uri": "https://localhost:8080/"
        },
        "id": "ULI_Eb3Jx2HB",
        "outputId": "1924c9d1-2b0f-4f2d-ee95-e2457eb0de61"
      },
      "source": [
        "x = np.arange(1, 6)\n",
        "np.multiply.outer(x, x)"
      ],
      "execution_count": null,
      "outputs": [
        {
          "output_type": "execute_result",
          "data": {
            "text/plain": [
              "array([[ 1,  2,  3,  4,  5],\n",
              "       [ 2,  4,  6,  8, 10],\n",
              "       [ 3,  6,  9, 12, 15],\n",
              "       [ 4,  8, 12, 16, 20],\n",
              "       [ 5, 10, 15, 20, 25]])"
            ]
          },
          "metadata": {
            "tags": []
          },
          "execution_count": 153
        }
      ]
    },
    {
      "cell_type": "markdown",
      "metadata": {
        "id": "uC6c2E8gyR7e"
      },
      "source": [
        "**Menjumlahkan Nilai dalam Array** \n",
        "\n",
        "Sebagai contoh cepat, pertimbangkan untuk menghitung jumlah semua nilai dalam array. Python sendiri dapat melakukan ini menggunakan fungsi penjumlahan bawaan:"
      ]
    },
    {
      "cell_type": "code",
      "metadata": {
        "id": "hwXn51Nyyacb"
      },
      "source": [
        "import numpy as np"
      ],
      "execution_count": null,
      "outputs": []
    },
    {
      "cell_type": "code",
      "metadata": {
        "colab": {
          "base_uri": "https://localhost:8080/"
        },
        "id": "2OZg2G-Zye-O",
        "outputId": "db7ade9c-f752-4f7b-95b6-2ea95e04678e"
      },
      "source": [
        "L = np.random.random(100)\n",
        "sum(L)"
      ],
      "execution_count": null,
      "outputs": [
        {
          "output_type": "execute_result",
          "data": {
            "text/plain": [
              "50.461758453195614"
            ]
          },
          "metadata": {
            "tags": []
          },
          "execution_count": 155
        }
      ]
    },
    {
      "cell_type": "code",
      "metadata": {
        "colab": {
          "base_uri": "https://localhost:8080/"
        },
        "id": "z3P8fisHyhOo",
        "outputId": "3bd68711-9ef8-4080-9dfc-b6649bb25dbb"
      },
      "source": [
        "np.sum(L)"
      ],
      "execution_count": null,
      "outputs": [
        {
          "output_type": "execute_result",
          "data": {
            "text/plain": [
              "50.46175845319564"
            ]
          },
          "metadata": {
            "tags": []
          },
          "execution_count": 156
        }
      ]
    },
    {
      "cell_type": "markdown",
      "metadata": {
        "id": "91MkNSHJ9B1b"
      },
      "source": [
        "Karena menjalankan operasi dalam kode yang dikompilasi, versi operasi NumPy jauh lebih cepat."
      ]
    },
    {
      "cell_type": "code",
      "metadata": {
        "colab": {
          "base_uri": "https://localhost:8080/"
        },
        "id": "AMC21j1HymXm",
        "outputId": "a7cf6cfb-803c-46c2-f9bb-20fd7e7e7357"
      },
      "source": [
        "big_array = np.random.rand(1000000)\n",
        "%timeit sum(big_array)\n",
        "%timeit np.sum(big_array)"
      ],
      "execution_count": null,
      "outputs": [
        {
          "output_type": "stream",
          "text": [
            "10 loops, best of 5: 171 ms per loop\n",
            "1000 loops, best of 5: 400 µs per loop\n"
          ],
          "name": "stdout"
        }
      ]
    },
    {
      "cell_type": "markdown",
      "metadata": {
        "id": "8DXza4UryvdX"
      },
      "source": [
        "**Minimum dan Maksimum**\n",
        "\n",
        "Demikian pula, Python memiliki fungsi min dan max built-in, digunakan untuk menemukan nilai minimum dan nilai maksimum dari array yang diberikan:"
      ]
    },
    {
      "cell_type": "code",
      "metadata": {
        "colab": {
          "base_uri": "https://localhost:8080/"
        },
        "id": "hsG_Z3wfyzb1",
        "outputId": "4e664652-0bc4-4536-9f07-a0fce81aea1f"
      },
      "source": [
        "min(big_array), max(big_array)"
      ],
      "execution_count": null,
      "outputs": [
        {
          "output_type": "execute_result",
          "data": {
            "text/plain": [
              "(7.071203171893359e-07, 0.9999997207656334)"
            ]
          },
          "metadata": {
            "tags": []
          },
          "execution_count": 158
        }
      ]
    },
    {
      "cell_type": "markdown",
      "metadata": {
        "id": "t4bu8SXf9qEe"
      },
      "source": [
        "NumPy memiliki sintaks yang serupa, dan jauh lebih cepat:"
      ]
    },
    {
      "cell_type": "code",
      "metadata": {
        "colab": {
          "base_uri": "https://localhost:8080/"
        },
        "id": "82ZsE3hXy2fT",
        "outputId": "64bc1ee1-fd62-4f0b-e1c5-01d11fcdb516"
      },
      "source": [
        "np.min(big_array), np.max(big_array)"
      ],
      "execution_count": null,
      "outputs": [
        {
          "output_type": "execute_result",
          "data": {
            "text/plain": [
              "(7.071203171893359e-07, 0.9999997207656334)"
            ]
          },
          "metadata": {
            "tags": []
          },
          "execution_count": 159
        }
      ]
    },
    {
      "cell_type": "code",
      "metadata": {
        "colab": {
          "base_uri": "https://localhost:8080/"
        },
        "id": "8PYCwlAGy9TQ",
        "outputId": "eaaa610a-992b-4779-d206-1a44ab725838"
      },
      "source": [
        "%timeit min(big_array)\n",
        "%timeit np.min(big_array)"
      ],
      "execution_count": null,
      "outputs": [
        {
          "output_type": "stream",
          "text": [
            "10 loops, best of 5: 103 ms per loop\n",
            "1000 loops, best of 5: 437 µs per loop\n"
          ],
          "name": "stdout"
        }
      ]
    },
    {
      "cell_type": "markdown",
      "metadata": {
        "id": "0LlvOvCJ975_"
      },
      "source": [
        "Sintaks yang lebih pendek untuk min, max, sum, dan beberapa agregat NumPy lainnya adalah menggunakan metode objek array itu sendiri:"
      ]
    },
    {
      "cell_type": "code",
      "metadata": {
        "colab": {
          "base_uri": "https://localhost:8080/"
        },
        "id": "QWGK6Ms5zBhE",
        "outputId": "61bc71de-6e26-4149-b25c-f8e49b7f2b77"
      },
      "source": [
        "print(big_array.min(), big_array.max(), big_array.sum())"
      ],
      "execution_count": null,
      "outputs": [
        {
          "output_type": "stream",
          "text": [
            "7.071203171893359e-07 0.9999997207656334 500216.8034810001\n"
          ],
          "name": "stdout"
        }
      ]
    },
    {
      "cell_type": "markdown",
      "metadata": {
        "id": "PsRZXn59zGHq"
      },
      "source": [
        "**Aggregat multidimensi**"
      ]
    },
    {
      "cell_type": "code",
      "metadata": {
        "colab": {
          "base_uri": "https://localhost:8080/"
        },
        "id": "vf4kPx45zJlP",
        "outputId": "1949cc31-db77-4bc7-f2da-939bc8dd9afe"
      },
      "source": [
        "M = np.random.random((3, 4))\n",
        "print(M)"
      ],
      "execution_count": null,
      "outputs": [
        {
          "output_type": "stream",
          "text": [
            "[[0.79832448 0.44923861 0.95274259 0.03193135]\n",
            " [0.18441813 0.71417358 0.76371195 0.11957117]\n",
            " [0.37578601 0.11936151 0.37497044 0.22944653]]\n"
          ],
          "name": "stdout"
        }
      ]
    },
    {
      "cell_type": "markdown",
      "metadata": {
        "id": "UJJ4j9km-45e"
      },
      "source": [
        "Secara default, setiap fungsi agregasi NumPy akan mengembalikan agregat ke seluruh array:"
      ]
    },
    {
      "cell_type": "code",
      "metadata": {
        "colab": {
          "base_uri": "https://localhost:8080/"
        },
        "id": "OqmQ39n8zcsQ",
        "outputId": "0139eea4-a7a8-421c-d0ec-ee4f6adbc39f"
      },
      "source": [
        " M.sum()"
      ],
      "execution_count": null,
      "outputs": [
        {
          "output_type": "execute_result",
          "data": {
            "text/plain": [
              "5.1136763453287335"
            ]
          },
          "metadata": {
            "tags": []
          },
          "execution_count": 163
        }
      ]
    },
    {
      "cell_type": "markdown",
      "metadata": {
        "id": "mwUmRCzs_GRg"
      },
      "source": [
        "Fungsi agregasi mengambil argumen tambahan yang menentukan sumbu penghitungan agregat. Misalnya, kita dapat menemukan nilai minimum dalam setiap kolom dengan menentukan axis = 0:"
      ]
    },
    {
      "cell_type": "code",
      "metadata": {
        "colab": {
          "base_uri": "https://localhost:8080/"
        },
        "id": "77dxR7LWzg2M",
        "outputId": "76c3d1b4-3d65-4a79-af9d-1c5a44ed0ba0"
      },
      "source": [
        "M.min(axis=0)"
      ],
      "execution_count": null,
      "outputs": [
        {
          "output_type": "execute_result",
          "data": {
            "text/plain": [
              "array([0.18441813, 0.11936151, 0.37497044, 0.03193135])"
            ]
          },
          "metadata": {
            "tags": []
          },
          "execution_count": 164
        }
      ]
    },
    {
      "cell_type": "markdown",
      "metadata": {
        "id": "CgX0ud5C_Urm"
      },
      "source": [
        "Fungsi mengembalikan empat nilai, sesuai dengan empat kolom angka."
      ]
    },
    {
      "cell_type": "markdown",
      "metadata": {
        "id": "YADdp6do_WN0"
      },
      "source": [
        "Demikian pula, kita dapat menemukan nilai maksimum dalam setiap baris:"
      ]
    },
    {
      "cell_type": "code",
      "metadata": {
        "colab": {
          "base_uri": "https://localhost:8080/"
        },
        "id": "mCIosSKR2_zv",
        "outputId": "433099ff-4f79-4380-a0b8-27e2a70dc5bd"
      },
      "source": [
        "M.max(axis=1)"
      ],
      "execution_count": null,
      "outputs": [
        {
          "output_type": "execute_result",
          "data": {
            "text/plain": [
              "array([0.95274259, 0.76371195, 0.37578601])"
            ]
          },
          "metadata": {
            "tags": []
          },
          "execution_count": 165
        }
      ]
    },
    {
      "cell_type": "markdown",
      "metadata": {
        "id": "J1DfafWt3QHU"
      },
      "source": [
        "**Example: berapa rata rata tinggi persiden US**\n",
        "\n",
        "Agregat yang tersedia di NumPy bisa sangat berguna untuk meringkas sekumpulan nilai. Sebagai contoh sederhana, mari kita pertimbangkan tinggi semua presiden AS. Data ini tersedia dalam file president_heights.csv(dalam cm):"
      ]
    },
    {
      "cell_type": "code",
      "metadata": {
        "colab": {
          "base_uri": "https://localhost:8080/"
        },
        "id": "ucaNKOCz3Q6b",
        "outputId": "121209fc-2550-4012-f440-66d0281fca82"
      },
      "source": [
        "!head -4 sample_data/president_heights.csv"
      ],
      "execution_count": null,
      "outputs": [
        {
          "output_type": "stream",
          "text": [
            "order,name,height(cm)\n",
            "1,George Washington,189\n",
            "2,John Adams,170\n",
            "3,Thomas Jefferson,189\n"
          ],
          "name": "stdout"
        }
      ]
    },
    {
      "cell_type": "code",
      "metadata": {
        "colab": {
          "base_uri": "https://localhost:8080/"
        },
        "id": "vNptP0vj80I9",
        "outputId": "0bf230b3-279a-4626-97e9-7bf76e731422"
      },
      "source": [
        "import pandas as pd\n",
        "data = pd.read_csv('sample_data/president_heights.csv')\n",
        "heights = np.array(data['height(cm)'])\n",
        "print(heights)"
      ],
      "execution_count": null,
      "outputs": [
        {
          "output_type": "stream",
          "text": [
            "[189 170 189 163 183 171 185 168 173 183 173 173 175 178 183 193 178 173\n",
            " 174 183 183 168 170 178 182 180 183 178 182 188 175 179 183 193 182 183\n",
            " 177 185 188 188 182 185]\n"
          ],
          "name": "stdout"
        }
      ]
    },
    {
      "cell_type": "code",
      "metadata": {
        "colab": {
          "base_uri": "https://localhost:8080/"
        },
        "id": "3FAhU-6A853Q",
        "outputId": "b313c05a-e005-4249-f346-f83300a2a01c"
      },
      "source": [
        "print(\"Mean height: \", heights.mean())\n",
        "print(\"Standard deviation:\", heights.std())\n",
        "print(\"Minimum height: \", heights.min())\n",
        "print(\"Maximum height: \", heights.max())"
      ],
      "execution_count": null,
      "outputs": [
        {
          "output_type": "stream",
          "text": [
            "Mean height:  179.73809523809524\n",
            "Standard deviation: 6.931843442745892\n",
            "Minimum height:  163\n",
            "Maximum height:  193\n"
          ],
          "name": "stdout"
        }
      ]
    },
    {
      "cell_type": "code",
      "metadata": {
        "colab": {
          "base_uri": "https://localhost:8080/"
        },
        "id": "gykMy4oy89xE",
        "outputId": "87e2c37c-c303-4c77-c9e5-554fb0c33555"
      },
      "source": [
        "print(\"25th percentile: \", np.percentile(heights, 25))\n",
        "print(\"Median: \", np.median(heights))\n",
        "print(\"75th percentile: \", np.percentile(heights, 75))"
      ],
      "execution_count": null,
      "outputs": [
        {
          "output_type": "stream",
          "text": [
            "25th percentile:  174.25\n",
            "Median:  182.0\n",
            "75th percentile:  183.0\n"
          ],
          "name": "stdout"
        }
      ]
    },
    {
      "cell_type": "markdown",
      "metadata": {
        "id": "9pI5JXt-Ayor"
      },
      "source": [
        "Dapat dilihat bahwa median tinggi presiden AS adalah 182 cm.\n",
        "\n",
        "\n",
        "Tentu saja, terkadang lebih berguna untuk melihat representasi visual dari data ini, yang dapat kita capai menggunakan alat di Matplotlib :"
      ]
    },
    {
      "cell_type": "code",
      "metadata": {
        "id": "dgGoFrSN9BJT"
      },
      "source": [
        "%matplotlib inline\n",
        "import matplotlib.pyplot as plt\n",
        "import seaborn; seaborn.set() # set plot style"
      ],
      "execution_count": null,
      "outputs": []
    },
    {
      "cell_type": "code",
      "metadata": {
        "colab": {
          "base_uri": "https://localhost:8080/",
          "height": 301
        },
        "id": "xK5CpMtE9ESM",
        "outputId": "53fe906a-c51e-404c-da92-46a1100cf89d"
      },
      "source": [
        "plt.hist(heights)\n",
        "plt.title('Height Distribution of US Presidents')\n",
        "plt.xlabel('height (cm)')\n",
        "plt.ylabel('number');"
      ],
      "execution_count": null,
      "outputs": [
        {
          "output_type": "display_data",
          "data": {
            "image/png": "[encoded data removed]",
            "text/plain": [
              "<Figure size 432x288 with 1 Axes>"
            ]
          },
          "metadata": {
            "tags": []
          }
        }
      ]
    },
    {
      "cell_type": "markdown",
      "metadata": {
        "id": "vvOGl0IL9NgT"
      },
      "source": [
        "**Pengenalan Broadcasting**\n",
        "\n",
        "Broadcasting memungkinkan jenis operasi biner dilakukan pada array dengan ukuran berbeda — misalnya, kita dapat dengan mudah menambahkan skalar (anggap saja sebagai larik zerodimensi) ke sebuah array:"
      ]
    },
    {
      "cell_type": "code",
      "metadata": {
        "id": "RskXO3da9NHu"
      },
      "source": [
        "import numpy as np"
      ],
      "execution_count": null,
      "outputs": []
    },
    {
      "cell_type": "code",
      "metadata": {
        "colab": {
          "base_uri": "https://localhost:8080/"
        },
        "id": "-MNs8vci9UkI",
        "outputId": "b12f191a-1e53-4d9e-b5c3-affe00f5f2cc"
      },
      "source": [
        "a = np.array([0, 1, 2])\n",
        "b = np.array([5, 5, 5])\n",
        "a + b"
      ],
      "execution_count": null,
      "outputs": [
        {
          "output_type": "execute_result",
          "data": {
            "text/plain": [
              "array([5, 6, 7])"
            ]
          },
          "metadata": {
            "tags": []
          },
          "execution_count": 175
        }
      ]
    },
    {
      "cell_type": "code",
      "metadata": {
        "colab": {
          "base_uri": "https://localhost:8080/"
        },
        "id": "LrqTmL-T9bLJ",
        "outputId": "4ba96dc0-3fb5-43e2-dd34-754fbfd6e455"
      },
      "source": [
        "a + 5"
      ],
      "execution_count": null,
      "outputs": [
        {
          "output_type": "execute_result",
          "data": {
            "text/plain": [
              "array([5, 6, 7])"
            ]
          },
          "metadata": {
            "tags": []
          },
          "execution_count": 176
        }
      ]
    },
    {
      "cell_type": "markdown",
      "metadata": {
        "id": "VkG6D9tUCk6k"
      },
      "source": [
        "Kita dapat menganggap ini sebagai menggandakan nilai 5 ke dalam array [5, 5, 5], dan menambahkan hasilnya. Keuntungan dari broadcasting NumPy adalah bahwa duplikasi nilai ini tidak benar-benar terjadi, tetapi merupakan model mental yang berguna seperti yang kita pikirkan tentang broadcasting.\n",
        "\n",
        "\n",
        "Kita juga dapat memperluas ini ke array dengan dimensi yang lebih tinggi. Amati hasilnya saat kita menambahkan array satu dimensi ke array dua dimensi:"
      ]
    },
    {
      "cell_type": "code",
      "metadata": {
        "colab": {
          "base_uri": "https://localhost:8080/"
        },
        "id": "ayWYn9WK9hKx",
        "outputId": "63b28e83-1c3c-4cb6-b869-ad5e38f7d8c8"
      },
      "source": [
        "M = np.ones((3, 3))\n",
        "M"
      ],
      "execution_count": null,
      "outputs": [
        {
          "output_type": "execute_result",
          "data": {
            "text/plain": [
              "array([[1., 1., 1.],\n",
              "       [1., 1., 1.],\n",
              "       [1., 1., 1.]])"
            ]
          },
          "metadata": {
            "tags": []
          },
          "execution_count": 177
        }
      ]
    },
    {
      "cell_type": "code",
      "metadata": {
        "colab": {
          "base_uri": "https://localhost:8080/"
        },
        "id": "6SrESmCS9nuf",
        "outputId": "4143337e-e4fc-41c3-fe90-14bffdc1406a"
      },
      "source": [
        "M + a"
      ],
      "execution_count": null,
      "outputs": [
        {
          "output_type": "execute_result",
          "data": {
            "text/plain": [
              "array([[1., 2., 3.],\n",
              "       [1., 2., 3.],\n",
              "       [1., 2., 3.]])"
            ]
          },
          "metadata": {
            "tags": []
          },
          "execution_count": 178
        }
      ]
    },
    {
      "cell_type": "code",
      "metadata": {
        "colab": {
          "base_uri": "https://localhost:8080/"
        },
        "id": "zLDRQ-QL9qPF",
        "outputId": "8ab156a5-ecec-4471-ecdc-be24a14c7207"
      },
      "source": [
        " a = np.arange(3)\n",
        "b = np.arange(3)[:, np.newaxis]\n",
        "print(a)\n",
        "print(b)"
      ],
      "execution_count": null,
      "outputs": [
        {
          "output_type": "stream",
          "text": [
            "[0 1 2]\n",
            "[[0]\n",
            " [1]\n",
            " [2]]\n"
          ],
          "name": "stdout"
        }
      ]
    },
    {
      "cell_type": "code",
      "metadata": {
        "colab": {
          "base_uri": "https://localhost:8080/"
        },
        "id": "0whpBoal9x_3",
        "outputId": "9a049c3a-a058-4193-97d2-e68841b42e22"
      },
      "source": [
        "a + b"
      ],
      "execution_count": null,
      "outputs": [
        {
          "output_type": "execute_result",
          "data": {
            "text/plain": [
              "array([[0, 1, 2],\n",
              "       [1, 2, 3],\n",
              "       [2, 3, 4]])"
            ]
          },
          "metadata": {
            "tags": []
          },
          "execution_count": 180
        }
      ]
    },
    {
      "cell_type": "markdown",
      "metadata": {
        "id": "lzf4Nl-nDah1"
      },
      "source": [
        "Broadcasting di NumPy mengikuti serangkaian aturan ketat untuk menentukan interaksi antara dua larik:\n",
        "\n",
        "\n",
        "1.  Aturan 1: Jika dua array berbeda dalam jumlah dimensinya, bentuk array dengan dimensi lebih sedikit diisi dengan array di sisi depan (kiri).\n",
        "2. Aturan 2: Jika bentuk dari dua array tidak cocok dalam dimensi mana pun, array dengan bentuk yang sama dengan 1 dalam dimensi itu akan diregangkan agar sesuai dengan bentuk lainnya.\n",
        "3. Aturan 3: Jika dalam dimensi mana pun ukurannya tidak sesuai dan tidak ada yang sama dengan 1, kesalahan akan dimunculkan."
      ]
    },
    {
      "cell_type": "markdown",
      "metadata": {
        "id": "hMPEj-4095Xx"
      },
      "source": [
        "**Broadcasting example 1**"
      ]
    },
    {
      "cell_type": "code",
      "metadata": {
        "id": "xm69Dtr191Gl"
      },
      "source": [
        "M = np.ones((2, 3))\n",
        "a = np.arange(3)"
      ],
      "execution_count": null,
      "outputs": []
    },
    {
      "cell_type": "code",
      "metadata": {
        "colab": {
          "base_uri": "https://localhost:8080/"
        },
        "id": "-zyRmY48-Dt4",
        "outputId": "22da90fe-c887-4afc-f991-ba35b511ac92"
      },
      "source": [
        "M + a"
      ],
      "execution_count": null,
      "outputs": [
        {
          "output_type": "execute_result",
          "data": {
            "text/plain": [
              "array([[1., 2., 3.],\n",
              "       [1., 2., 3.]])"
            ]
          },
          "metadata": {
            "tags": []
          },
          "execution_count": 182
        }
      ]
    },
    {
      "cell_type": "markdown",
      "metadata": {
        "id": "PueZYXB9-MRW"
      },
      "source": [
        "**Broadcasting example 2**"
      ]
    },
    {
      "cell_type": "code",
      "metadata": {
        "id": "cKkI9oN2-QGn"
      },
      "source": [
        "a = np.arange(3).reshape((3, 1))\n",
        "b = np.arange(3)"
      ],
      "execution_count": null,
      "outputs": []
    },
    {
      "cell_type": "code",
      "metadata": {
        "colab": {
          "base_uri": "https://localhost:8080/"
        },
        "id": "WomrmQ8j-Wr0",
        "outputId": "5dd2bd84-6bb9-4bb8-b52d-1a97b6c3825a"
      },
      "source": [
        "a + b"
      ],
      "execution_count": null,
      "outputs": [
        {
          "output_type": "execute_result",
          "data": {
            "text/plain": [
              "array([[0, 1, 2],\n",
              "       [1, 2, 3],\n",
              "       [2, 3, 4]])"
            ]
          },
          "metadata": {
            "tags": []
          },
          "execution_count": 184
        }
      ]
    },
    {
      "cell_type": "markdown",
      "metadata": {
        "id": "rLVrLZtq-byr"
      },
      "source": [
        "**Broadcasting example 3**"
      ]
    },
    {
      "cell_type": "code",
      "metadata": {
        "id": "4FUucEbi-fBh"
      },
      "source": [
        "M = np.ones((3, 2))\n",
        "a = np.arange(3)"
      ],
      "execution_count": null,
      "outputs": []
    },
    {
      "cell_type": "markdown",
      "metadata": {
        "id": "_t3gAVJHEccV"
      },
      "source": [
        "aturan 3 — bentuk akhir tidak cocok, jadi kedua array ini tidak kompatibel, maka muncul error:"
      ]
    },
    {
      "cell_type": "code",
      "metadata": {
        "colab": {
          "base_uri": "https://localhost:8080/",
          "height": 164
        },
        "id": "NmK3StZl-mHh",
        "outputId": "fa4f33c9-478f-4d44-c32e-298e150f6b85"
      },
      "source": [
        "M + a"
      ],
      "execution_count": null,
      "outputs": [
        {
          "output_type": "error",
          "ename": "ValueError",
          "evalue": "ignored",
          "traceback": [
            "\u001b[0;31m---------------------------------------------------------------------------\u001b[0m",
            "\u001b[0;31mValueError\u001b[0m                                Traceback (most recent call last)",
            "\u001b[0;32m<ipython-input-186-8cac1d547906>\u001b[0m in \u001b[0;36m<module>\u001b[0;34m()\u001b[0m\n\u001b[0;32m----> 1\u001b[0;31m \u001b[0mM\u001b[0m \u001b[0;34m+\u001b[0m \u001b[0ma\u001b[0m\u001b[0;34m\u001b[0m\u001b[0;34m\u001b[0m\u001b[0m\n\u001b[0m",
            "\u001b[0;31mValueError\u001b[0m: operands could not be broadcast together with shapes (3,2) (3,) "
          ]
        }
      ]
    },
    {
      "cell_type": "markdown",
      "metadata": {
        "id": "TmTu2DdDIoMR"
      },
      "source": [
        "Fleksibilitas semacam itu mungkin berguna dalam beberapa kasus, tetapi akan mengarah pada ambiguitas. Jika pengisi sisi kanan adalah yang diinginkan, kita dapat melakukannya secara eksplisit dengan membentuk kembali array (kita akan menggunakan kata kunci np.newaxis ):"
      ]
    },
    {
      "cell_type": "code",
      "metadata": {
        "colab": {
          "base_uri": "https://localhost:8080/"
        },
        "id": "7vN0esWi-q7B",
        "outputId": "1ceb17c8-bb24-4436-a15c-523ccf2ca208"
      },
      "source": [
        "a[:, np.newaxis].shape"
      ],
      "execution_count": null,
      "outputs": [
        {
          "output_type": "execute_result",
          "data": {
            "text/plain": [
              "(3, 1)"
            ]
          },
          "metadata": {
            "tags": []
          },
          "execution_count": 187
        }
      ]
    },
    {
      "cell_type": "code",
      "metadata": {
        "colab": {
          "base_uri": "https://localhost:8080/"
        },
        "id": "vDyibm6V-yYK",
        "outputId": "a261ec29-225b-4e93-e601-6119ad9f5454"
      },
      "source": [
        "M + a[:, np.newaxis]"
      ],
      "execution_count": null,
      "outputs": [
        {
          "output_type": "execute_result",
          "data": {
            "text/plain": [
              "array([[1., 1.],\n",
              "       [2., 2.],\n",
              "       [3., 3.]])"
            ]
          },
          "metadata": {
            "tags": []
          },
          "execution_count": 188
        }
      ]
    },
    {
      "cell_type": "code",
      "metadata": {
        "colab": {
          "base_uri": "https://localhost:8080/"
        },
        "id": "rzHfq6_M-0sK",
        "outputId": "fd089c44-5446-4150-82ca-392a37287210"
      },
      "source": [
        "M + a[:, np.newaxis]"
      ],
      "execution_count": null,
      "outputs": [
        {
          "output_type": "execute_result",
          "data": {
            "text/plain": [
              "array([[1., 1.],\n",
              "       [2., 2.],\n",
              "       [3., 3.]])"
            ]
          },
          "metadata": {
            "tags": []
          },
          "execution_count": 189
        }
      ]
    },
    {
      "cell_type": "markdown",
      "metadata": {
        "id": "wc7VFigF-5QP"
      },
      "source": [
        "**Memusatkan array**\n",
        "\n"
      ]
    },
    {
      "cell_type": "code",
      "metadata": {
        "id": "ScOjnXGm-7fi"
      },
      "source": [
        "X = np.random.random((10, 3))"
      ],
      "execution_count": null,
      "outputs": []
    },
    {
      "cell_type": "markdown",
      "metadata": {
        "id": "vxpTVKcKRQI0"
      },
      "source": [
        "Kita dapat menghitung rata-rata setiap fitur menggunakan agregat rata-rata di seluruh dimensi pertama:"
      ]
    },
    {
      "cell_type": "code",
      "metadata": {
        "colab": {
          "base_uri": "https://localhost:8080/"
        },
        "id": "ox834EYh-_C9",
        "outputId": "045db027-4e07-47de-d325-acea577adf43"
      },
      "source": [
        "Xmean = X.mean(0)\n",
        "Xmean"
      ],
      "execution_count": null,
      "outputs": [
        {
          "output_type": "execute_result",
          "data": {
            "text/plain": [
              "array([0.49831076, 0.50193438, 0.46752888])"
            ]
          },
          "metadata": {
            "tags": []
          },
          "execution_count": 192
        }
      ]
    },
    {
      "cell_type": "markdown",
      "metadata": {
        "id": "qccd62m8RZGk"
      },
      "source": [
        "Dan sekarang kita bisa memusatkan array X dengan mengurangkan mean (ini adalah operasi broadcasting):"
      ]
    },
    {
      "cell_type": "code",
      "metadata": {
        "id": "rlni2QTE-_o4"
      },
      "source": [
        "X_centered = X - Xmean"
      ],
      "execution_count": null,
      "outputs": []
    },
    {
      "cell_type": "code",
      "metadata": {
        "colab": {
          "base_uri": "https://localhost:8080/"
        },
        "id": "dDWgk03c_HP2",
        "outputId": "c27114d2-427c-4d10-8db5-0df85adc159f"
      },
      "source": [
        "X_centered.mean(0)"
      ],
      "execution_count": null,
      "outputs": [
        {
          "output_type": "execute_result",
          "data": {
            "text/plain": [
              "array([-4.44089210e-17,  3.33066907e-17, -9.43689571e-17])"
            ]
          },
          "metadata": {
            "tags": []
          },
          "execution_count": 194
        }
      ]
    },
    {
      "cell_type": "markdown",
      "metadata": {
        "id": "Yi2Ko7YE_OZu"
      },
      "source": [
        "Merencanakan fungsi dua dimensi\n",
        "\n",
        "Salah satu tempat yang sangat berguna dalam broadcasting adalah menampilkan gambar berdasarkan fungsi dua dimensi. Jika kita ingin mendefinisikan fungsi z = f (x, y), broadcasting dapat digunakan untuk menghitung fungsi melintasi grid:"
      ]
    },
    {
      "cell_type": "code",
      "metadata": {
        "id": "nmEZPBnJ_WdA"
      },
      "source": [
        "# x and y have 50 steps from 0 to 5\n",
        "x = np.linspace(0, 5, 50)\n",
        "y = np.linspace(0, 5, 50)[:, np.newaxis]\n",
        "z = np.sin(x) ** 10 + np.cos(10 + y * x) * np.cos(x)"
      ],
      "execution_count": null,
      "outputs": []
    },
    {
      "cell_type": "code",
      "metadata": {
        "id": "QaQsG-o8_ha-"
      },
      "source": [
        "%matplotlib inline\n",
        "import matplotlib.pyplot as plt"
      ],
      "execution_count": null,
      "outputs": []
    },
    {
      "cell_type": "code",
      "metadata": {
        "colab": {
          "base_uri": "https://localhost:8080/",
          "height": 272
        },
        "id": "L7rpn-Uc_nwp",
        "outputId": "64672da1-1e2a-4814-bd12-5e26b6c291e0"
      },
      "source": [
        "plt.imshow(z, origin='lower', extent=[0, 5, 0, 5],\n",
        "cmap='viridis')\n",
        "plt.colorbar();"
      ],
      "execution_count": null,
      "outputs": [
        {
          "output_type": "display_data",
          "data": {
            "image/png": "[encoded data removed]",
            "text/plain": [
              "<Figure size 432x288 with 2 Axes>"
            ]
          },
          "metadata": {
            "tags": [],
            "needs_background": "light"
          }
        }
      ]
    },
    {
      "cell_type": "markdown",
      "metadata": {
        "id": "Ke8xfWVu_6NN"
      },
      "source": [
        "**Contoh: Menghitung Hari Hujan**\n",
        "\n",
        "Misalnya, di sini kita akan memuat statistik curah hujan harian untuk kota Seattle pada tahun 2014, menggunakan Pandas :"
      ]
    },
    {
      "cell_type": "code",
      "metadata": {
        "colab": {
          "base_uri": "https://localhost:8080/"
        },
        "id": "9QOLfFCq_3uM",
        "outputId": "f2c60f9b-7d51-40a3-98ee-67d71098edba"
      },
      "source": [
        "import numpy as np\n",
        "import pandas as pd\n",
        "# use Pandas to extract rainfall inches as a NumPy array\n",
        "rainfall = pd.read_csv('sample_data/Seattle2014.csv')['PRCP'].values\n",
        "inches = rainfall / 254 # 1/10mm -> inches\n",
        "inches.shape"
      ],
      "execution_count": null,
      "outputs": [
        {
          "output_type": "execute_result",
          "data": {
            "text/plain": [
              "(365,)"
            ]
          },
          "metadata": {
            "tags": []
          },
          "execution_count": 200
        }
      ]
    },
    {
      "cell_type": "markdown",
      "metadata": {
        "id": "gY8l7MS3bmiC"
      },
      "source": [
        "Array berisi 365 nilai, memberikan curah hujan harian dalam inci dari 1 Januari hingga 31 Desember 2014."
      ]
    },
    {
      "cell_type": "code",
      "metadata": {
        "id": "V8nnz_23BOjj"
      },
      "source": [
        "%matplotlib inline\n",
        "import matplotlib.pyplot as plt\n",
        "import seaborn; seaborn.set() # set plot styles"
      ],
      "execution_count": null,
      "outputs": []
    },
    {
      "cell_type": "code",
      "metadata": {
        "colab": {
          "base_uri": "https://localhost:8080/",
          "height": 268
        },
        "id": "wQJjaGiXBXce",
        "outputId": "22237737-fd92-442a-a875-3696fff4f5cc"
      },
      "source": [
        "plt.hist(inches, 40);"
      ],
      "execution_count": null,
      "outputs": [
        {
          "output_type": "display_data",
          "data": {
            "image/png": "[encoded data removed]",
            "text/plain": [
              "<Figure size 432x288 with 1 Axes>"
            ]
          },
          "metadata": {
            "tags": []
          }
        }
      ]
    },
    {
      "cell_type": "markdown",
      "metadata": {
        "id": "tTJGSvLyBgXG"
      },
      "source": [
        "**Operator Perbandingan sebagai ufunc**\n",
        "\n",
        " \n",
        "NumPy juga mengimplementasikan operator perbandingan seperti kurang dari( < ) dan lebih besar dari ( > ).\n",
        "Hasil dari operator perbandingan ini selalu berupa array dengan tipe data Boolean."
      ]
    },
    {
      "cell_type": "code",
      "metadata": {
        "id": "zDWoT25iBhhP"
      },
      "source": [
        "x = np.array([1, 2, 3, 4, 5])"
      ],
      "execution_count": null,
      "outputs": []
    },
    {
      "cell_type": "code",
      "metadata": {
        "colab": {
          "base_uri": "https://localhost:8080/"
        },
        "id": "w12ja0UvBl4m",
        "outputId": "7d90091d-5acc-4054-f15d-df0227173cd4"
      },
      "source": [
        "x < 3 # lebih kecil dari"
      ],
      "execution_count": null,
      "outputs": [
        {
          "output_type": "execute_result",
          "data": {
            "text/plain": [
              "array([ True,  True,  True,  True,  True,  True,  True,  True,  True,\n",
              "        True,  True,  True,  True,  True,  True,  True,  True,  True,\n",
              "        True,  True,  True,  True,  True,  True,  True,  True,  True,\n",
              "        True,  True,  True, False, False, False, False, False, False,\n",
              "       False, False, False, False, False, False, False, False, False,\n",
              "       False, False, False, False, False])"
            ]
          },
          "metadata": {
            "tags": []
          },
          "execution_count": 203
        }
      ]
    },
    {
      "cell_type": "code",
      "metadata": {
        "colab": {
          "base_uri": "https://localhost:8080/"
        },
        "id": "iMmFPiXEBz-_",
        "outputId": "f90a4c69-e53d-43ab-ecda-90087c2d2b9b"
      },
      "source": [
        " x > 3 # lebih besar dari"
      ],
      "execution_count": null,
      "outputs": [
        {
          "output_type": "execute_result",
          "data": {
            "text/plain": [
              "array([False, False, False, False, False, False, False, False, False,\n",
              "       False, False, False, False, False, False, False, False, False,\n",
              "       False, False, False, False, False, False, False, False, False,\n",
              "       False, False, False,  True,  True,  True,  True,  True,  True,\n",
              "        True,  True,  True,  True,  True,  True,  True,  True,  True,\n",
              "        True,  True,  True,  True,  True])"
            ]
          },
          "metadata": {
            "tags": []
          },
          "execution_count": 204
        }
      ]
    },
    {
      "cell_type": "code",
      "metadata": {
        "colab": {
          "base_uri": "https://localhost:8080/"
        },
        "id": "XSSG4SFpB5Sv",
        "outputId": "0808c915-ae68-4ef6-91e5-615eac954790"
      },
      "source": [
        "x <= 3 # kecil sama dengan"
      ],
      "execution_count": null,
      "outputs": [
        {
          "output_type": "execute_result",
          "data": {
            "text/plain": [
              "array([ True,  True,  True,  True,  True,  True,  True,  True,  True,\n",
              "        True,  True,  True,  True,  True,  True,  True,  True,  True,\n",
              "        True,  True,  True,  True,  True,  True,  True,  True,  True,\n",
              "        True,  True,  True, False, False, False, False, False, False,\n",
              "       False, False, False, False, False, False, False, False, False,\n",
              "       False, False, False, False, False])"
            ]
          },
          "metadata": {
            "tags": []
          },
          "execution_count": 205
        }
      ]
    },
    {
      "cell_type": "code",
      "metadata": {
        "colab": {
          "base_uri": "https://localhost:8080/"
        },
        "id": "1DzYrXkCB9rx",
        "outputId": "f245789b-112e-49e3-b386-24d22d5cb00b"
      },
      "source": [
        "x >= 3 # besar sama dengan"
      ],
      "execution_count": null,
      "outputs": [
        {
          "output_type": "execute_result",
          "data": {
            "text/plain": [
              "array([False, False, False, False, False, False, False, False, False,\n",
              "       False, False, False, False, False, False, False, False, False,\n",
              "       False, False, False, False, False, False, False, False, False,\n",
              "       False, False, False,  True,  True,  True,  True,  True,  True,\n",
              "        True,  True,  True,  True,  True,  True,  True,  True,  True,\n",
              "        True,  True,  True,  True,  True])"
            ]
          },
          "metadata": {
            "tags": []
          },
          "execution_count": 206
        }
      ]
    },
    {
      "cell_type": "code",
      "metadata": {
        "colab": {
          "base_uri": "https://localhost:8080/"
        },
        "id": "b3JEpajACBR1",
        "outputId": "e2e21f9f-60d2-4e7c-c84d-446dd29d7a83"
      },
      "source": [
        "x != 3 # tidak sama"
      ],
      "execution_count": null,
      "outputs": [
        {
          "output_type": "execute_result",
          "data": {
            "text/plain": [
              "array([ True,  True,  True,  True,  True,  True,  True,  True,  True,\n",
              "        True,  True,  True,  True,  True,  True,  True,  True,  True,\n",
              "        True,  True,  True,  True,  True,  True,  True,  True,  True,\n",
              "        True,  True,  True,  True,  True,  True,  True,  True,  True,\n",
              "        True,  True,  True,  True,  True,  True,  True,  True,  True,\n",
              "        True,  True,  True,  True,  True])"
            ]
          },
          "metadata": {
            "tags": []
          },
          "execution_count": 207
        }
      ]
    },
    {
      "cell_type": "code",
      "metadata": {
        "colab": {
          "base_uri": "https://localhost:8080/"
        },
        "id": "LPyR7RjSCF30",
        "outputId": "4487e3a9-ff70-4c4c-ea6b-020164faae69"
      },
      "source": [
        "x == 3 # sama dengan"
      ],
      "execution_count": null,
      "outputs": [
        {
          "output_type": "execute_result",
          "data": {
            "text/plain": [
              "array([False, False, False, False, False, False, False, False, False,\n",
              "       False, False, False, False, False, False, False, False, False,\n",
              "       False, False, False, False, False, False, False, False, False,\n",
              "       False, False, False, False, False, False, False, False, False,\n",
              "       False, False, False, False, False, False, False, False, False,\n",
              "       False, False, False, False, False])"
            ]
          },
          "metadata": {
            "tags": []
          },
          "execution_count": 208
        }
      ]
    },
    {
      "cell_type": "markdown",
      "metadata": {
        "id": "76vszqkT7f_5"
      },
      "source": [
        "Kita juga dapat melakukan perbandingan elemen-demi-elemen dari dua array, dan menyertakan ekspresi gabungan:"
      ]
    },
    {
      "cell_type": "code",
      "metadata": {
        "colab": {
          "base_uri": "https://localhost:8080/"
        },
        "id": "_4qADd7XCJZS",
        "outputId": "18adfd1c-b9b3-4fed-8a59-89bdca7928f4"
      },
      "source": [
        "(2 * x) == (x ** 2)"
      ],
      "execution_count": null,
      "outputs": [
        {
          "output_type": "execute_result",
          "data": {
            "text/plain": [
              "array([ True, False, False, False, False, False, False, False, False,\n",
              "       False, False, False, False, False, False, False, False, False,\n",
              "       False, False, False, False, False, False, False, False, False,\n",
              "       False, False, False, False, False, False, False, False, False,\n",
              "       False, False, False, False, False, False, False, False, False,\n",
              "       False, False, False, False, False])"
            ]
          },
          "metadata": {
            "tags": []
          },
          "execution_count": 209
        }
      ]
    },
    {
      "cell_type": "markdown",
      "metadata": {
        "id": "bk75rr359x-o"
      },
      "source": [
        "Operator perbandingan ini dapat digunakan pada arrau 2 dimensi"
      ]
    },
    {
      "cell_type": "code",
      "metadata": {
        "colab": {
          "base_uri": "https://localhost:8080/"
        },
        "id": "R4y_nUkMCOeG",
        "outputId": "e1e74896-89b2-4104-d487-2a37db0ae982"
      },
      "source": [
        "rng = np.random.RandomState(0)\n",
        "x = rng.randint(10, size=(3, 4))\n",
        "x"
      ],
      "execution_count": null,
      "outputs": [
        {
          "output_type": "execute_result",
          "data": {
            "text/plain": [
              "array([[5, 0, 3, 3],\n",
              "       [7, 9, 3, 5],\n",
              "       [2, 4, 7, 6]])"
            ]
          },
          "metadata": {
            "tags": []
          },
          "execution_count": 210
        }
      ]
    },
    {
      "cell_type": "code",
      "metadata": {
        "colab": {
          "base_uri": "https://localhost:8080/"
        },
        "id": "NryOT9BkChQM",
        "outputId": "e7f41ec8-07e3-4855-a76e-236ea3dd73b0"
      },
      "source": [
        "x < 6"
      ],
      "execution_count": null,
      "outputs": [
        {
          "output_type": "execute_result",
          "data": {
            "text/plain": [
              "array([[ True,  True,  True,  True],\n",
              "       [False, False,  True,  True],\n",
              "       [ True,  True, False, False]])"
            ]
          },
          "metadata": {
            "tags": []
          },
          "execution_count": 211
        }
      ]
    },
    {
      "cell_type": "markdown",
      "metadata": {
        "id": "WMjPmpPGCozI"
      },
      "source": [
        "**Bekerja dengan Array Boolean**\n",
        "\n",
        "Dengan adanya array Boolean, ada sejumlah operasi berguna yang dapat kita lakukan. Kita akan mengerjakan array dua dimensi yang kita buat sebelumnya:"
      ]
    },
    {
      "cell_type": "code",
      "metadata": {
        "colab": {
          "base_uri": "https://localhost:8080/"
        },
        "id": "cvKZ4ITECsCK",
        "outputId": "2a82ca2b-1fe6-4e2d-a44b-f1ef90ed5031"
      },
      "source": [
        "print(x)"
      ],
      "execution_count": null,
      "outputs": [
        {
          "output_type": "stream",
          "text": [
            "[[5 0 3 3]\n",
            " [7 9 3 5]\n",
            " [2 4 7 6]]\n"
          ],
          "name": "stdout"
        }
      ]
    },
    {
      "cell_type": "markdown",
      "metadata": {
        "id": "qeqYBUy7_mWY"
      },
      "source": [
        "**Menghitung entries**\n",
        "\n",
        "np.count_nonzero digunakan untuk menghitung jumlah entri True dalam array Boolean:"
      ]
    },
    {
      "cell_type": "code",
      "metadata": {
        "colab": {
          "base_uri": "https://localhost:8080/"
        },
        "id": "PE5tCrYHC0mC",
        "outputId": "b118e090-4a43-4661-bd37-57ea98ea5c0c"
      },
      "source": [
        "# how many values less than 6?\n",
        "np.count_nonzero(x < 6)"
      ],
      "execution_count": null,
      "outputs": [
        {
          "output_type": "execute_result",
          "data": {
            "text/plain": [
              "8"
            ]
          },
          "metadata": {
            "tags": []
          },
          "execution_count": 213
        }
      ]
    },
    {
      "cell_type": "markdown",
      "metadata": {
        "id": "px9srfdXAkh_"
      },
      "source": [
        "Kita melihat bahwa ada delapan entri array yang kurang dari 6. Cara lain untuk mendapatkan informasi ini adalah dengan menggunakan np.sum; dalam hal ini, False diinterpretasikan sebagai 0, dan True diinterpretasikan sebagai 1:"
      ]
    },
    {
      "cell_type": "code",
      "metadata": {
        "colab": {
          "base_uri": "https://localhost:8080/"
        },
        "id": "6FT3osiXC53e",
        "outputId": "f5adfa10-bc25-4dd9-ad7c-e1b753f0e4b5"
      },
      "source": [
        "np.sum(x < 6)"
      ],
      "execution_count": null,
      "outputs": [
        {
          "output_type": "execute_result",
          "data": {
            "text/plain": [
              "8"
            ]
          },
          "metadata": {
            "tags": []
          },
          "execution_count": 214
        }
      ]
    },
    {
      "cell_type": "markdown",
      "metadata": {
        "id": "OiiYCKrkBn77"
      },
      "source": [
        "Manfaat sum () adalah penjumlahan ini juga dapat dilakukan di sepanjang baris atau kolom:"
      ]
    },
    {
      "cell_type": "code",
      "metadata": {
        "colab": {
          "base_uri": "https://localhost:8080/"
        },
        "id": "hAbh9pXwC8S2",
        "outputId": "e8140d64-4260-4445-88c2-9de696ed364e"
      },
      "source": [
        "# how many values less than 6 in each row?\n",
        "np.sum(x < 6, axis=1)"
      ],
      "execution_count": null,
      "outputs": [
        {
          "output_type": "execute_result",
          "data": {
            "text/plain": [
              "array([4, 2, 2])"
            ]
          },
          "metadata": {
            "tags": []
          },
          "execution_count": 215
        }
      ]
    },
    {
      "cell_type": "markdown",
      "metadata": {
        "id": "vZ0HGIOnDjk_"
      },
      "source": [
        "Jika kita ingin memeriksa apakah salah satu atau semua nilai benar, kita dapat menggunakan np.any () atau np.all ():"
      ]
    },
    {
      "cell_type": "code",
      "metadata": {
        "colab": {
          "base_uri": "https://localhost:8080/"
        },
        "id": "8km977anDA3p",
        "outputId": "891f8ba7-fb5c-48ac-9f0c-c3f06f8b3462"
      },
      "source": [
        "# apakah ada nilai yang lebih besar dari 8?\n",
        "np.any(x > 8)"
      ],
      "execution_count": null,
      "outputs": [
        {
          "output_type": "execute_result",
          "data": {
            "text/plain": [
              "True"
            ]
          },
          "metadata": {
            "tags": []
          },
          "execution_count": 216
        }
      ]
    },
    {
      "cell_type": "code",
      "metadata": {
        "colab": {
          "base_uri": "https://localhost:8080/"
        },
        "id": "KU0TDr5MDDYr",
        "outputId": "8e6d7dd5-b394-4207-96c9-66de6c835a25"
      },
      "source": [
        "# apakah ada nilai yang kecil dari 0?\n",
        "np.any(x < 0)"
      ],
      "execution_count": null,
      "outputs": [
        {
          "output_type": "execute_result",
          "data": {
            "text/plain": [
              "False"
            ]
          },
          "metadata": {
            "tags": []
          },
          "execution_count": 217
        }
      ]
    },
    {
      "cell_type": "code",
      "metadata": {
        "colab": {
          "base_uri": "https://localhost:8080/"
        },
        "id": "rEORGKAiDF3m",
        "outputId": "130dd100-1487-4c51-8e0f-3b8271a7a6ec"
      },
      "source": [
        "# apakah semua nilai kecil dari 10?\n",
        "np.all(x < 10)"
      ],
      "execution_count": null,
      "outputs": [
        {
          "output_type": "execute_result",
          "data": {
            "text/plain": [
              "True"
            ]
          },
          "metadata": {
            "tags": []
          },
          "execution_count": 218
        }
      ]
    },
    {
      "cell_type": "code",
      "metadata": {
        "colab": {
          "base_uri": "https://localhost:8080/"
        },
        "id": "2tO7ymqRDIMr",
        "outputId": "f9058159-928c-4cdb-82a1-68cd2cdb11b6"
      },
      "source": [
        "# apakah semua nilai sama dengan 6?\n",
        "np.all(x == 6)"
      ],
      "execution_count": null,
      "outputs": [
        {
          "output_type": "execute_result",
          "data": {
            "text/plain": [
              "False"
            ]
          },
          "metadata": {
            "tags": []
          },
          "execution_count": 219
        }
      ]
    },
    {
      "cell_type": "code",
      "metadata": {
        "colab": {
          "base_uri": "https://localhost:8080/"
        },
        "id": "FiQQcrK8DKvr",
        "outputId": "7bee19bb-a4d3-40f1-ffd8-635f5a1291e5"
      },
      "source": [
        "# apakah semua nilai di tiap baris kecil 8?\n",
        "np.all(x < 8, axis=1)"
      ],
      "execution_count": null,
      "outputs": [
        {
          "output_type": "execute_result",
          "data": {
            "text/plain": [
              "array([ True, False,  True])"
            ]
          },
          "metadata": {
            "tags": []
          },
          "execution_count": 220
        }
      ]
    },
    {
      "cell_type": "markdown",
      "metadata": {
        "id": "qiyccUdqDWOz"
      },
      "source": [
        "**operator boolean **"
      ]
    },
    {
      "cell_type": "code",
      "metadata": {
        "colab": {
          "base_uri": "https://localhost:8080/"
        },
        "id": "kTnzxBREDZlR",
        "outputId": "cea0fffc-b9aa-4054-9640-189c6d3da899"
      },
      "source": [
        "np.sum((inches > 0.5) & (inches < 1))"
      ],
      "execution_count": null,
      "outputs": [
        {
          "output_type": "execute_result",
          "data": {
            "text/plain": [
              "29"
            ]
          },
          "metadata": {
            "tags": []
          },
          "execution_count": 221
        }
      ]
    },
    {
      "cell_type": "markdown",
      "metadata": {
        "id": "RMAr010SJGfv"
      },
      "source": [
        "Dengan menggunakan persamaan dari A AND B dan NOT (A OR B) (yang mungkin Anda ingat jika Anda pernah mengikuti kursus pengantar logika), kami dapat menghitung hasil yang sama dengan cara yang berbeda:"
      ]
    },
    {
      "cell_type": "code",
      "metadata": {
        "colab": {
          "base_uri": "https://localhost:8080/"
        },
        "id": "h3Nzhc1qDj9O",
        "outputId": "3efe9d69-3cee-414d-ffb8-3c9c492a9516"
      },
      "source": [
        "np.sum(~( (inches <= 0.5) | (inches >= 1) ))"
      ],
      "execution_count": null,
      "outputs": [
        {
          "output_type": "execute_result",
          "data": {
            "text/plain": [
              "29"
            ]
          },
          "metadata": {
            "tags": []
          },
          "execution_count": 223
        }
      ]
    },
    {
      "cell_type": "markdown",
      "metadata": {
        "id": "OKWezlZXJ9IY"
      },
      "source": [
        "Dengan menggunakan operator ini, kita mungkin mulai menjawab jenis pertanyaan yang kami miliki tentang data cuaca. Berikut beberapa contoh hasil yang dapat kita hitung saat menggabungkan masking dengan agregasi:"
      ]
    },
    {
      "cell_type": "code",
      "metadata": {
        "colab": {
          "base_uri": "https://localhost:8080/"
        },
        "id": "BUo700L8DsyP",
        "outputId": "f457b208-a974-4bb7-d1a0-ad9e9816daab"
      },
      "source": [
        "print(\"Number days without rain: \", np.sum(inches == 0))\n",
        "print(\"Number days with rain: \", np.sum(inches != 0))\n",
        "print(\"Days with more than 0.5 inches:\", np.sum(inches > 0.5))\n",
        "print(\"Rainy days with < 0.1 inches :\", np.sum((inches > 0) & \n",
        "                                               (inches < 0.2)))"
      ],
      "execution_count": null,
      "outputs": [
        {
          "output_type": "stream",
          "text": [
            "Number days without rain:  215\n",
            "Number days with rain:  150\n",
            "Days with more than 0.5 inches: 37\n",
            "Rainy days with < 0.1 inches : 75\n"
          ],
          "name": "stdout"
        }
      ]
    },
    {
      "cell_type": "markdown",
      "metadata": {
        "id": "iJbxmAR-D0fB"
      },
      "source": [
        "**Array Boolean sebagai Masks**\n",
        "\n",
        "\n",
        "Di bagian sebelumnya, kita melihat agregat yang dihitung secara langsung pada array Boolean. Pola yang lebih efektif adalah dengan menggunakan array Boolean sebagai pelindung, untuk memilih subset tertentu dari data itu sendiri. Kembali ke array x kita sebelumnya, misalkan kita\n",
        "menginginkan array dari semua nilai dalam array yang kurang dari, katakanlah, 5:"
      ]
    },
    {
      "cell_type": "code",
      "metadata": {
        "colab": {
          "base_uri": "https://localhost:8080/"
        },
        "id": "jRC15GJMD6Ae",
        "outputId": "f5213137-ed54-49d8-e56e-96cf3932a09d"
      },
      "source": [
        "x"
      ],
      "execution_count": null,
      "outputs": [
        {
          "output_type": "execute_result",
          "data": {
            "text/plain": [
              "array([[5, 0, 3, 3],\n",
              "       [7, 9, 3, 5],\n",
              "       [2, 4, 7, 6]])"
            ]
          },
          "metadata": {
            "tags": []
          },
          "execution_count": 225
        }
      ]
    },
    {
      "cell_type": "code",
      "metadata": {
        "colab": {
          "base_uri": "https://localhost:8080/"
        },
        "id": "Z_P1n4yuEDbv",
        "outputId": "99fe7ae3-6428-49d3-8c45-dd6687b9896b"
      },
      "source": [
        "x < 5"
      ],
      "execution_count": null,
      "outputs": [
        {
          "output_type": "execute_result",
          "data": {
            "text/plain": [
              "array([[False,  True,  True,  True],\n",
              "       [False, False,  True, False],\n",
              "       [ True,  True, False, False]])"
            ]
          },
          "metadata": {
            "tags": []
          },
          "execution_count": 226
        }
      ]
    },
    {
      "cell_type": "markdown",
      "metadata": {
        "id": "Rz87wfmPLG53"
      },
      "source": [
        "Sekarang untuk memilih nilai-nilai ini dari array, kita cukup mengindeks pada array Boolean ini;\n",
        "ini dikenal sebagai operasi masking:"
      ]
    },
    {
      "cell_type": "code",
      "metadata": {
        "colab": {
          "base_uri": "https://localhost:8080/"
        },
        "id": "J1B0a7g9EMiP",
        "outputId": "029df49f-d309-46df-d7db-a74beae570b7"
      },
      "source": [
        " x[x < 5]"
      ],
      "execution_count": null,
      "outputs": [
        {
          "output_type": "execute_result",
          "data": {
            "text/plain": [
              "array([0, 3, 3, 3, 2, 4])"
            ]
          },
          "metadata": {
            "tags": []
          },
          "execution_count": 227
        }
      ]
    },
    {
      "cell_type": "markdown",
      "metadata": {
        "id": "OIyFgB72Llu_"
      },
      "source": [
        "Apa yang dikembalikan adalah array satu dimensi yang diisi dengan semua nilai yang memenuhi ketentuan; dengan kata lain, semua nilai dalam posisi di mana mask array adalah True.\n",
        "\n"
      ]
    },
    {
      "cell_type": "markdown",
      "metadata": {
        "id": "UTO_Fe7tLrLi"
      },
      "source": [
        "Misalnya, kita dapat menghitung beberapa statistik yang relevan pada data hujan Seattle:"
      ]
    },
    {
      "cell_type": "code",
      "metadata": {
        "colab": {
          "base_uri": "https://localhost:8080/"
        },
        "id": "FX9bok32EO_v",
        "outputId": "d69ce03d-9c65-46ee-b990-8d0c5c1e7620"
      },
      "source": [
        "# construct a mask of all rainy days\n",
        "rainy = (inches > 0)\n",
        "# construct a mask of all summer days (June 21st is the 172nd day)\n",
        "summer = (np.arange(365) - 172 < 90) & (np.arange(365) - 172 > 0)\n",
        "print(\"Median precip on rainy days in 2014 (inches): \",\n",
        "      np.median(inches[rainy]))\n",
        "print(\"Median precip on summer days in 2014 (inches): \",\n",
        "      np.median(inches[summer]))\n",
        "print(\"Maximum precip on summer days in 2014 (inches): \",\n",
        "      np.max(inches[summer]))\n",
        "print(\"Median precip on non-summer rainy days (inches):\",\n",
        "      np.median(inches[rainy & ~summer]))"
      ],
      "execution_count": null,
      "outputs": [
        {
          "output_type": "stream",
          "text": [
            "Median precip on rainy days in 2014 (inches):  0.19488188976377951\n",
            "Median precip on summer days in 2014 (inches):  0.0\n",
            "Maximum precip on summer days in 2014 (inches):  0.8503937007874016\n",
            "Median precip on non-summer rainy days (inches): 0.20078740157480315\n"
          ],
          "name": "stdout"
        }
      ]
    },
    {
      "cell_type": "markdown",
      "metadata": {
        "id": "NxIfkPrmEtIt"
      },
      "source": [
        "**Menggunakan Kata Kunci and/or versus Operator & / |**\n",
        "\n",
        "Satu hal yang membingungkan adalah perbedaan antara kata kunci and/or dengan operator & dan | . \n",
        "\n",
        "Kapan kita akan menggunakan yang satu versus yang lain?\n",
        "Perbedaannya adalah ini: and/or mengukur benar atau salahnya seluruh objek, sedangkan & dan | merujuk ke bit dalam setiap objek.\n",
        "Saat kita menggunakan and/or, ini sama saja dengan meminta Python untuk memperlakukan objek sebagai entitas Boolean tunggal. Di Python, semua bilangan bulat bukan nol akan dievaluasi sebagai True. Jadi:"
      ]
    },
    {
      "cell_type": "code",
      "metadata": {
        "colab": {
          "base_uri": "https://localhost:8080/"
        },
        "id": "DqclNq6_EnfU",
        "outputId": "e558f9ad-e26c-4082-c5df-65b47053ce23"
      },
      "source": [
        "bool(42), bool(0)"
      ],
      "execution_count": null,
      "outputs": [
        {
          "output_type": "execute_result",
          "data": {
            "text/plain": [
              "(True, False)"
            ]
          },
          "metadata": {
            "tags": []
          },
          "execution_count": 229
        }
      ]
    },
    {
      "cell_type": "code",
      "metadata": {
        "colab": {
          "base_uri": "https://localhost:8080/"
        },
        "id": "iG2eMx2oE2Yr",
        "outputId": "50d93a6b-a47e-435d-a77d-c98177a6396e"
      },
      "source": [
        "bool(42 and 0)"
      ],
      "execution_count": null,
      "outputs": [
        {
          "output_type": "execute_result",
          "data": {
            "text/plain": [
              "False"
            ]
          },
          "metadata": {
            "tags": []
          },
          "execution_count": 230
        }
      ]
    },
    {
      "cell_type": "code",
      "metadata": {
        "colab": {
          "base_uri": "https://localhost:8080/"
        },
        "id": "laQSfPNaFS08",
        "outputId": "81d7b2c1-ccff-436d-8f0b-943fb859a471"
      },
      "source": [
        "bool(42 or 0)"
      ],
      "execution_count": null,
      "outputs": [
        {
          "output_type": "execute_result",
          "data": {
            "text/plain": [
              "True"
            ]
          },
          "metadata": {
            "tags": []
          },
          "execution_count": 235
        }
      ]
    },
    {
      "cell_type": "markdown",
      "metadata": {
        "id": "wnyXqNPrOLkn"
      },
      "source": [
        "Saat Anda menggunakan & dan | pada bilangan bulat, ekspresi beroperasi pada bit elemen, menerapkan and/or ke masing-masing bit yang menyusun angka:"
      ]
    },
    {
      "cell_type": "code",
      "metadata": {
        "colab": {
          "base_uri": "https://localhost:8080/",
          "height": 35
        },
        "id": "JOIzg6XuFAja",
        "outputId": "58a8a58e-6e75-4361-d05c-4573f3093aca"
      },
      "source": [
        "bin(42)"
      ],
      "execution_count": null,
      "outputs": [
        {
          "output_type": "execute_result",
          "data": {
            "application/vnd.google.colaboratory.intrinsic+json": {
              "type": "string"
            },
            "text/plain": [
              "'0b101010'"
            ]
          },
          "metadata": {
            "tags": []
          },
          "execution_count": 236
        }
      ]
    },
    {
      "cell_type": "code",
      "metadata": {
        "colab": {
          "base_uri": "https://localhost:8080/",
          "height": 35
        },
        "id": "WKoi9PFRFCej",
        "outputId": "e3ab0ee3-dd16-4fbc-b922-2793fa22deb2"
      },
      "source": [
        "bin(59)"
      ],
      "execution_count": null,
      "outputs": [
        {
          "output_type": "execute_result",
          "data": {
            "application/vnd.google.colaboratory.intrinsic+json": {
              "type": "string"
            },
            "text/plain": [
              "'0b111011'"
            ]
          },
          "metadata": {
            "tags": []
          },
          "execution_count": 238
        }
      ]
    },
    {
      "cell_type": "code",
      "metadata": {
        "colab": {
          "base_uri": "https://localhost:8080/",
          "height": 35
        },
        "id": "dO4mNKTJFE5b",
        "outputId": "eed383c4-6976-492f-c208-ec2b63a14c31"
      },
      "source": [
        "bin(42 & 59)"
      ],
      "execution_count": null,
      "outputs": [
        {
          "output_type": "execute_result",
          "data": {
            "application/vnd.google.colaboratory.intrinsic+json": {
              "type": "string"
            },
            "text/plain": [
              "'0b101010'"
            ]
          },
          "metadata": {
            "tags": []
          },
          "execution_count": 239
        }
      ]
    },
    {
      "cell_type": "code",
      "metadata": {
        "colab": {
          "base_uri": "https://localhost:8080/",
          "height": 35
        },
        "id": "YA3rv1LhFlQZ",
        "outputId": "d9512064-bd51-4c5e-b18e-3ed81a4bfd5d"
      },
      "source": [
        "bin(42 | 59)"
      ],
      "execution_count": null,
      "outputs": [
        {
          "output_type": "execute_result",
          "data": {
            "application/vnd.google.colaboratory.intrinsic+json": {
              "type": "string"
            },
            "text/plain": [
              "'0b111011'"
            ]
          },
          "metadata": {
            "tags": []
          },
          "execution_count": 240
        }
      ]
    },
    {
      "cell_type": "markdown",
      "metadata": {
        "id": "Qqa9bQtyPMRM"
      },
      "source": [
        "Jika kita memiliki array nilai Boolean di NumPy, ini dapat dianggap sebagai string bit di mana 1 = True dan 0 = False, dan hasil dari & dan | beroperasi dengan cara yang sama seperti sebelumnya:"
      ]
    },
    {
      "cell_type": "code",
      "metadata": {
        "colab": {
          "base_uri": "https://localhost:8080/"
        },
        "id": "QDm29KiTFHkw",
        "outputId": "c8b72eae-eb3e-404d-f23c-ba7da366f3fc"
      },
      "source": [
        "A = np.array([1, 0, 1, 0, 1, 0], dtype=bool)\n",
        "B = np.array([1, 1, 1, 0, 1, 1], dtype=bool)\n",
        "A | B"
      ],
      "execution_count": null,
      "outputs": [
        {
          "output_type": "execute_result",
          "data": {
            "text/plain": [
              "array([ True,  True,  True, False,  True,  True])"
            ]
          },
          "metadata": {
            "tags": []
          },
          "execution_count": 241
        }
      ]
    },
    {
      "cell_type": "markdown",
      "metadata": {
        "id": "WHmCgsvsPQcN"
      },
      "source": [
        "Menggunakan or pada array ini akan mencoba mengevaluasi kebenaran atau kepalsuan dari seluruh objek array, yang bukan merupakan nilai yang terdefinisi dengan baik:"
      ]
    },
    {
      "cell_type": "code",
      "metadata": {
        "colab": {
          "base_uri": "https://localhost:8080/",
          "height": 181
        },
        "id": "lGIHGBOkFugy",
        "outputId": "7f993e7a-8fa8-4314-92bb-9f967946504e"
      },
      "source": [
        "A or B"
      ],
      "execution_count": null,
      "outputs": [
        {
          "output_type": "error",
          "ename": "ValueError",
          "evalue": "ignored",
          "traceback": [
            "\u001b[0;31m---------------------------------------------------------------------------\u001b[0m",
            "\u001b[0;31mValueError\u001b[0m                                Traceback (most recent call last)",
            "\u001b[0;32m<ipython-input-242-ea2c97d9d9ee>\u001b[0m in \u001b[0;36m<module>\u001b[0;34m()\u001b[0m\n\u001b[0;32m----> 1\u001b[0;31m \u001b[0mA\u001b[0m \u001b[0;32mor\u001b[0m \u001b[0mB\u001b[0m\u001b[0;34m\u001b[0m\u001b[0;34m\u001b[0m\u001b[0m\n\u001b[0m",
            "\u001b[0;31mValueError\u001b[0m: The truth value of an array with more than one element is ambiguous. Use a.any() or a.all()"
          ]
        }
      ]
    },
    {
      "cell_type": "markdown",
      "metadata": {
        "id": "2IkIXA_qPkv-"
      },
      "source": [
        "Demikian pula, saat melakukan ekspresi Boolean pada array tertentu, kita harus menggunakan | atau &\n",
        "daripada and/or:"
      ]
    },
    {
      "cell_type": "code",
      "metadata": {
        "colab": {
          "base_uri": "https://localhost:8080/"
        },
        "id": "eYBEJWGCF0fW",
        "outputId": "c851bf6f-60d3-46d8-9523-8eacd8c6378c"
      },
      "source": [
        " x = np.arange(10)\n",
        "(x > 4) & (x < 8)"
      ],
      "execution_count": null,
      "outputs": [
        {
          "output_type": "execute_result",
          "data": {
            "text/plain": [
              "array([False, False, False, False, False,  True,  True,  True, False,\n",
              "       False])"
            ]
          },
          "metadata": {
            "tags": []
          },
          "execution_count": 243
        }
      ]
    },
    {
      "cell_type": "markdown",
      "metadata": {
        "id": "8hbQq7j2Pstl"
      },
      "source": [
        "Mencoba mengevaluasi kebenaran atau kepalsuan dari seluruh array akan memberikan ValueError yang sama seperti yang kita lihat sebelumnya:"
      ]
    },
    {
      "cell_type": "code",
      "metadata": {
        "colab": {
          "base_uri": "https://localhost:8080/",
          "height": 181
        },
        "id": "Q9i1bXVgF6l1",
        "outputId": "62c44f02-7b76-4f65-9716-4c1e97dd154f"
      },
      "source": [
        "(x > 4) and (x < 8)"
      ],
      "execution_count": null,
      "outputs": [
        {
          "output_type": "error",
          "ename": "ValueError",
          "evalue": "ignored",
          "traceback": [
            "\u001b[0;31m---------------------------------------------------------------------------\u001b[0m",
            "\u001b[0;31mValueError\u001b[0m                                Traceback (most recent call last)",
            "\u001b[0;32m<ipython-input-244-eecf1fdd5fb4>\u001b[0m in \u001b[0;36m<module>\u001b[0;34m()\u001b[0m\n\u001b[0;32m----> 1\u001b[0;31m \u001b[0;34m(\u001b[0m\u001b[0mx\u001b[0m \u001b[0;34m>\u001b[0m \u001b[0;36m4\u001b[0m\u001b[0;34m)\u001b[0m \u001b[0;32mand\u001b[0m \u001b[0;34m(\u001b[0m\u001b[0mx\u001b[0m \u001b[0;34m<\u001b[0m \u001b[0;36m8\u001b[0m\u001b[0;34m)\u001b[0m\u001b[0;34m\u001b[0m\u001b[0;34m\u001b[0m\u001b[0m\n\u001b[0m",
            "\u001b[0;31mValueError\u001b[0m: The truth value of an array with more than one element is ambiguous. Use a.any() or a.all()"
          ]
        }
      ]
    },
    {
      "cell_type": "markdown",
      "metadata": {
        "id": "WBX1YPZ6GATp"
      },
      "source": [
        "**Menjelajahi Fancy Indexing**\n",
        "\n",
        "Fancy indexing secara konseptual sederhana: ini berarti meneruskan serangkaian indeks untuk mengakses beberapa elemen array sekaligus. Misalnya, perhatikan array berikut:"
      ]
    },
    {
      "cell_type": "code",
      "metadata": {
        "colab": {
          "base_uri": "https://localhost:8080/"
        },
        "id": "iG_1CuKjGFpE",
        "outputId": "c8b64dc8-dd23-4e99-851b-869e22d78506"
      },
      "source": [
        "import numpy as np\n",
        "rand = np.random.RandomState(42)\n",
        "x = rand.randint(100, size=10)\n",
        "print(x)"
      ],
      "execution_count": 2,
      "outputs": [
        {
          "output_type": "stream",
          "text": [
            "[51 92 14 71 60 20 82 86 74 74]\n"
          ],
          "name": "stdout"
        }
      ]
    },
    {
      "cell_type": "markdown",
      "metadata": {
        "id": "HG4q-5M_RLoI"
      },
      "source": [
        "Misalkan kita ingin mengakses tiga elemen berbeda. Kita bisa melakukannya seperti ini:"
      ]
    },
    {
      "cell_type": "code",
      "metadata": {
        "id": "eYUzIDElGT2P",
        "colab": {
          "base_uri": "https://localhost:8080/"
        },
        "outputId": "6c378cc5-9be8-4494-dc37-44d8cd99f2ae"
      },
      "source": [
        "[x[3], x[7], x[2]]"
      ],
      "execution_count": null,
      "outputs": [
        {
          "output_type": "execute_result",
          "data": {
            "text/plain": [
              "[71, 86, 14]"
            ]
          },
          "metadata": {
            "tags": []
          },
          "execution_count": 247
        }
      ]
    },
    {
      "cell_type": "markdown",
      "metadata": {
        "id": "mQpmeWMuRYtd"
      },
      "source": [
        "Sebagai alternatif, kita dapat mengirimkan satu daftar atau array indeks untuk mendapatkan hasil yang sama:"
      ]
    },
    {
      "cell_type": "code",
      "metadata": {
        "colab": {
          "base_uri": "https://localhost:8080/"
        },
        "id": "KcOc9KIGIvcD",
        "outputId": "ef7d0ec5-f24a-4cd0-cc9a-91ec37d1961d"
      },
      "source": [
        "ind = [3, 7, 4]\n",
        "x[ind]"
      ],
      "execution_count": null,
      "outputs": [
        {
          "output_type": "execute_result",
          "data": {
            "text/plain": [
              "array([71, 86, 60])"
            ]
          },
          "metadata": {
            "tags": []
          },
          "execution_count": 248
        }
      ]
    },
    {
      "cell_type": "markdown",
      "metadata": {
        "id": "icefC6kVR0CX"
      },
      "source": [
        "Dengan fancy indexing, bentuk hasil mencerminkan bentuk array indeks daripada bentuk array yang diindeks:"
      ]
    },
    {
      "cell_type": "code",
      "metadata": {
        "colab": {
          "base_uri": "https://localhost:8080/"
        },
        "id": "VSPWQpCyI1tF",
        "outputId": "b6646d25-8a34-444a-a020-a6427cb3f84e"
      },
      "source": [
        "ind = np.array([[3, 7],\n",
        "                [4, 5]])\n",
        "x[ind]"
      ],
      "execution_count": null,
      "outputs": [
        {
          "output_type": "execute_result",
          "data": {
            "text/plain": [
              "array([[71, 86],\n",
              "       [60, 20]])"
            ]
          },
          "metadata": {
            "tags": []
          },
          "execution_count": 249
        }
      ]
    },
    {
      "cell_type": "markdown",
      "metadata": {
        "id": "Dv-qEVVlSf4A"
      },
      "source": [
        "Fancy indexing juga dapat digunakan dalam berbagai dimensi"
      ]
    },
    {
      "cell_type": "code",
      "metadata": {
        "colab": {
          "base_uri": "https://localhost:8080/"
        },
        "id": "abIqwq_rI7Z3",
        "outputId": "b91fc47c-7a07-4040-d580-8ca64e87d628"
      },
      "source": [
        "X = np.arange(12).reshape((3, 4))\n",
        "X"
      ],
      "execution_count": null,
      "outputs": [
        {
          "output_type": "execute_result",
          "data": {
            "text/plain": [
              "array([[ 0,  1,  2,  3],\n",
              "       [ 4,  5,  6,  7],\n",
              "       [ 8,  9, 10, 11]])"
            ]
          },
          "metadata": {
            "tags": []
          },
          "execution_count": 250
        }
      ]
    },
    {
      "cell_type": "code",
      "metadata": {
        "colab": {
          "base_uri": "https://localhost:8080/"
        },
        "id": "qYSwk8lOJBQ0",
        "outputId": "943cb53b-7d65-41d6-e07e-87f7c0d48692"
      },
      "source": [
        "row = np.array([0, 1, 2])\n",
        "col = np.array([2, 1, 3])\n",
        "X[row, col]"
      ],
      "execution_count": null,
      "outputs": [
        {
          "output_type": "execute_result",
          "data": {
            "text/plain": [
              "array([ 2,  5, 11])"
            ]
          },
          "metadata": {
            "tags": []
          },
          "execution_count": 251
        }
      ]
    },
    {
      "cell_type": "code",
      "metadata": {
        "colab": {
          "base_uri": "https://localhost:8080/"
        },
        "id": "RfDPn06wJFnS",
        "outputId": "38c4aad7-e2de-426f-e2e4-70c1edd9b580"
      },
      "source": [
        "X[row[:, np.newaxis], col]"
      ],
      "execution_count": null,
      "outputs": [
        {
          "output_type": "execute_result",
          "data": {
            "text/plain": [
              "array([[ 2,  1,  3],\n",
              "       [ 6,  5,  7],\n",
              "       [10,  9, 11]])"
            ]
          },
          "metadata": {
            "tags": []
          },
          "execution_count": 252
        }
      ]
    },
    {
      "cell_type": "code",
      "metadata": {
        "colab": {
          "base_uri": "https://localhost:8080/"
        },
        "id": "FtncLjdbJHzF",
        "outputId": "18a1aae7-e036-4b09-84c3-7ebd852c9e86"
      },
      "source": [
        "row[:, np.newaxis] * col"
      ],
      "execution_count": null,
      "outputs": [
        {
          "output_type": "execute_result",
          "data": {
            "text/plain": [
              "array([[0, 0, 0],\n",
              "       [2, 1, 3],\n",
              "       [4, 2, 6]])"
            ]
          },
          "metadata": {
            "tags": []
          },
          "execution_count": 253
        }
      ]
    },
    {
      "cell_type": "markdown",
      "metadata": {
        "id": "HQyFWU2zJK3b"
      },
      "source": [
        "**Pengindeksan Gabungan**\n",
        "\n",
        "Untuk operasi yang lebih hebat lagi, fancy indexing dapat dikombinasikan dengan skema pengindeksan lain yang telah kita lihat:"
      ]
    },
    {
      "cell_type": "code",
      "metadata": {
        "id": "NHqYthYbJPJo",
        "colab": {
          "base_uri": "https://localhost:8080/"
        },
        "outputId": "e09dda6a-d55b-45d4-f208-0bb0ffca96fe"
      },
      "source": [
        "print(X)"
      ],
      "execution_count": null,
      "outputs": [
        {
          "output_type": "stream",
          "text": [
            "[[ 0  1  2  3]\n",
            " [ 4  5  6  7]\n",
            " [ 8  9 10 11]]\n"
          ],
          "name": "stdout"
        }
      ]
    },
    {
      "cell_type": "markdown",
      "metadata": {
        "id": "tj4gDAItgSLb"
      },
      "source": [
        "Kita dapat menggabungkan fancy indeks dan sederhana:"
      ]
    },
    {
      "cell_type": "code",
      "metadata": {
        "id": "bYi-BWQVJVEc",
        "colab": {
          "base_uri": "https://localhost:8080/"
        },
        "outputId": "e67e97cc-6681-46ec-cc0e-6ce97f74caf1"
      },
      "source": [
        "X[2, [2, 0, 1]]"
      ],
      "execution_count": null,
      "outputs": [
        {
          "output_type": "execute_result",
          "data": {
            "text/plain": [
              "array([10,  8,  9])"
            ]
          },
          "metadata": {
            "tags": []
          },
          "execution_count": 255
        }
      ]
    },
    {
      "cell_type": "markdown",
      "metadata": {
        "id": "4XBCtZa4hDNg"
      },
      "source": [
        "Kita juga dapat menggabungkan fancy indexing dengan pemotongan/slicing:"
      ]
    },
    {
      "cell_type": "code",
      "metadata": {
        "id": "O1CBtP8CJcuO",
        "colab": {
          "base_uri": "https://localhost:8080/"
        },
        "outputId": "c1f352fe-ac6f-4c61-db6c-8981cc7cec7f"
      },
      "source": [
        " X[1:, [2, 0, 1]]"
      ],
      "execution_count": null,
      "outputs": [
        {
          "output_type": "execute_result",
          "data": {
            "text/plain": [
              "array([[ 6,  4,  5],\n",
              "       [10,  8,  9]])"
            ]
          },
          "metadata": {
            "tags": []
          },
          "execution_count": 256
        }
      ]
    },
    {
      "cell_type": "markdown",
      "metadata": {
        "id": "UlWk0WDBhKDA"
      },
      "source": [
        "Kita juga dapat menggabungkan fancy indexing dengan masking:"
      ]
    },
    {
      "cell_type": "code",
      "metadata": {
        "id": "KEWC8t3EJgyS",
        "colab": {
          "base_uri": "https://localhost:8080/"
        },
        "outputId": "9c96b629-9abc-4483-a25b-c2ca4cc950ab"
      },
      "source": [
        "mask = np.array([1, 0, 1, 0], dtype=bool)\n",
        "X[row[:, np.newaxis], mask]"
      ],
      "execution_count": null,
      "outputs": [
        {
          "output_type": "execute_result",
          "data": {
            "text/plain": [
              "array([[ 0,  2],\n",
              "       [ 4,  6],\n",
              "       [ 8, 10]])"
            ]
          },
          "metadata": {
            "tags": []
          },
          "execution_count": 257
        }
      ]
    },
    {
      "cell_type": "markdown",
      "metadata": {
        "id": "H81McOOcK81R"
      },
      "source": [
        "**Contoh: Memilih Titik Acak**\n",
        "\n",
        "Salah satu penggunaan umum fancy indexing adalah pemilihan subset baris dari matriks.\n",
        "Misalnya, kita mungkin memiliki matriks N kali D yang mewakili titik N dalam dimensi D, seperti titik berikut yang diambil dari distribusi normal dua dimensi:"
      ]
    },
    {
      "cell_type": "code",
      "metadata": {
        "colab": {
          "base_uri": "https://localhost:8080/"
        },
        "id": "5N9nBR_EK_hp",
        "outputId": "e476886c-20a6-48b2-f3d2-6c9739bc3663"
      },
      "source": [
        "mean = [0, 0]\n",
        "cov = [[1, 2],\n",
        "       [2, 5]]\n",
        "X = rand.multivariate_normal(mean, cov, 100)\n",
        "X.shape"
      ],
      "execution_count": null,
      "outputs": [
        {
          "output_type": "execute_result",
          "data": {
            "text/plain": [
              "(100, 2)"
            ]
          },
          "metadata": {
            "tags": []
          },
          "execution_count": 258
        }
      ]
    },
    {
      "cell_type": "code",
      "metadata": {
        "colab": {
          "base_uri": "https://localhost:8080/",
          "height": 268
        },
        "id": "DAMN8HGWLOdM",
        "outputId": "26d4b0f3-f806-47fb-8300-f04137376aa4"
      },
      "source": [
        "%matplotlib inline\n",
        "import matplotlib.pyplot as plt\n",
        "import seaborn; seaborn.set() # for plot styling\n",
        "plt.scatter(X[:, 0], X[:, 1]);"
      ],
      "execution_count": null,
      "outputs": [
        {
          "output_type": "display_data",
          "data": {
            "image/png": "[encoded data removed]",
            "text/plain": [
              "<Figure size 432x288 with 1 Axes>"
            ]
          },
          "metadata": {
            "tags": []
          }
        }
      ]
    },
    {
      "cell_type": "markdown",
      "metadata": {
        "id": "EQ-6KMqXiHiP"
      },
      "source": [
        "Mari gunakan fancy indexing untuk memilih 20 poin acak. Kita akan melakukan ini dengan terlebih dahulu memilih 20 indeks acak tanpa pengulangan, dan menggunakan indeks ini untuk memilih sebagian dari array asli:"
      ]
    },
    {
      "cell_type": "code",
      "metadata": {
        "colab": {
          "base_uri": "https://localhost:8080/"
        },
        "id": "IBlIjkkCLYkj",
        "outputId": "ec113457-822e-4beb-d09c-d80ab2abf60a"
      },
      "source": [
        "indices = np.random.choice(X.shape[0], 20, replace=False)\n",
        "indices"
      ],
      "execution_count": null,
      "outputs": [
        {
          "output_type": "execute_result",
          "data": {
            "text/plain": [
              "array([22, 34, 30, 40, 27, 12, 65,  5, 54, 74, 78, 96, 70, 18, 72, 89, 29,\n",
              "       45, 36, 88])"
            ]
          },
          "metadata": {
            "tags": []
          },
          "execution_count": 260
        }
      ]
    },
    {
      "cell_type": "code",
      "metadata": {
        "colab": {
          "base_uri": "https://localhost:8080/"
        },
        "id": "RuTuiRk4LhfA",
        "outputId": "e30870e6-3a90-4c9e-9bcf-5b075f5fea11"
      },
      "source": [
        "selection = X[indices] # fancy indexing here\n",
        "selection.shape"
      ],
      "execution_count": null,
      "outputs": [
        {
          "output_type": "execute_result",
          "data": {
            "text/plain": [
              "(20, 2)"
            ]
          },
          "metadata": {
            "tags": []
          },
          "execution_count": 261
        }
      ]
    },
    {
      "cell_type": "markdown",
      "metadata": {
        "id": "kttRxa6xiYlO"
      },
      "source": [
        "Sekarang untuk melihat titik mana yang dipilih, mari kita buat plot lingkaran besar di lokasi titik yang dipilih"
      ]
    },
    {
      "cell_type": "code",
      "metadata": {
        "colab": {
          "base_uri": "https://localhost:8080/",
          "height": 268
        },
        "id": "mATYNXsnLjxR",
        "outputId": "b13a45ff-c7ba-499f-e32c-520c7fb14acb"
      },
      "source": [
        "plt.scatter(X[:, 0], X[:, 1], alpha=0.3)\n",
        "plt.scatter(selection[:, 0], selection[:, 1],\n",
        "            facecolor='none', s=200);"
      ],
      "execution_count": null,
      "outputs": [
        {
          "output_type": "display_data",
          "data": {
            "image/png": "[encoded data removed]",
            "text/plain": [
              "<Figure size 432x288 with 1 Axes>"
            ]
          },
          "metadata": {
            "tags": []
          }
        }
      ]
    },
    {
      "cell_type": "markdown",
      "metadata": {
        "id": "SfzxcbJfiwW0"
      },
      "source": [
        "Strategi semacam ini sering digunakan untuk mempartisi kumpulan data dengan cepat, seperti yang sering diperlukan dalam pemisahan pelatihan / pengujian untuk validasi model statistik, dan dalam pendekatan pengambilan sampel untuk menjawab pertanyaan statistik."
      ]
    },
    {
      "cell_type": "markdown",
      "metadata": {
        "id": "84t2aDjWLvQ9"
      },
      "source": [
        "**Memodifikasi Nilai dengan Fancy Indexing**\n",
        "\n",
        "Sama seperti fancy indexing dapat digunakan untuk mengakses bagian dari sebuah array, itu juga dapat digunakan untuk memodifikasi bagian dari sebuah array. Misalnya, bayangkan kita memiliki array indeks dan ingin menyetel item yang sesuai dalam array ke beberapa nilai:"
      ]
    },
    {
      "cell_type": "code",
      "metadata": {
        "colab": {
          "base_uri": "https://localhost:8080/"
        },
        "id": "2A81KgjJLxNj",
        "outputId": "0626a3d5-88cb-435b-81dc-7f59e69a8692"
      },
      "source": [
        "x = np.arange(10)\n",
        "i = np.array([2, 1, 8, 4])\n",
        "x[i] = 99\n",
        "print(x)"
      ],
      "execution_count": null,
      "outputs": [
        {
          "output_type": "stream",
          "text": [
            "[ 0 99 99  3 99  5  6  7 99  9]\n"
          ],
          "name": "stdout"
        }
      ]
    },
    {
      "cell_type": "markdown",
      "metadata": {
        "id": "eZYcAKKEjYTF"
      },
      "source": [
        "Kita dapat menggunakan operator tipe penugasan apa pun untuk ini. Sebagai contoh:"
      ]
    },
    {
      "cell_type": "code",
      "metadata": {
        "colab": {
          "base_uri": "https://localhost:8080/"
        },
        "id": "XxGGaEYVMDm_",
        "outputId": "57b2fe18-1e7e-4902-cb85-ff686a195c49"
      },
      "source": [
        "x[i] -= 10\n",
        "print(x)"
      ],
      "execution_count": null,
      "outputs": [
        {
          "output_type": "stream",
          "text": [
            "[ 0 89 89  3 89  5  6  7 89  9]\n"
          ],
          "name": "stdout"
        }
      ]
    },
    {
      "cell_type": "markdown",
      "metadata": {
        "id": "dRPYvGK0jhEp"
      },
      "source": [
        "Namun, perhatikan bahwa indeks berulang dengan operasi ini dapat menyebabkan beberapa hasil yang berpotensi tidak diharapkan. Pertimbangkan hal-hal berikut ini:"
      ]
    },
    {
      "cell_type": "code",
      "metadata": {
        "colab": {
          "base_uri": "https://localhost:8080/"
        },
        "id": "lGPO9DnKMJwp",
        "outputId": "5ad15c11-5051-48dd-ecc2-27b86645e0eb"
      },
      "source": [
        "x = np.zeros(10)\n",
        "x[[0, 0]] = [4, 6]\n",
        "print(x)"
      ],
      "execution_count": 3,
      "outputs": [
        {
          "output_type": "stream",
          "text": [
            "[6. 0. 0. 0. 0. 0. 0. 0. 0. 0.]\n"
          ],
          "name": "stdout"
        }
      ]
    },
    {
      "cell_type": "markdown",
      "metadata": {
        "id": "SWdF3SNpju3M"
      },
      "source": [
        "Kemana 4 pergi? Hasil dari operasi ini adalah menetapkan pertama x [0] = 4, diikuti oleh x [0] = 6. Hasilnya, tentu saja, x [0] berisi nilai 6.\n",
        "Tetapi pertimbangkan operasi ini:"
      ]
    },
    {
      "cell_type": "code",
      "metadata": {
        "colab": {
          "base_uri": "https://localhost:8080/"
        },
        "id": "ynzgfJ0fkJd8",
        "outputId": "484d8208-1dfe-46ec-e60d-121b6697ea4d"
      },
      "source": [
        "i = [2, 3, 3, 4, 4, 4]\n",
        "x[i] += 1\n",
        "x"
      ],
      "execution_count": 4,
      "outputs": [
        {
          "output_type": "execute_result",
          "data": {
            "text/plain": [
              "array([6., 0., 1., 1., 1., 0., 0., 0., 0., 0.])"
            ]
          },
          "metadata": {
            "tags": []
          },
          "execution_count": 4
        }
      ]
    },
    {
      "cell_type": "markdown",
      "metadata": {
        "id": "sN3HnRaBkfrc"
      },
      "source": [
        "Anda mungkin berharap bahwa x [3] akan berisi nilai 2, dan x [4] akan berisi nilai 3, karena ini adalah berapa kali setiap indeks diulang. Mengapa tidak demikian?\n",
        "Secara konseptual, hal ini karena \n",
        "\n",
        "```\n",
        "x [i] + = 1\n",
        "```\n",
        " diartikan sebagai singkatan dari \n",
        "```\n",
        "x [i] = x [i] + 1\n",
        "```\n",
        "x [i] + 1 dievaluasi, dan kemudian hasilnya diberikan ke indeks di x. Dengan pemikiran ini, bukan augmentasi yang terjadi beberapa kali, tetapi penugasan, yang mengarah ke hasil yang agak tidak intuitif."
      ]
    },
    {
      "cell_type": "markdown",
      "metadata": {
        "id": "vbDfVDwpk9he"
      },
      "source": [
        "Jadi bagaimana jika kita menginginkan  operasi diulang? Untuk ini, kita dapat menggunakan metode at () dari ufuncs (tersedia sejak NumPy 1.8):"
      ]
    },
    {
      "cell_type": "code",
      "metadata": {
        "colab": {
          "base_uri": "https://localhost:8080/"
        },
        "id": "wNfV6TRgMQy4",
        "outputId": "0731a4d3-104d-4090-a385-ede7b43d5741"
      },
      "source": [
        "x = np.zeros(10)\n",
        "np.add.at(x, i, 1)\n",
        "print(x)"
      ],
      "execution_count": null,
      "outputs": [
        {
          "output_type": "stream",
          "text": [
            "[0. 0. 1. 2. 3. 0. 0. 0. 0. 0.]\n"
          ],
          "name": "stdout"
        }
      ]
    },
    {
      "cell_type": "markdown",
      "metadata": {
        "id": "p3u11JcXNAO_"
      },
      "source": [
        "**Contoh: Binning Data**\n",
        "\n",
        "Misalnya, bayangkan kita memiliki 1.000 nilai dan ingin segera menemukan di mana mereka berada dalam array bins. Kita bisa menghitungnya menggunakan ufunc.at seperti ini:"
      ]
    },
    {
      "cell_type": "code",
      "metadata": {
        "id": "7cSmh_wlM_lg"
      },
      "source": [
        "np.random.seed(42)\n",
        "x = np.random.randn(100)\n",
        "\n",
        "# compute a histogram by hand\n",
        "bins = np.linspace(-5, 5, 20)\n",
        "counts = np.zeros_like(bins)\n",
        "\n",
        "# find the appropriate bin for each x\n",
        "i = np.searchsorted(bins, x)\n",
        "\n",
        "# add 1 to each of these bins\n",
        "np.add.at(counts, i, 1)"
      ],
      "execution_count": null,
      "outputs": []
    },
    {
      "cell_type": "markdown",
      "metadata": {
        "id": "-RH6zVPslj5a"
      },
      "source": [
        "Hitungan sekarang mencerminkan jumlah titik dalam setiap bin —  histogram :"
      ]
    },
    {
      "cell_type": "code",
      "metadata": {
        "colab": {
          "base_uri": "https://localhost:8080/",
          "height": 322
        },
        "id": "DPoa4syENWlj",
        "outputId": "9a7bc729-374b-45f8-970e-0f1678511c4c"
      },
      "source": [
        "# plot the results\n",
        "plt.plot(bins, counts, linestyle='steps');"
      ],
      "execution_count": null,
      "outputs": [
        {
          "output_type": "stream",
          "text": [
            "/usr/local/lib/python3.7/dist-packages/ipykernel_launcher.py:2: MatplotlibDeprecationWarning: Passing the drawstyle with the linestyle as a single string is deprecated since Matplotlib 3.1 and support will be removed in 3.3; please pass the drawstyle separately using the drawstyle keyword argument to Line2D or set_drawstyle() method (or ds/set_ds()).\n",
            "  \n"
          ],
          "name": "stderr"
        },
        {
          "output_type": "display_data",
          "data": {
            "image/png": "[encoded data removed]",
            "text/plain": [
              "<Figure size 432x288 with 1 Axes>"
            ]
          },
          "metadata": {
            "tags": []
          }
        }
      ]
    },
    {
      "cell_type": "markdown",
      "metadata": {
        "id": "rs9YGq0Pl5fm"
      },
      "source": [
        "histogram single line:"
      ]
    },
    {
      "cell_type": "code",
      "metadata": {
        "colab": {
          "base_uri": "https://localhost:8080/",
          "height": 268
        },
        "id": "vQsv5H43NdEp",
        "outputId": "576aa234-b947-42eb-8b70-b9ac9703477c"
      },
      "source": [
        "plt.hist(x, bins, histtype='step');"
      ],
      "execution_count": null,
      "outputs": [
        {
          "output_type": "display_data",
          "data": {
            "image/png": "[encoded data removed]",
            "text/plain": [
              "<Figure size 432x288 with 1 Axes>"
            ]
          },
          "metadata": {
            "tags": []
          }
        }
      ]
    },
    {
      "cell_type": "markdown",
      "metadata": {
        "id": "Zbzv_Kyrl_iC"
      },
      "source": [
        "Untuk menghitung binning, Matplotlib menggunakan fungsi np.histogram, yang melakukan komputasi yang sangat mirip dengan yang kita lakukan sebelumnya. Mari bandingkan keduanya di sini:"
      ]
    },
    {
      "cell_type": "code",
      "metadata": {
        "colab": {
          "base_uri": "https://localhost:8080/"
        },
        "id": "AJEXAa_1NuQT",
        "outputId": "c9d7b5bf-47d1-4e9e-f51e-0bfe96576d12"
      },
      "source": [
        "print(\"NumPy routine:\")\n",
        "%timeit counts, edges = np.histogram(x, bins)\n",
        "\n",
        "print(\"Custom routine:\")\n",
        "%timeit np.add.at(counts, np.searchsorted(bins, x), 1)"
      ],
      "execution_count": null,
      "outputs": [
        {
          "output_type": "stream",
          "text": [
            "NumPy routine:\n",
            "The slowest run took 7.31 times longer than the fastest. This could mean that an intermediate result is being cached.\n",
            "10000 loops, best of 5: 28.9 µs per loop\n",
            "Custom routine:\n",
            "The slowest run took 5.50 times longer than the fastest. This could mean that an intermediate result is being cached.\n",
            "100000 loops, best of 5: 15.5 µs per loop\n"
          ],
          "name": "stdout"
        }
      ]
    },
    {
      "cell_type": "code",
      "metadata": {
        "colab": {
          "base_uri": "https://localhost:8080/"
        },
        "id": "YR44KyUaOENq",
        "outputId": "7386e6c0-350e-4bf2-a64a-f939cb484211"
      },
      "source": [
        "x = np.random.randn(1000000)\n",
        "print(\"NumPy routine:\")\n",
        "%timeit counts, edges = np.histogram(x, bins)\n",
        "\n",
        "print(\"Custom routine:\")\n",
        "%timeit np.add.at(counts, np.searchsorted(bins, x), 1)"
      ],
      "execution_count": null,
      "outputs": [
        {
          "output_type": "stream",
          "text": [
            "NumPy routine:\n",
            "10 loops, best of 5: 86.3 ms per loop\n",
            "Custom routine:\n",
            "10 loops, best of 5: 122 ms per loop\n"
          ],
          "name": "stdout"
        }
      ]
    },
    {
      "cell_type": "markdown",
      "metadata": {
        "id": "zYPY3HxBOT62"
      },
      "source": [
        "**Menyortir Array**\n",
        "\n",
        "Bagian ini mencakup algoritma yang terkait dengan pengurutan nilai dalam array NumPy."
      ]
    },
    {
      "cell_type": "markdown",
      "metadata": {
        "id": "9FXjwxmjnG6L"
      },
      "source": [
        "Misalnya, urutan pemilihan sederhana berulang kali menemukan nilai minimum dari daftar,\n",
        "dan melakukan swap hingga daftar diurutkan. Kita dapat mengkodekan ini hanya dalam beberapa baris Python:"
      ]
    },
    {
      "cell_type": "code",
      "metadata": {
        "id": "RJPxEvc_OVDr"
      },
      "source": [
        "import numpy as np\n",
        "def selection_sort(x):\n",
        "  for i in range(len(x)):\n",
        "    swap = i + np.argmin(x[i:])\n",
        "    (x[i], x[swap]) = (x[swap], x[i])\n",
        "    return x"
      ],
      "execution_count": null,
      "outputs": []
    },
    {
      "cell_type": "code",
      "metadata": {
        "colab": {
          "base_uri": "https://localhost:8080/"
        },
        "id": "9avOM0KyOh-k",
        "outputId": "e3bb0083-8057-4fe4-f0a4-53fd18664a02"
      },
      "source": [
        "x = np.array([2, 1, 4, 3, 5])\n",
        "selection_sort(x)"
      ],
      "execution_count": null,
      "outputs": [
        {
          "output_type": "execute_result",
          "data": {
            "text/plain": [
              "array([1, 2, 4, 3, 5])"
            ]
          },
          "metadata": {
            "tags": []
          },
          "execution_count": 279
        }
      ]
    },
    {
      "cell_type": "code",
      "metadata": {
        "id": "36cG16PWOkC0"
      },
      "source": [
        "def bogosort(x):\n",
        "  while np.any(x[:-1] > x[1:]):\n",
        "    np.random.shuffle(x)\n",
        "    return x"
      ],
      "execution_count": null,
      "outputs": []
    },
    {
      "cell_type": "code",
      "metadata": {
        "colab": {
          "base_uri": "https://localhost:8080/"
        },
        "id": "UGDT42Q6OxMe",
        "outputId": "40c7053d-d840-4cf2-d580-74b00e576a6d"
      },
      "source": [
        "x = np.array([2, 1, 4, 3, 5])\n",
        "bogosort(x)"
      ],
      "execution_count": null,
      "outputs": [
        {
          "output_type": "execute_result",
          "data": {
            "text/plain": [
              "array([4, 1, 2, 5, 3])"
            ]
          },
          "metadata": {
            "tags": []
          },
          "execution_count": 283
        }
      ]
    },
    {
      "cell_type": "markdown",
      "metadata": {
        "id": "IZ8UGWbRPFWy"
      },
      "source": [
        "**Pengurutan Cepat di NumPy: np.sort dan np.argsort** \n",
        "\n",
        "Meskipun Python memiliki fungsi pengurutan dan pengurutan bawaan untuk bekerja dengan daftar, kita tidak akan membahasnya di sini karena fungsi np.sort NumPy ternyata lebih efisien dan berguna untuk tujuan kita. Secara default np.sort menggunakan ᇭ N log N, algoritma quicksort, meskipun mergesort dan heapsort juga tersedia. Untuk sebagian besar aplikasi, quicksort default sudah lebih dari cukup."
      ]
    },
    {
      "cell_type": "code",
      "metadata": {
        "colab": {
          "base_uri": "https://localhost:8080/"
        },
        "id": "j_zYvUWtPGsK",
        "outputId": "811cde13-611f-4e06-de6a-f3ea59b66647"
      },
      "source": [
        "x = np.array([2, 1, 4, 3, 5])\n",
        "np.sort(x)"
      ],
      "execution_count": null,
      "outputs": [
        {
          "output_type": "execute_result",
          "data": {
            "text/plain": [
              "array([1, 2, 3, 4, 5])"
            ]
          },
          "metadata": {
            "tags": []
          },
          "execution_count": 284
        }
      ]
    },
    {
      "cell_type": "code",
      "metadata": {
        "colab": {
          "base_uri": "https://localhost:8080/"
        },
        "id": "BIYZ97c_PKXi",
        "outputId": "325f3b04-7461-4545-a9d8-fcb8776613cb"
      },
      "source": [
        "x.sort()\n",
        "print(x)"
      ],
      "execution_count": null,
      "outputs": [
        {
          "output_type": "stream",
          "text": [
            "[1 2 3 4 5]\n"
          ],
          "name": "stdout"
        }
      ]
    },
    {
      "cell_type": "code",
      "metadata": {
        "colab": {
          "base_uri": "https://localhost:8080/"
        },
        "id": "0Qf0wWltPOvy",
        "outputId": "901df955-0d56-4ba0-8703-3d8b08128fbb"
      },
      "source": [
        "x = np.array([2, 1, 4, 3, 5])\n",
        "i = np.argsort(x)\n",
        "print(i)"
      ],
      "execution_count": null,
      "outputs": [
        {
          "output_type": "stream",
          "text": [
            "[1 0 3 2 4]\n"
          ],
          "name": "stdout"
        }
      ]
    },
    {
      "cell_type": "code",
      "metadata": {
        "colab": {
          "base_uri": "https://localhost:8080/"
        },
        "id": "2P8SgMSmPVV2",
        "outputId": "41dde409-4d90-4533-83ad-e604b76e9eff"
      },
      "source": [
        "x[i]"
      ],
      "execution_count": null,
      "outputs": [
        {
          "output_type": "execute_result",
          "data": {
            "text/plain": [
              "array([1, 2, 3, 4, 5])"
            ]
          },
          "metadata": {
            "tags": []
          },
          "execution_count": 287
        }
      ]
    },
    {
      "cell_type": "markdown",
      "metadata": {
        "id": "eEY3dHUfPZUJ"
      },
      "source": [
        "**Menyortir sepanjang baris atau kolom**\n",
        "\n",
        "Fitur yang berguna dari algoritme pengurutan NumPy adalah kemampuan untuk mengurutkan sepanjang baris atau kolom tertentu dari array multidimensi menggunakan argumen sumbu. Sebagai contoh:"
      ]
    },
    {
      "cell_type": "code",
      "metadata": {
        "colab": {
          "base_uri": "https://localhost:8080/"
        },
        "id": "lcKXLVuMPclO",
        "outputId": "cd607280-d8f7-4dfb-d828-0f80c8f0ed8a"
      },
      "source": [
        "rand = np.random.RandomState(42)\n",
        "X = rand.randint(0, 10, (4, 6))\n",
        "print(X)"
      ],
      "execution_count": null,
      "outputs": [
        {
          "output_type": "stream",
          "text": [
            "[[6 3 7 4 6 9]\n",
            " [2 6 7 4 3 7]\n",
            " [7 2 5 4 1 7]\n",
            " [5 1 4 0 9 5]]\n"
          ],
          "name": "stdout"
        }
      ]
    },
    {
      "cell_type": "code",
      "metadata": {
        "colab": {
          "base_uri": "https://localhost:8080/"
        },
        "id": "k7RUYK54Pjk9",
        "outputId": "56517044-3c2f-4ac6-f43c-d874c942a53b"
      },
      "source": [
        "# sort each column of X\n",
        "np.sort(X, axis=0)"
      ],
      "execution_count": null,
      "outputs": [
        {
          "output_type": "execute_result",
          "data": {
            "text/plain": [
              "array([[2, 1, 4, 0, 1, 5],\n",
              "       [5, 2, 5, 4, 3, 7],\n",
              "       [6, 3, 7, 4, 6, 7],\n",
              "       [7, 6, 7, 4, 9, 9]])"
            ]
          },
          "metadata": {
            "tags": []
          },
          "execution_count": 289
        }
      ]
    },
    {
      "cell_type": "markdown",
      "metadata": {
        "id": "ppjzr-YlPoTJ"
      },
      "source": [
        "**Macam Parsial: Partisi**\n",
        "\n",
        "Terkadang kita tidak tertarik untuk mengurutkan seluruh array, tetapi hanya ingin mencari nilai K terkecil dalam array. NumPy menyediakan ini di fungsi np.partition.\n",
        "np.partition mengambil array dan angka K; hasilnya adalah array baru dengan nilai K terkecil di sebelah kiri partisi, dan nilai yang tersisa di sebelah kanan, dalam urutan yang sewenang-wenang:"
      ]
    },
    {
      "cell_type": "code",
      "metadata": {
        "colab": {
          "base_uri": "https://localhost:8080/"
        },
        "id": "E2a5pr8sPtO_",
        "outputId": "01471fde-f980-4b98-f397-d0b421a1d647"
      },
      "source": [
        "x = np.array([7, 2, 3, 1, 6, 5, 4])\n",
        "np.partition(x, 3)"
      ],
      "execution_count": null,
      "outputs": [
        {
          "output_type": "execute_result",
          "data": {
            "text/plain": [
              "array([2, 1, 3, 4, 6, 5, 7])"
            ]
          },
          "metadata": {
            "tags": []
          },
          "execution_count": 290
        }
      ]
    },
    {
      "cell_type": "code",
      "metadata": {
        "colab": {
          "base_uri": "https://localhost:8080/"
        },
        "id": "8__Ba-zmP8g6",
        "outputId": "4d265455-86a0-4c6b-88e0-2a69d315fbcd"
      },
      "source": [
        "np.partition(X, 2, axis=1)"
      ],
      "execution_count": null,
      "outputs": [
        {
          "output_type": "execute_result",
          "data": {
            "text/plain": [
              "array([[3, 4, 6, 7, 6, 9],\n",
              "       [2, 3, 4, 7, 6, 7],\n",
              "       [1, 2, 4, 5, 7, 7],\n",
              "       [0, 1, 4, 5, 9, 5]])"
            ]
          },
          "metadata": {
            "tags": []
          },
          "execution_count": 291
        }
      ]
    },
    {
      "cell_type": "markdown",
      "metadata": {
        "id": "PKXJwHs6QE0X"
      },
      "source": [
        "Example: \n",
        "\n",
        "Contoh: k-Nearest Neighbors\n",
        "Mari kita lihat dengan cepat bagaimana kita dapat menggunakan fungsi argsort ini di sepanjang beberapa sumbu untuk menemukan Nearest Neighbors dari setiap titik dalam suatu himpunan. Kita akan mulai dengan membuat kumpulan acak 10 titik pada bidang dua dimensi. Menggunakan konvensi standar, kami akan menyusunnya dalam larik 10 × 2:"
      ]
    },
    {
      "cell_type": "code",
      "metadata": {
        "id": "sZ7phRKRQGM4"
      },
      "source": [
        "X = rand.rand(10, 2)"
      ],
      "execution_count": null,
      "outputs": []
    },
    {
      "cell_type": "code",
      "metadata": {
        "colab": {
          "base_uri": "https://localhost:8080/",
          "height": 268
        },
        "id": "IHaRmdLFQLl3",
        "outputId": "ec12d593-85df-4eb0-ebf0-ab5cc60126bf"
      },
      "source": [
        "%matplotlib inline\n",
        "import matplotlib.pyplot as plt\n",
        "import seaborn; seaborn.set() # Plot styling\n",
        "plt.scatter(X[:, 0], X[:, 1], s=100);"
      ],
      "execution_count": null,
      "outputs": [
        {
          "output_type": "display_data",
          "data": {
            "image/png": "[encoded data removed]",
            "text/plain": [
              "<Figure size 432x288 with 1 Axes>"
            ]
          },
          "metadata": {
            "tags": []
          }
        }
      ]
    },
    {
      "cell_type": "markdown",
      "metadata": {
        "id": "OOTR765fpHiK"
      },
      "source": [
        "Sekarang kita hitung jarak tiap titik"
      ]
    },
    {
      "cell_type": "code",
      "metadata": {
        "id": "qtiYOIBBQR_L"
      },
      "source": [
        "dist_sq = np.sum((X[:,np.newaxis,:] - X[np.newaxis,:,:]) ** 2, axis=-1)"
      ],
      "execution_count": null,
      "outputs": []
    },
    {
      "cell_type": "code",
      "metadata": {
        "colab": {
          "base_uri": "https://localhost:8080/"
        },
        "id": "HZnL1DZTQXuV",
        "outputId": "c37eb430-00ef-4ca8-a1a8-e9d91c3644e7"
      },
      "source": [
        "# for each pair of points, compute differences in their coordinates\n",
        "differences = X[:, np.newaxis, :] - X[np.newaxis, :, :]\n",
        "differences.shape"
      ],
      "execution_count": null,
      "outputs": [
        {
          "output_type": "execute_result",
          "data": {
            "text/plain": [
              "(10, 10, 2)"
            ]
          },
          "metadata": {
            "tags": []
          },
          "execution_count": 296
        }
      ]
    },
    {
      "cell_type": "code",
      "metadata": {
        "colab": {
          "base_uri": "https://localhost:8080/"
        },
        "id": "0g-DTFoyQiSg",
        "outputId": "e9f9cf75-5f1e-40b0-fefd-3c962f0b9913"
      },
      "source": [
        " # square the coordinate differences\n",
        "sq_differences = differences ** 2\n",
        "sq_differences.shape"
      ],
      "execution_count": null,
      "outputs": [
        {
          "output_type": "execute_result",
          "data": {
            "text/plain": [
              "(10, 10, 2)"
            ]
          },
          "metadata": {
            "tags": []
          },
          "execution_count": 297
        }
      ]
    },
    {
      "cell_type": "code",
      "metadata": {
        "colab": {
          "base_uri": "https://localhost:8080/"
        },
        "id": "GTpOXGdsQlfI",
        "outputId": "f550824e-2dcf-48f0-8d6a-80b92c8ccb0f"
      },
      "source": [
        "# sum the coordinate differences to get the squared distance\n",
        "dist_sq = sq_differences.sum(-1)\n",
        "dist_sq.shape"
      ],
      "execution_count": null,
      "outputs": [
        {
          "output_type": "execute_result",
          "data": {
            "text/plain": [
              "(10, 10)"
            ]
          },
          "metadata": {
            "tags": []
          },
          "execution_count": 298
        }
      ]
    },
    {
      "cell_type": "code",
      "metadata": {
        "colab": {
          "base_uri": "https://localhost:8080/"
        },
        "id": "7ea6jAeyQvML",
        "outputId": "404ee089-ac45-4cce-8f29-a3506eaacb53"
      },
      "source": [
        "dist_sq.diagonal()"
      ],
      "execution_count": null,
      "outputs": [
        {
          "output_type": "execute_result",
          "data": {
            "text/plain": [
              "array([0., 0., 0., 0., 0., 0., 0., 0., 0., 0.])"
            ]
          },
          "metadata": {
            "tags": []
          },
          "execution_count": 299
        }
      ]
    },
    {
      "cell_type": "markdown",
      "metadata": {
        "id": "gd9IMjSlpWng"
      },
      "source": [
        "Dengan konversi jarak persegi berpasangan, sekarang kita dapat menggunakan pengurutan np.arg untuk mengurutkan setiap baris. Kolom paling kiri kemudian akan memberikan indeks tetangga terdekat:"
      ]
    },
    {
      "cell_type": "code",
      "metadata": {
        "colab": {
          "base_uri": "https://localhost:8080/"
        },
        "id": "_yUJH6E5Qx9s",
        "outputId": "51821315-4dff-4f16-a93e-ecb1621ad5d0"
      },
      "source": [
        "nearest = np.argsort(dist_sq, axis=1)\n",
        "print(nearest)"
      ],
      "execution_count": null,
      "outputs": [
        {
          "output_type": "stream",
          "text": [
            "[[0 3 9 7 1 4 2 5 6 8]\n",
            " [1 4 7 9 3 6 8 5 0 2]\n",
            " [2 1 4 6 3 0 8 9 7 5]\n",
            " [3 9 7 0 1 4 5 8 6 2]\n",
            " [4 1 8 5 6 7 9 3 0 2]\n",
            " [5 8 6 4 1 7 9 3 2 0]\n",
            " [6 8 5 4 1 7 9 3 2 0]\n",
            " [7 9 3 1 4 0 5 8 6 2]\n",
            " [8 5 6 4 1 7 9 3 2 0]\n",
            " [9 7 3 0 1 4 5 8 6 2]]\n"
          ],
          "name": "stdout"
        }
      ]
    },
    {
      "cell_type": "markdown",
      "metadata": {
        "id": "TlV0Na48pkCx"
      },
      "source": [
        "Jika kita hanya tertarik pada k-Nearest Neighbors, yang kita butuhkan hanyalah mempartisi setiap baris sehingga k + 1 jarak kuadrat terkecil muncul lebih dulu, dengan jarak yang lebih besar mengisi posisi yang tersisa dari array. Kita bisa melakukan ini dengan fungsi np.argpartition:"
      ]
    },
    {
      "cell_type": "code",
      "metadata": {
        "id": "gp3jQrsUQ23y"
      },
      "source": [
        " K = 2\n",
        "nearest_partition = np.argpartition(dist_sq, K + 1, axis=1)"
      ],
      "execution_count": null,
      "outputs": []
    },
    {
      "cell_type": "code",
      "metadata": {
        "colab": {
          "base_uri": "https://localhost:8080/",
          "height": 268
        },
        "id": "GTeqCJWnQ7zy",
        "outputId": "926f3edb-52c4-4485-b476-732c605d2d47"
      },
      "source": [
        "plt.scatter(X[:, 0], X[:, 1], s=100)\n",
        "# draw lines from each point to its two nearest neighbors\n",
        "K = 2\n",
        "\n",
        "for i in range(X.shape[0]):\n",
        "  for j in nearest_partition[i, :K+1]:\n",
        "    # plot a line from X[i] to X[j]\n",
        "    # use some zip magic to make it happen:\n",
        "    plt.plot(*zip(X[j], X[i]), color='black')"
      ],
      "execution_count": null,
      "outputs": [
        {
          "output_type": "display_data",
          "data": {
            "image/png": "[encoded data removed]",
            "text/plain": [
              "<Figure size 432x288 with 1 Axes>"
            ]
          },
          "metadata": {
            "tags": []
          }
        }
      ]
    },
    {
      "cell_type": "markdown",
      "metadata": {
        "id": "eAu3tGQNqEBq"
      },
      "source": [
        "Setiap titik di plot memiliki garis yang ditarik ke dua tetangga terdekatnya. Pada pandangan pertama, mungkin tampak aneh bahwa beberapa titik memiliki lebih dari dua garis yang keluar darinya: hal ini disebabkan oleh fakta bahwa jika titik A adalah salah satu dari dua tetangga terdekat dari titik B, ini tidak selalu berarti bahwa titik B adalah salah satu dari dua tetangga terdekat titik A."
      ]
    },
    {
      "cell_type": "markdown",
      "metadata": {
        "id": "WMrZ5KtVRaVQ"
      },
      "source": [
        "**Data Terstruktur: NumPy’s Structured Arrays**\n",
        "\n",
        "Bayangkan kita memiliki beberapa kategori data tentang sejumlah orang (katakanlah, nama, usia, dan berat badan), dan kita ingin menyimpan nilai ini untuk digunakan dalam program Python. Ini akan memungkinkan untuk menyimpan ini dalam tiga array yang terpisah:"
      ]
    },
    {
      "cell_type": "code",
      "metadata": {
        "id": "Y86EDf2eRblE"
      },
      "source": [
        "name = ['Alice', 'Bob', 'Cathy', 'Doug']\n",
        "age = [25, 45, 37, 19]\n",
        "weight = [55.0, 85.5, 68.0, 61.5]"
      ],
      "execution_count": null,
      "outputs": []
    },
    {
      "cell_type": "code",
      "metadata": {
        "id": "p8YP7REzRghK"
      },
      "source": [
        "x = np.zeros(4, dtype=int)"
      ],
      "execution_count": null,
      "outputs": []
    },
    {
      "cell_type": "markdown",
      "metadata": {
        "id": "pmHXPeKDqyww"
      },
      "source": [
        "Kita juga dapat membuat array terstruktur menggunakan spesifikasi tipe data gabungan:"
      ]
    },
    {
      "cell_type": "code",
      "metadata": {
        "colab": {
          "base_uri": "https://localhost:8080/"
        },
        "id": "pfzuQL8HRjQq",
        "outputId": "747020d5-b9e5-444d-c917-533adaa02c5e"
      },
      "source": [
        "# Use a compound data type for structured arrays\n",
        "data = np.zeros(4, dtype={'names':('name', 'age', 'weight'),\n",
        "                          'formats':('U10', 'i4', 'f8')})\n",
        "print(data.dtype)"
      ],
      "execution_count": null,
      "outputs": [
        {
          "output_type": "stream",
          "text": [
            "[('name', '<U10'), ('age', '<i4'), ('weight', '<f8')]\n"
          ],
          "name": "stdout"
        }
      ]
    },
    {
      "cell_type": "markdown",
      "metadata": {
        "id": "9RRJcQzXq8Iy"
      },
      "source": [
        "Sekarang setelah kita membuat array penampung kosong, kita bisa mengisi array dengan daftar nilai kita:"
      ]
    },
    {
      "cell_type": "code",
      "metadata": {
        "colab": {
          "base_uri": "https://localhost:8080/"
        },
        "id": "AwuOC-lGRqjS",
        "outputId": "63e34658-9466-4f09-f5b9-614dd96b9f14"
      },
      "source": [
        "data['name'] = name\n",
        "data['age'] = age\n",
        "data['weight'] = weight\n",
        "print(data)"
      ],
      "execution_count": null,
      "outputs": [
        {
          "output_type": "stream",
          "text": [
            "[('Alice', 25, 55. ) ('Bob', 45, 85.5) ('Cathy', 37, 68. )\n",
            " ('Doug', 19, 61.5)]\n"
          ],
          "name": "stdout"
        }
      ]
    },
    {
      "cell_type": "code",
      "metadata": {
        "colab": {
          "base_uri": "https://localhost:8080/"
        },
        "id": "blqs1LpDRwZs",
        "outputId": "970abcf4-f0b0-4958-e144-6de197dd496e"
      },
      "source": [
        "# Get all names\n",
        "data['name']"
      ],
      "execution_count": null,
      "outputs": [
        {
          "output_type": "execute_result",
          "data": {
            "text/plain": [
              "array(['Alice', 'Bob', 'Cathy', 'Doug'], dtype='<U10')"
            ]
          },
          "metadata": {
            "tags": []
          },
          "execution_count": 307
        }
      ]
    },
    {
      "cell_type": "code",
      "metadata": {
        "colab": {
          "base_uri": "https://localhost:8080/"
        },
        "id": "FZKRwgxJSG5i",
        "outputId": "67c5fdcd-b4e3-4da3-ef6d-44af0ef327d7"
      },
      "source": [
        "# Get first row of data\n",
        "data[0]"
      ],
      "execution_count": null,
      "outputs": [
        {
          "output_type": "execute_result",
          "data": {
            "text/plain": [
              "('Alice', 25, 55.)"
            ]
          },
          "metadata": {
            "tags": []
          },
          "execution_count": 308
        }
      ]
    },
    {
      "cell_type": "code",
      "metadata": {
        "colab": {
          "base_uri": "https://localhost:8080/",
          "height": 35
        },
        "id": "PW6Hm0hSSMZE",
        "outputId": "fed8e020-6af0-4f0d-f7c8-323cb448c9f8"
      },
      "source": [
        "# Get the name from the last row\n",
        "data[-1]['name']"
      ],
      "execution_count": null,
      "outputs": [
        {
          "output_type": "execute_result",
          "data": {
            "application/vnd.google.colaboratory.intrinsic+json": {
              "type": "string"
            },
            "text/plain": [
              "'Doug'"
            ]
          },
          "metadata": {
            "tags": []
          },
          "execution_count": 309
        }
      ]
    },
    {
      "cell_type": "code",
      "metadata": {
        "colab": {
          "base_uri": "https://localhost:8080/"
        },
        "id": "qogK1gxnSaqZ",
        "outputId": "5153a0d6-4843-4d65-ef36-b1565169ca31"
      },
      "source": [
        "# Get names where age is under 30\n",
        "data[data['age'] < 30]['name']"
      ],
      "execution_count": null,
      "outputs": [
        {
          "output_type": "execute_result",
          "data": {
            "text/plain": [
              "array(['Alice', 'Doug'], dtype='<U10')"
            ]
          },
          "metadata": {
            "tags": []
          },
          "execution_count": 310
        }
      ]
    },
    {
      "cell_type": "markdown",
      "metadata": {
        "id": "vH91-H24Sey2"
      },
      "source": [
        "**Membuat Array Terstruktur**\n",
        "\n",
        "Tipe data array terstruktur dapat ditentukan dengan beberapa cara."
      ]
    },
    {
      "cell_type": "code",
      "metadata": {
        "colab": {
          "base_uri": "https://localhost:8080/"
        },
        "id": "YhkoeWC6SkKa",
        "outputId": "b45f3250-cb1c-40e0-e266-e24cb61d5e0d"
      },
      "source": [
        "#1\n",
        "np.dtype({'names':('name', 'age', 'weight'),\n",
        "          'formats':('U10', 'i4', 'f8')})"
      ],
      "execution_count": null,
      "outputs": [
        {
          "output_type": "execute_result",
          "data": {
            "text/plain": [
              "dtype([('name', '<U10'), ('age', '<i4'), ('weight', '<f8')])"
            ]
          },
          "metadata": {
            "tags": []
          },
          "execution_count": 311
        }
      ]
    },
    {
      "cell_type": "code",
      "metadata": {
        "colab": {
          "base_uri": "https://localhost:8080/"
        },
        "id": "8mzyFNevSmR9",
        "outputId": "6058b90b-ca8a-45ef-eef7-a01410fecdc9"
      },
      "source": [
        "#2\n",
        "np.dtype({'names':('name', 'age', 'weight'),\n",
        "          'formats':((np.str_, 10), int, np.float32)})"
      ],
      "execution_count": null,
      "outputs": [
        {
          "output_type": "execute_result",
          "data": {
            "text/plain": [
              "dtype([('name', '<U10'), ('age', '<i8'), ('weight', '<f4')])"
            ]
          },
          "metadata": {
            "tags": []
          },
          "execution_count": 312
        }
      ]
    },
    {
      "cell_type": "code",
      "metadata": {
        "colab": {
          "base_uri": "https://localhost:8080/"
        },
        "id": "ufHS8IRESvU9",
        "outputId": "58d85de4-b0a6-42ea-de5b-8c960fef711f"
      },
      "source": [
        "#3\n",
        "np.dtype([('name', 'S10'), ('age', 'i4'), ('weight', 'f8')])"
      ],
      "execution_count": null,
      "outputs": [
        {
          "output_type": "execute_result",
          "data": {
            "text/plain": [
              "dtype([('name', 'S10'), ('age', '<i4'), ('weight', '<f8')])"
            ]
          },
          "metadata": {
            "tags": []
          },
          "execution_count": 313
        }
      ]
    },
    {
      "cell_type": "code",
      "metadata": {
        "colab": {
          "base_uri": "https://localhost:8080/"
        },
        "id": "hEPh5YgaS0Ii",
        "outputId": "5646aa4c-60fa-453e-95ad-c14c9f008aac"
      },
      "source": [
        "#4\n",
        "np.dtype('S10,i4,f8')"
      ],
      "execution_count": null,
      "outputs": [
        {
          "output_type": "execute_result",
          "data": {
            "text/plain": [
              "dtype([('f0', 'S10'), ('f1', '<i4'), ('f2', '<f8')])"
            ]
          },
          "metadata": {
            "tags": []
          },
          "execution_count": 314
        }
      ]
    },
    {
      "cell_type": "markdown",
      "metadata": {
        "id": "PEYubHcSS46V"
      },
      "source": [
        "**More Advanced Compound Types**\n",
        "\n",
        "Dimungkinkan untuk mendefinisikan tipe gabungan yang lebih maju. Misalnya, kita bisa membuat tipe di mana setiap elemen berisi array atau matriks nilai. Di sini, kita akan membuat tipe data dengan komponen mat yang terdiri dari matriks 3 x 3 floating-points:"
      ]
    },
    {
      "cell_type": "code",
      "metadata": {
        "colab": {
          "base_uri": "https://localhost:8080/"
        },
        "id": "BILMpk_uS7Xn",
        "outputId": "793333b9-2027-449f-88e5-da331c3218e1"
      },
      "source": [
        "tp = np.dtype([('id', 'i8'), ('mat', 'f8', (3, 3))])\n",
        "X = np.zeros(1, dtype=tp)\n",
        "print(X[0])\n",
        "print(X['mat'][0])"
      ],
      "execution_count": null,
      "outputs": [
        {
          "output_type": "stream",
          "text": [
            "(0, [[0., 0., 0.], [0., 0., 0.], [0., 0., 0.]])\n",
            "[[0. 0. 0.]\n",
            " [0. 0. 0.]\n",
            " [0. 0. 0.]]\n"
          ],
          "name": "stdout"
        }
      ]
    },
    {
      "cell_type": "markdown",
      "metadata": {
        "id": "sakgwD0yTC5A"
      },
      "source": [
        "**RecordArrays: Array Terstruktur dengan Twist**\n",
        "\n",
        "NumPy juga menyediakan kelas np.recarray, yang hampir identik dengan array terstruktur yang baru saja dijelaskan, tetapi dengan satu fitur tambahan: field dapat diakses sebagai atribut daripada sebagai kunci kamus. Ingatlah bahwa kita sebelumnya mengakses usia\n",
        "dengan menulis:"
      ]
    },
    {
      "cell_type": "code",
      "metadata": {
        "colab": {
          "base_uri": "https://localhost:8080/"
        },
        "id": "yVOthH55TA2D",
        "outputId": "231abd3e-c54b-496a-9110-e05d3dd4e327"
      },
      "source": [
        "data['age']"
      ],
      "execution_count": null,
      "outputs": [
        {
          "output_type": "execute_result",
          "data": {
            "text/plain": [
              "array([25, 45, 37, 19], dtype=int32)"
            ]
          },
          "metadata": {
            "tags": []
          },
          "execution_count": 316
        }
      ]
    },
    {
      "cell_type": "markdown",
      "metadata": {
        "id": "KKJ08OgTsg_V"
      },
      "source": [
        "Jika kita melihat data kita sebagai array record, kita dapat mengakses ini dengan lebih sedikit keystroke:"
      ]
    },
    {
      "cell_type": "code",
      "metadata": {
        "colab": {
          "base_uri": "https://localhost:8080/"
        },
        "id": "Cv1qhOVRTLxe",
        "outputId": "c1385b0a-7bf6-45db-f74e-a4412cd84232"
      },
      "source": [
        "data_rec = data.view(np.recarray)\n",
        "data_rec.age"
      ],
      "execution_count": null,
      "outputs": [
        {
          "output_type": "execute_result",
          "data": {
            "text/plain": [
              "array([25, 45, 37, 19], dtype=int32)"
            ]
          },
          "metadata": {
            "tags": []
          },
          "execution_count": 317
        }
      ]
    },
    {
      "cell_type": "markdown",
      "metadata": {
        "id": "X3ssNVrmsxsS"
      },
      "source": [
        "Sisi negatifnya untuk array record, ada beberapa overhead tambahan yang terlibat dalam mengakses field, bahkan ketika menggunakan sintaks yang sama. Kita bisa melihat ini di sini:"
      ]
    },
    {
      "cell_type": "code",
      "metadata": {
        "colab": {
          "base_uri": "https://localhost:8080/"
        },
        "id": "csHWHbItTPvk",
        "outputId": "2a8f8f4e-c248-4537-c93a-9dd6fd749c68"
      },
      "source": [
        "%timeit data['age']\n",
        "%timeit data_rec['age']\n",
        "%timeit data_rec.age"
      ],
      "execution_count": null,
      "outputs": [
        {
          "output_type": "stream",
          "text": [
            "The slowest run took 72.16 times longer than the fastest. This could mean that an intermediate result is being cached.\n",
            "1000000 loops, best of 5: 226 ns per loop\n",
            "The slowest run took 8.71 times longer than the fastest. This could mean that an intermediate result is being cached.\n",
            "100000 loops, best of 5: 3.06 µs per loop\n",
            "The slowest run took 7.47 times longer than the fastest. This could mean that an intermediate result is being cached.\n",
            "100000 loops, best of 5: 3.93 µs per loop\n"
          ],
          "name": "stdout"
        }
      ]
    }
  ]
}