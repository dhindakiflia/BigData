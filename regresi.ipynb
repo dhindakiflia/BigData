{
  "nbformat": 4,
  "nbformat_minor": 0,
  "metadata": {
    "colab": {
      "name": "regresi.ipynb",
      "provenance": [],
      "collapsed_sections": [],
      "authorship_tag": "ABX9TyOeWwOmPVYlEKwH/tTNHqwM",
      "include_colab_link": true
    },
    "kernelspec": {
      "name": "python3",
      "display_name": "Python 3"
    },
    "language_info": {
      "name": "python"
    }
  },
  "cells": [
    {
      "cell_type": "markdown",
      "metadata": {
        "id": "view-in-github",
        "colab_type": "text"
      },
      "source": [
        "<a href=\"https://colab.research.google.com/github/dhindakiflia/BigData/blob/main/regresi.ipynb\" target=\"_parent\"><img src=\"https://colab.research.google.com/assets/colab-badge.svg\" alt=\"Open In Colab\"/></a>"
      ]
    },
    {
      "cell_type": "markdown",
      "metadata": {
        "id": "9NgjaTFgGSSj"
      },
      "source": [
        "Regresi Linear Sederhana"
      ]
    },
    {
      "cell_type": "code",
      "metadata": {
        "id": "zy362tRr24OB"
      },
      "source": [
        "import pandas as pd\n",
        "import numpy as np\n",
        "import matplotlib.pyplot as plt"
      ],
      "execution_count": null,
      "outputs": []
    },
    {
      "cell_type": "code",
      "metadata": {
        "id": "pkmlqv0g3uZo"
      },
      "source": [
        "df = pd.read_csv('../content/sample_data/prices-split-adjusted.csv')"
      ],
      "execution_count": null,
      "outputs": []
    },
    {
      "cell_type": "code",
      "metadata": {
        "colab": {
          "base_uri": "https://localhost:8080/",
          "height": 589
        },
        "id": "z7iVPYzn9g5T",
        "outputId": "9f790918-0eac-465c-95cc-db0b7d0cd854"
      },
      "source": [
        "df"
      ],
      "execution_count": null,
      "outputs": [
        {
          "output_type": "execute_result",
          "data": {
            "text/html": [
              "<div>\n",
              "<style scoped>\n",
              "    .dataframe tbody tr th:only-of-type {\n",
              "        vertical-align: middle;\n",
              "    }\n",
              "\n",
              "    .dataframe tbody tr th {\n",
              "        vertical-align: top;\n",
              "    }\n",
              "\n",
              "    .dataframe thead th {\n",
              "        text-align: right;\n",
              "    }\n",
              "</style>\n",
              "<table border=\"1\" class=\"dataframe\">\n",
              "  <thead>\n",
              "    <tr style=\"text-align: right;\">\n",
              "      <th></th>\n",
              "      <th>date</th>\n",
              "      <th>symbol</th>\n",
              "      <th>open</th>\n",
              "      <th>close</th>\n",
              "      <th>low</th>\n",
              "      <th>high</th>\n",
              "      <th>volume</th>\n",
              "    </tr>\n",
              "  </thead>\n",
              "  <tbody>\n",
              "    <tr>\n",
              "      <th>0</th>\n",
              "      <td>2016-01-05</td>\n",
              "      <td>WLTW</td>\n",
              "      <td>123.430000</td>\n",
              "      <td>125.839996</td>\n",
              "      <td>122.309998</td>\n",
              "      <td>126.250000</td>\n",
              "      <td>2163600.0</td>\n",
              "    </tr>\n",
              "    <tr>\n",
              "      <th>1</th>\n",
              "      <td>2016-01-06</td>\n",
              "      <td>WLTW</td>\n",
              "      <td>125.239998</td>\n",
              "      <td>119.980003</td>\n",
              "      <td>119.940002</td>\n",
              "      <td>125.540001</td>\n",
              "      <td>2386400.0</td>\n",
              "    </tr>\n",
              "    <tr>\n",
              "      <th>2</th>\n",
              "      <td>2016-01-07</td>\n",
              "      <td>WLTW</td>\n",
              "      <td>116.379997</td>\n",
              "      <td>114.949997</td>\n",
              "      <td>114.930000</td>\n",
              "      <td>119.739998</td>\n",
              "      <td>2489500.0</td>\n",
              "    </tr>\n",
              "    <tr>\n",
              "      <th>3</th>\n",
              "      <td>2016-01-08</td>\n",
              "      <td>WLTW</td>\n",
              "      <td>115.480003</td>\n",
              "      <td>116.620003</td>\n",
              "      <td>113.500000</td>\n",
              "      <td>117.440002</td>\n",
              "      <td>2006300.0</td>\n",
              "    </tr>\n",
              "    <tr>\n",
              "      <th>4</th>\n",
              "      <td>2016-01-11</td>\n",
              "      <td>WLTW</td>\n",
              "      <td>117.010002</td>\n",
              "      <td>114.970001</td>\n",
              "      <td>114.089996</td>\n",
              "      <td>117.330002</td>\n",
              "      <td>1408600.0</td>\n",
              "    </tr>\n",
              "    <tr>\n",
              "      <th>...</th>\n",
              "      <td>...</td>\n",
              "      <td>...</td>\n",
              "      <td>...</td>\n",
              "      <td>...</td>\n",
              "      <td>...</td>\n",
              "      <td>...</td>\n",
              "      <td>...</td>\n",
              "    </tr>\n",
              "    <tr>\n",
              "      <th>51305</th>\n",
              "      <td>2010-06-10</td>\n",
              "      <td>AEE</td>\n",
              "      <td>24.049999</td>\n",
              "      <td>24.250000</td>\n",
              "      <td>23.889999</td>\n",
              "      <td>24.260000</td>\n",
              "      <td>2285000.0</td>\n",
              "    </tr>\n",
              "    <tr>\n",
              "      <th>51306</th>\n",
              "      <td>2010-06-10</td>\n",
              "      <td>AEP</td>\n",
              "      <td>32.259998</td>\n",
              "      <td>32.680000</td>\n",
              "      <td>32.110001</td>\n",
              "      <td>32.730000</td>\n",
              "      <td>5458500.0</td>\n",
              "    </tr>\n",
              "    <tr>\n",
              "      <th>51307</th>\n",
              "      <td>2010-06-10</td>\n",
              "      <td>AES</td>\n",
              "      <td>10.050000</td>\n",
              "      <td>10.360000</td>\n",
              "      <td>10.040000</td>\n",
              "      <td>10.440000</td>\n",
              "      <td>10847200.0</td>\n",
              "    </tr>\n",
              "    <tr>\n",
              "      <th>51308</th>\n",
              "      <td>2010-06-10</td>\n",
              "      <td>AET</td>\n",
              "      <td>29.110001</td>\n",
              "      <td>28.850000</td>\n",
              "      <td>28.670000</td>\n",
              "      <td>29.200001</td>\n",
              "      <td>6697500.0</td>\n",
              "    </tr>\n",
              "    <tr>\n",
              "      <th>51309</th>\n",
              "      <td>2010-06-10</td>\n",
              "      <td>AFL</td>\n",
              "      <td>41.910000</td>\n",
              "      <td>42.779990</td>\n",
              "      <td>NaN</td>\n",
              "      <td>NaN</td>\n",
              "      <td>NaN</td>\n",
              "    </tr>\n",
              "  </tbody>\n",
              "</table>\n",
              "<p>51310 rows × 7 columns</p>\n",
              "</div>"
            ],
            "text/plain": [
              "             date symbol        open  ...         low        high      volume\n",
              "0      2016-01-05   WLTW  123.430000  ...  122.309998  126.250000   2163600.0\n",
              "1      2016-01-06   WLTW  125.239998  ...  119.940002  125.540001   2386400.0\n",
              "2      2016-01-07   WLTW  116.379997  ...  114.930000  119.739998   2489500.0\n",
              "3      2016-01-08   WLTW  115.480003  ...  113.500000  117.440002   2006300.0\n",
              "4      2016-01-11   WLTW  117.010002  ...  114.089996  117.330002   1408600.0\n",
              "...           ...    ...         ...  ...         ...         ...         ...\n",
              "51305  2010-06-10    AEE   24.049999  ...   23.889999   24.260000   2285000.0\n",
              "51306  2010-06-10    AEP   32.259998  ...   32.110001   32.730000   5458500.0\n",
              "51307  2010-06-10    AES   10.050000  ...   10.040000   10.440000  10847200.0\n",
              "51308  2010-06-10    AET   29.110001  ...   28.670000   29.200001   6697500.0\n",
              "51309  2010-06-10    AFL   41.910000  ...         NaN         NaN         NaN\n",
              "\n",
              "[51310 rows x 7 columns]"
            ]
          },
          "metadata": {
            "tags": []
          },
          "execution_count": 4
        }
      ]
    },
    {
      "cell_type": "code",
      "metadata": {
        "colab": {
          "base_uri": "https://localhost:8080/",
          "height": 589
        },
        "id": "PPRcQd845B1Y",
        "outputId": "c11f5e1d-9e19-4c22-96dc-d7d854699d26"
      },
      "source": [
        "data=df.dropna()\n",
        "data"
      ],
      "execution_count": null,
      "outputs": [
        {
          "output_type": "execute_result",
          "data": {
            "text/html": [
              "<div>\n",
              "<style scoped>\n",
              "    .dataframe tbody tr th:only-of-type {\n",
              "        vertical-align: middle;\n",
              "    }\n",
              "\n",
              "    .dataframe tbody tr th {\n",
              "        vertical-align: top;\n",
              "    }\n",
              "\n",
              "    .dataframe thead th {\n",
              "        text-align: right;\n",
              "    }\n",
              "</style>\n",
              "<table border=\"1\" class=\"dataframe\">\n",
              "  <thead>\n",
              "    <tr style=\"text-align: right;\">\n",
              "      <th></th>\n",
              "      <th>date</th>\n",
              "      <th>symbol</th>\n",
              "      <th>open</th>\n",
              "      <th>close</th>\n",
              "      <th>low</th>\n",
              "      <th>high</th>\n",
              "      <th>volume</th>\n",
              "    </tr>\n",
              "  </thead>\n",
              "  <tbody>\n",
              "    <tr>\n",
              "      <th>0</th>\n",
              "      <td>2016-01-05</td>\n",
              "      <td>WLTW</td>\n",
              "      <td>123.430000</td>\n",
              "      <td>125.839996</td>\n",
              "      <td>122.309998</td>\n",
              "      <td>126.250000</td>\n",
              "      <td>2163600.0</td>\n",
              "    </tr>\n",
              "    <tr>\n",
              "      <th>1</th>\n",
              "      <td>2016-01-06</td>\n",
              "      <td>WLTW</td>\n",
              "      <td>125.239998</td>\n",
              "      <td>119.980003</td>\n",
              "      <td>119.940002</td>\n",
              "      <td>125.540001</td>\n",
              "      <td>2386400.0</td>\n",
              "    </tr>\n",
              "    <tr>\n",
              "      <th>2</th>\n",
              "      <td>2016-01-07</td>\n",
              "      <td>WLTW</td>\n",
              "      <td>116.379997</td>\n",
              "      <td>114.949997</td>\n",
              "      <td>114.930000</td>\n",
              "      <td>119.739998</td>\n",
              "      <td>2489500.0</td>\n",
              "    </tr>\n",
              "    <tr>\n",
              "      <th>3</th>\n",
              "      <td>2016-01-08</td>\n",
              "      <td>WLTW</td>\n",
              "      <td>115.480003</td>\n",
              "      <td>116.620003</td>\n",
              "      <td>113.500000</td>\n",
              "      <td>117.440002</td>\n",
              "      <td>2006300.0</td>\n",
              "    </tr>\n",
              "    <tr>\n",
              "      <th>4</th>\n",
              "      <td>2016-01-11</td>\n",
              "      <td>WLTW</td>\n",
              "      <td>117.010002</td>\n",
              "      <td>114.970001</td>\n",
              "      <td>114.089996</td>\n",
              "      <td>117.330002</td>\n",
              "      <td>1408600.0</td>\n",
              "    </tr>\n",
              "    <tr>\n",
              "      <th>...</th>\n",
              "      <td>...</td>\n",
              "      <td>...</td>\n",
              "      <td>...</td>\n",
              "      <td>...</td>\n",
              "      <td>...</td>\n",
              "      <td>...</td>\n",
              "      <td>...</td>\n",
              "    </tr>\n",
              "    <tr>\n",
              "      <th>51304</th>\n",
              "      <td>2010-06-10</td>\n",
              "      <td>ADSK</td>\n",
              "      <td>26.889999</td>\n",
              "      <td>27.400000</td>\n",
              "      <td>26.620001</td>\n",
              "      <td>27.450001</td>\n",
              "      <td>3901400.0</td>\n",
              "    </tr>\n",
              "    <tr>\n",
              "      <th>51305</th>\n",
              "      <td>2010-06-10</td>\n",
              "      <td>AEE</td>\n",
              "      <td>24.049999</td>\n",
              "      <td>24.250000</td>\n",
              "      <td>23.889999</td>\n",
              "      <td>24.260000</td>\n",
              "      <td>2285000.0</td>\n",
              "    </tr>\n",
              "    <tr>\n",
              "      <th>51306</th>\n",
              "      <td>2010-06-10</td>\n",
              "      <td>AEP</td>\n",
              "      <td>32.259998</td>\n",
              "      <td>32.680000</td>\n",
              "      <td>32.110001</td>\n",
              "      <td>32.730000</td>\n",
              "      <td>5458500.0</td>\n",
              "    </tr>\n",
              "    <tr>\n",
              "      <th>51307</th>\n",
              "      <td>2010-06-10</td>\n",
              "      <td>AES</td>\n",
              "      <td>10.050000</td>\n",
              "      <td>10.360000</td>\n",
              "      <td>10.040000</td>\n",
              "      <td>10.440000</td>\n",
              "      <td>10847200.0</td>\n",
              "    </tr>\n",
              "    <tr>\n",
              "      <th>51308</th>\n",
              "      <td>2010-06-10</td>\n",
              "      <td>AET</td>\n",
              "      <td>29.110001</td>\n",
              "      <td>28.850000</td>\n",
              "      <td>28.670000</td>\n",
              "      <td>29.200001</td>\n",
              "      <td>6697500.0</td>\n",
              "    </tr>\n",
              "  </tbody>\n",
              "</table>\n",
              "<p>51309 rows × 7 columns</p>\n",
              "</div>"
            ],
            "text/plain": [
              "             date symbol        open  ...         low        high      volume\n",
              "0      2016-01-05   WLTW  123.430000  ...  122.309998  126.250000   2163600.0\n",
              "1      2016-01-06   WLTW  125.239998  ...  119.940002  125.540001   2386400.0\n",
              "2      2016-01-07   WLTW  116.379997  ...  114.930000  119.739998   2489500.0\n",
              "3      2016-01-08   WLTW  115.480003  ...  113.500000  117.440002   2006300.0\n",
              "4      2016-01-11   WLTW  117.010002  ...  114.089996  117.330002   1408600.0\n",
              "...           ...    ...         ...  ...         ...         ...         ...\n",
              "51304  2010-06-10   ADSK   26.889999  ...   26.620001   27.450001   3901400.0\n",
              "51305  2010-06-10    AEE   24.049999  ...   23.889999   24.260000   2285000.0\n",
              "51306  2010-06-10    AEP   32.259998  ...   32.110001   32.730000   5458500.0\n",
              "51307  2010-06-10    AES   10.050000  ...   10.040000   10.440000  10847200.0\n",
              "51308  2010-06-10    AET   29.110001  ...   28.670000   29.200001   6697500.0\n",
              "\n",
              "[51309 rows x 7 columns]"
            ]
          },
          "metadata": {
            "tags": []
          },
          "execution_count": 5
        }
      ]
    },
    {
      "cell_type": "code",
      "metadata": {
        "colab": {
          "base_uri": "https://localhost:8080/"
        },
        "id": "RO8v3MKH89Aj",
        "outputId": "1a91af3b-8c7f-42f4-972c-ff8c29070f0f"
      },
      "source": [
        "data.isnull().values.any()"
      ],
      "execution_count": null,
      "outputs": [
        {
          "output_type": "execute_result",
          "data": {
            "text/plain": [
              "False"
            ]
          },
          "metadata": {
            "tags": []
          },
          "execution_count": 6
        }
      ]
    },
    {
      "cell_type": "code",
      "metadata": {
        "id": "Zv6di2Ho-9iO"
      },
      "source": [
        "x = data[['close']]\n",
        "y = data['high']"
      ],
      "execution_count": null,
      "outputs": []
    },
    {
      "cell_type": "code",
      "metadata": {
        "id": "LbusCydN5Daz"
      },
      "source": [
        "from sklearn.model_selection import train_test_split\n",
        "x_train, x_test, y_train, y_test = train_test_split(x,\n",
        "                                                    y,\n",
        "                                                    test_size = 0.2,\n",
        "                                                    random_state = 0)\n"
      ],
      "execution_count": null,
      "outputs": []
    },
    {
      "cell_type": "code",
      "metadata": {
        "colab": {
          "base_uri": "https://localhost:8080/"
        },
        "id": "cLuiYXXS5JWC",
        "outputId": "7825a84b-0960-4e29-ae9e-71caab730021"
      },
      "source": [
        "from sklearn.linear_model import LinearRegression\n",
        "a = LinearRegression()\n",
        "a.fit(x_train, y_train)\n"
      ],
      "execution_count": null,
      "outputs": [
        {
          "output_type": "execute_result",
          "data": {
            "text/plain": [
              "LinearRegression(copy_X=True, fit_intercept=True, n_jobs=None, normalize=False)"
            ]
          },
          "metadata": {
            "tags": []
          },
          "execution_count": 9
        }
      ]
    },
    {
      "cell_type": "code",
      "metadata": {
        "colab": {
          "base_uri": "https://localhost:8080/"
        },
        "id": "AiAZf7mJ5zYM",
        "outputId": "274149e5-f1cb-418a-e067-251b9efe6ab7"
      },
      "source": [
        "y_pred = a.predict(x_test)\n",
        "y_pred"
      ],
      "execution_count": null,
      "outputs": [
        {
          "output_type": "execute_result",
          "data": {
            "text/plain": [
              "array([39.71623726, 45.22114404, 70.09442888, ..., 41.99308373,\n",
              "       12.06014006, 11.24047533])"
            ]
          },
          "metadata": {
            "tags": []
          },
          "execution_count": 10
        }
      ]
    },
    {
      "cell_type": "code",
      "metadata": {
        "colab": {
          "base_uri": "https://localhost:8080/",
          "height": 279
        },
        "id": "Yp10W7M7-Caz",
        "outputId": "099b5258-d6f2-4ca7-d3a3-90bf9ca22295"
      },
      "source": [
        "plt.scatter(x_train, y_train, color = 'red')\n",
        "plt.plot(x_train, a.predict(x_train), color='blue')\n",
        "plt.xlabel('close')\n",
        "plt.ylabel('high')\n",
        "plt.show()"
      ],
      "execution_count": null,
      "outputs": [
        {
          "output_type": "display_data",
          "data": {
            "image/png": "[encoded data removed]",
            "text/plain": [
              "<Figure size 432x288 with 1 Axes>"
            ]
          },
          "metadata": {
            "tags": [],
            "needs_background": "light"
          }
        }
      ]
    },
    {
      "cell_type": "markdown",
      "metadata": {
        "id": "aKkzA_aeIj19"
      },
      "source": [
        "Regresi Linear Berganda"
      ]
    },
    {
      "cell_type": "code",
      "metadata": {
        "id": "v-TQiEVXIeyy"
      },
      "source": [
        "x1 = data[['open','close','low','volume']]\n",
        "y1 = data['high']"
      ],
      "execution_count": 12,
      "outputs": []
    },
    {
      "cell_type": "code",
      "metadata": {
        "id": "Wn7w69lTI5Dm"
      },
      "source": [
        "from sklearn.model_selection import train_test_split\n",
        "x1_train, x1_test, y1_train, y1_test = train_test_split(x1,\n",
        "                                                    y1,\n",
        "                                                    test_size = 0.2,\n",
        "                                                    random_state = 0)"
      ],
      "execution_count": 13,
      "outputs": []
    },
    {
      "cell_type": "code",
      "metadata": {
        "colab": {
          "base_uri": "https://localhost:8080/"
        },
        "id": "6lFdSjQUJBJP",
        "outputId": "15b42daf-47b1-4b89-9b4d-30ba2804b98b"
      },
      "source": [
        "from sklearn.linear_model import LinearRegression\n",
        "b = LinearRegression()\n",
        "b.fit(x1_train, y1_train)"
      ],
      "execution_count": 14,
      "outputs": [
        {
          "output_type": "execute_result",
          "data": {
            "text/plain": [
              "LinearRegression(copy_X=True, fit_intercept=True, n_jobs=None, normalize=False)"
            ]
          },
          "metadata": {
            "tags": []
          },
          "execution_count": 14
        }
      ]
    },
    {
      "cell_type": "code",
      "metadata": {
        "colab": {
          "base_uri": "https://localhost:8080/"
        },
        "id": "PTrcZUu0JF41",
        "outputId": "89fc295a-d267-4221-8c74-e3f17ec77e7d"
      },
      "source": [
        "y1_pred = b.predict(x1_test)\n",
        "y1_pred"
      ],
      "execution_count": 18,
      "outputs": [
        {
          "output_type": "execute_result",
          "data": {
            "text/plain": [
              "array([39.78637266, 45.0005219 , 69.25263987, ..., 42.17900255,\n",
              "       12.72543332, 11.30063883])"
            ]
          },
          "metadata": {
            "tags": []
          },
          "execution_count": 18
        }
      ]
    },
    {
      "cell_type": "code",
      "metadata": {
        "colab": {
          "base_uri": "https://localhost:8080/",
          "height": 279
        },
        "id": "2X1MrgI5JNZu",
        "outputId": "c659a2b3-36b0-4d28-883f-a52176177f09"
      },
      "source": [
        "plt.scatter(x_train, y_train, color = 'red')\n",
        "plt.plot(x_train, a.predict(x_train), color='blue')\n",
        "plt.xlabel('x')\n",
        "plt.ylabel('high')\n",
        "plt.show()"
      ],
      "execution_count": 19,
      "outputs": [
        {
          "output_type": "display_data",
          "data": {
            "image/png": "[encoded data removed]",
            "text/plain": [
              "<Figure size 432x288 with 1 Axes>"
            ]
          },
          "metadata": {
            "tags": [],
            "needs_background": "light"
          }
        }
      ]
    }
  ]
}